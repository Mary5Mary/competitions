{
 "cells": [
  {
   "cell_type": "markdown",
   "metadata": {},
   "source": [
    "A. Театральный сезон и телефоны\n",
    "Международный сервис по продаже билетов решил подвести итоги театрального сезона. В качестве одной из метрик руководитель проекта хочет посчитать количество пользователей, которые покупали билеты на разные спектакли.\n",
    "При покупке билета пользователь указывает номер своего телефона. Необходимо найти спектакль с наибольшим числом уникальных телефонных номеров. И посчитать количество соответствующих уникальных телефонных номеров.\n",
    "Зарегистрироваться на направление Аналитика и другие треки чемпионата вы можете на сайте Yandex Cup.\n",
    "\n",
    "Формат ввода\n",
    "Логи покупок доступны в файле ticket_logs.csv. В первом столбце название спектакля из базы сервиса. Во втором - номер телефона, который оставил пользователь при покупке. Отметим, что в целях конспирации телефонные коды стран заменены на необслуживаемые в настоящий момент зоны.\n",
    "Формат вывода\n",
    "Число уникальных номеров.\n",
    "Скачать условие задачи"
   ]
  },
  {
   "cell_type": "code",
   "execution_count": 88,
   "metadata": {},
   "outputs": [],
   "source": [
    "import pandas as pd\n",
    "import numpy as np\n",
    "import matplotlib.pyplot as plt\n",
    "import seaborn as sns\n",
    "from sklearn.model_selection import train_test_split\n",
    "from sklearn.tree import DecisionTreeClassifier\n",
    "from sklearn.linear_model import LogisticRegression\n",
    "from sklearn.ensemble import RandomForestClassifier\n",
    "from sklearn.preprocessing import StandardScaler \n",
    "from sklearn.utils import shuffle\n",
    "from sklearn.metrics import mean_absolute_error\n",
    "from sklearn.metrics import accuracy_score, roc_curve, f1_score, precision_score, recall_score, roc_auc_score, confusion_matrix\n",
    "\n",
    "\n",
    "import re\n",
    " "
   ]
  },
  {
   "cell_type": "code",
   "execution_count": 82,
   "metadata": {},
   "outputs": [],
   "source": [
    "df = pd.read_csv('ticket_logs.csv', names=['name', 'tel'])\n"
   ]
  },
  {
   "cell_type": "code",
   "execution_count": 13,
   "metadata": {},
   "outputs": [
    {
     "name": "stdout",
     "output_type": "stream",
     "text": [
      "['Todd' 'Аида' 'Баядерка' 'Вестсайдская история' 'Волшебная флейта'\n",
      " 'Дон Кихот' 'Евгений Онегин' 'Жизель' 'Кармен' 'Кошки' 'Ла-Ла Ленд'\n",
      " 'Лебединое озеро' 'Норма' 'Нотр-Дам де Пари' 'Ночь перед Рождеством'\n",
      " 'Риголетто' 'Ромео и Джульетта' 'Свадьба Фигаро' 'Севильский цирюльник'\n",
      " 'Спартак' 'Спящая красавица' 'Травиата' 'Чикаго' 'Щелкунчик'\n",
      " 'Юнона и Авось']\n"
     ]
    }
   ],
   "source": [
    "print(df['name'].sort_values().unique())"
   ]
  },
  {
   "cell_type": "code",
   "execution_count": 101,
   "metadata": {},
   "outputs": [],
   "source": [
    "def tels(df):\n",
    "    test = df['tel']\n",
    "    res = re.sub(\"\\D\", \"\", test)\n",
    "    return res\n"
   ]
  },
  {
   "cell_type": "code",
   "execution_count": 102,
   "metadata": {},
   "outputs": [],
   "source": [
    "df['tel1']=df.apply(tels, axis=1)"
   ]
  },
  {
   "cell_type": "code",
   "execution_count": 103,
   "metadata": {},
   "outputs": [
    {
     "data": {
      "text/html": [
       "<div>\n",
       "<style scoped>\n",
       "    .dataframe tbody tr th:only-of-type {\n",
       "        vertical-align: middle;\n",
       "    }\n",
       "\n",
       "    .dataframe tbody tr th {\n",
       "        vertical-align: top;\n",
       "    }\n",
       "\n",
       "    .dataframe thead th {\n",
       "        text-align: right;\n",
       "    }\n",
       "</style>\n",
       "<table border=\"1\" class=\"dataframe\">\n",
       "  <thead>\n",
       "    <tr style=\"text-align: right;\">\n",
       "      <th></th>\n",
       "      <th>name</th>\n",
       "      <th>tel</th>\n",
       "      <th>tel1</th>\n",
       "    </tr>\n",
       "  </thead>\n",
       "  <tbody>\n",
       "    <tr>\n",
       "      <th>0</th>\n",
       "      <td>Кошки</td>\n",
       "      <td>+88029264576</td>\n",
       "      <td>88029264576</td>\n",
       "    </tr>\n",
       "    <tr>\n",
       "      <th>1</th>\n",
       "      <td>Норма</td>\n",
       "      <td>8805-630-71-19</td>\n",
       "      <td>88056307119</td>\n",
       "    </tr>\n",
       "    <tr>\n",
       "      <th>2</th>\n",
       "      <td>Евгений Онегин</td>\n",
       "      <td>8-(802)-235-30-28</td>\n",
       "      <td>88022353028</td>\n",
       "    </tr>\n",
       "    <tr>\n",
       "      <th>3</th>\n",
       "      <td>Вестсайдская история</td>\n",
       "      <td>8-803-151-78-95</td>\n",
       "      <td>88031517895</td>\n",
       "    </tr>\n",
       "    <tr>\n",
       "      <th>4</th>\n",
       "      <td>Дон Кихот</td>\n",
       "      <td>8-802-311-48-72</td>\n",
       "      <td>88023114872</td>\n",
       "    </tr>\n",
       "    <tr>\n",
       "      <th>...</th>\n",
       "      <td>...</td>\n",
       "      <td>...</td>\n",
       "      <td>...</td>\n",
       "    </tr>\n",
       "    <tr>\n",
       "      <th>3518</th>\n",
       "      <td>Кармен</td>\n",
       "      <td>8805-642-18-91</td>\n",
       "      <td>88056421891</td>\n",
       "    </tr>\n",
       "    <tr>\n",
       "      <th>3519</th>\n",
       "      <td>Баядерка</td>\n",
       "      <td>8-802-618-97-14</td>\n",
       "      <td>88026189714</td>\n",
       "    </tr>\n",
       "    <tr>\n",
       "      <th>3520</th>\n",
       "      <td>Кармен</td>\n",
       "      <td>+88034956301</td>\n",
       "      <td>88034956301</td>\n",
       "    </tr>\n",
       "    <tr>\n",
       "      <th>3521</th>\n",
       "      <td>Вестсайдская история</td>\n",
       "      <td>+88078994876</td>\n",
       "      <td>88078994876</td>\n",
       "    </tr>\n",
       "    <tr>\n",
       "      <th>3522</th>\n",
       "      <td>Спартак</td>\n",
       "      <td>+88011779272</td>\n",
       "      <td>88011779272</td>\n",
       "    </tr>\n",
       "  </tbody>\n",
       "</table>\n",
       "<p>3523 rows × 3 columns</p>\n",
       "</div>"
      ],
      "text/plain": [
       "                      name                tel         tel1\n",
       "0                    Кошки       +88029264576  88029264576\n",
       "1                    Норма     8805-630-71-19  88056307119\n",
       "2           Евгений Онегин  8-(802)-235-30-28  88022353028\n",
       "3     Вестсайдская история    8-803-151-78-95  88031517895\n",
       "4                Дон Кихот    8-802-311-48-72  88023114872\n",
       "...                    ...                ...          ...\n",
       "3518                Кармен     8805-642-18-91  88056421891\n",
       "3519              Баядерка    8-802-618-97-14  88026189714\n",
       "3520                Кармен       +88034956301  88034956301\n",
       "3521  Вестсайдская история       +88078994876  88078994876\n",
       "3522               Спартак       +88011779272  88011779272\n",
       "\n",
       "[3523 rows x 3 columns]"
      ]
     },
     "execution_count": 103,
     "metadata": {},
     "output_type": "execute_result"
    }
   ],
   "source": [
    "df"
   ]
  },
  {
   "cell_type": "code",
   "execution_count": 104,
   "metadata": {},
   "outputs": [],
   "source": [
    "dt=df.groupby('name')['tel1'].nunique()"
   ]
  },
  {
   "cell_type": "code",
   "execution_count": 107,
   "metadata": {},
   "outputs": [
    {
     "data": {
      "text/plain": [
       "name\n",
       "Кошки                    181\n",
       "Спящая красавица         175\n",
       "Дон Кихот                175\n",
       "Кармен                   171\n",
       "Лебединое озеро          171\n",
       "Риголетто                170\n",
       "Ла-Ла Ленд               167\n",
       "Ночь перед Рождеством    166\n",
       "Евгений Онегин           160\n",
       "Спартак                  158\n",
       "Todd                     157\n",
       "Севильский цирюльник     157\n",
       "Норма                    156\n",
       "Юнона и Авось            107\n",
       "Жизель                   101\n",
       "Свадьба Фигаро           101\n",
       "Чикаго                    92\n",
       "Баядерка                  91\n",
       "Ромео и Джульетта         90\n",
       "Вестсайдская история      89\n",
       "Нотр-Дам де Пари          88\n",
       "Волшебная флейта          87\n",
       "Щелкунчик                 84\n",
       "Травиата                  82\n",
       "Аида                      81\n",
       "Name: tel1, dtype: int64"
      ]
     },
     "metadata": {},
     "output_type": "display_data"
    }
   ],
   "source": [
    "display(dt.sort_values(ascending=False))"
   ]
  },
  {
   "cell_type": "code",
   "execution_count": null,
   "metadata": {},
   "outputs": [],
   "source": []
  }
 ],
 "metadata": {
  "ExecuteTimeLog": [
   {
    "duration": 122,
    "start_time": "2022-04-09T10:27:28.645Z"
   },
   {
    "duration": 488,
    "start_time": "2022-04-09T10:27:41.128Z"
   },
   {
    "duration": 186,
    "start_time": "2022-04-09T10:27:41.617Z"
   },
   {
    "duration": 430,
    "start_time": "2022-04-09T10:27:41.804Z"
   },
   {
    "duration": 3,
    "start_time": "2022-04-09T10:27:42.236Z"
   },
   {
    "duration": 317,
    "start_time": "2022-04-09T10:27:42.240Z"
   },
   {
    "duration": 29,
    "start_time": "2022-04-09T10:27:42.559Z"
   },
   {
    "duration": 22,
    "start_time": "2022-04-09T10:27:42.589Z"
   },
   {
    "duration": 19,
    "start_time": "2022-04-09T10:27:42.612Z"
   },
   {
    "duration": 14,
    "start_time": "2022-04-09T10:27:42.632Z"
   },
   {
    "duration": 16,
    "start_time": "2022-04-09T10:27:42.670Z"
   },
   {
    "duration": 160,
    "start_time": "2022-04-09T10:27:42.688Z"
   },
   {
    "duration": 13,
    "start_time": "2022-04-09T10:27:42.850Z"
   },
   {
    "duration": 62,
    "start_time": "2022-04-09T10:27:42.870Z"
   },
   {
    "duration": 18,
    "start_time": "2022-04-09T10:27:42.933Z"
   },
   {
    "duration": 8,
    "start_time": "2022-04-09T10:27:42.970Z"
   },
   {
    "duration": 8,
    "start_time": "2022-04-09T10:27:42.979Z"
   },
   {
    "duration": 7,
    "start_time": "2022-04-09T10:27:42.988Z"
   },
   {
    "duration": 16,
    "start_time": "2022-04-09T10:27:42.996Z"
   },
   {
    "duration": 16,
    "start_time": "2022-04-09T10:27:43.013Z"
   },
   {
    "duration": 41,
    "start_time": "2022-04-09T10:27:43.030Z"
   },
   {
    "duration": 18,
    "start_time": "2022-04-09T10:27:43.073Z"
   },
   {
    "duration": 4,
    "start_time": "2022-04-09T10:27:43.092Z"
   },
   {
    "duration": 5,
    "start_time": "2022-04-09T10:27:43.098Z"
   },
   {
    "duration": 32,
    "start_time": "2022-04-09T10:27:43.104Z"
   },
   {
    "duration": 4,
    "start_time": "2022-04-09T10:27:43.138Z"
   },
   {
    "duration": 109,
    "start_time": "2022-04-09T10:27:43.143Z"
   },
   {
    "duration": 0,
    "start_time": "2022-04-09T10:27:43.254Z"
   },
   {
    "duration": 0,
    "start_time": "2022-04-09T10:27:43.255Z"
   },
   {
    "duration": 0,
    "start_time": "2022-04-09T10:27:43.256Z"
   },
   {
    "duration": 0,
    "start_time": "2022-04-09T10:27:43.257Z"
   },
   {
    "duration": 0,
    "start_time": "2022-04-09T10:27:43.258Z"
   },
   {
    "duration": 0,
    "start_time": "2022-04-09T10:27:43.270Z"
   },
   {
    "duration": 0,
    "start_time": "2022-04-09T10:27:43.271Z"
   },
   {
    "duration": 0,
    "start_time": "2022-04-09T10:27:43.272Z"
   },
   {
    "duration": 0,
    "start_time": "2022-04-09T10:27:43.273Z"
   },
   {
    "duration": 0,
    "start_time": "2022-04-09T10:27:43.274Z"
   },
   {
    "duration": 0,
    "start_time": "2022-04-09T10:27:43.275Z"
   },
   {
    "duration": 3,
    "start_time": "2022-04-09T10:32:04.727Z"
   },
   {
    "duration": 461,
    "start_time": "2022-04-09T10:32:39.650Z"
   },
   {
    "duration": 153,
    "start_time": "2022-04-09T10:32:40.113Z"
   },
   {
    "duration": 400,
    "start_time": "2022-04-09T10:32:40.270Z"
   },
   {
    "duration": 3,
    "start_time": "2022-04-09T10:32:40.671Z"
   },
   {
    "duration": 5,
    "start_time": "2022-04-09T10:32:40.675Z"
   },
   {
    "duration": 300,
    "start_time": "2022-04-09T10:32:40.681Z"
   },
   {
    "duration": 28,
    "start_time": "2022-04-09T10:32:40.982Z"
   },
   {
    "duration": 22,
    "start_time": "2022-04-09T10:32:41.011Z"
   },
   {
    "duration": 17,
    "start_time": "2022-04-09T10:32:41.034Z"
   },
   {
    "duration": 26,
    "start_time": "2022-04-09T10:32:41.053Z"
   },
   {
    "duration": 17,
    "start_time": "2022-04-09T10:32:41.081Z"
   },
   {
    "duration": 160,
    "start_time": "2022-04-09T10:32:41.099Z"
   },
   {
    "duration": 14,
    "start_time": "2022-04-09T10:32:41.261Z"
   },
   {
    "duration": 68,
    "start_time": "2022-04-09T10:32:41.279Z"
   },
   {
    "duration": 37,
    "start_time": "2022-04-09T10:32:41.348Z"
   },
   {
    "duration": 10,
    "start_time": "2022-04-09T10:32:41.387Z"
   },
   {
    "duration": 8,
    "start_time": "2022-04-09T10:32:41.398Z"
   },
   {
    "duration": 8,
    "start_time": "2022-04-09T10:32:41.408Z"
   },
   {
    "duration": 16,
    "start_time": "2022-04-09T10:32:41.418Z"
   },
   {
    "duration": 49,
    "start_time": "2022-04-09T10:32:41.435Z"
   },
   {
    "duration": 12,
    "start_time": "2022-04-09T10:32:41.485Z"
   },
   {
    "duration": 18,
    "start_time": "2022-04-09T10:32:41.499Z"
   },
   {
    "duration": 5,
    "start_time": "2022-04-09T10:32:41.518Z"
   },
   {
    "duration": 5,
    "start_time": "2022-04-09T10:32:41.524Z"
   },
   {
    "duration": 66,
    "start_time": "2022-04-09T10:32:41.530Z"
   },
   {
    "duration": 5,
    "start_time": "2022-04-09T10:32:41.598Z"
   },
   {
    "duration": 166,
    "start_time": "2022-04-09T10:32:41.604Z"
   },
   {
    "duration": 130,
    "start_time": "2022-04-09T10:32:41.772Z"
   },
   {
    "duration": 119,
    "start_time": "2022-04-09T10:32:41.904Z"
   },
   {
    "duration": 112,
    "start_time": "2022-04-09T10:32:42.024Z"
   },
   {
    "duration": 5,
    "start_time": "2022-04-09T10:32:42.138Z"
   },
   {
    "duration": 118,
    "start_time": "2022-04-09T10:32:42.145Z"
   },
   {
    "duration": 123,
    "start_time": "2022-04-09T10:32:42.270Z"
   },
   {
    "duration": 118,
    "start_time": "2022-04-09T10:32:42.394Z"
   },
   {
    "duration": 5,
    "start_time": "2022-04-09T10:32:42.513Z"
   },
   {
    "duration": 13,
    "start_time": "2022-04-09T10:32:42.519Z"
   },
   {
    "duration": 11,
    "start_time": "2022-04-09T10:32:42.533Z"
   },
   {
    "duration": 6,
    "start_time": "2022-04-09T10:32:42.545Z"
   },
   {
    "duration": 440,
    "start_time": "2022-04-09T10:37:46.657Z"
   },
   {
    "duration": 165,
    "start_time": "2022-04-09T10:37:47.098Z"
   },
   {
    "duration": 408,
    "start_time": "2022-04-09T10:37:47.264Z"
   },
   {
    "duration": 2,
    "start_time": "2022-04-09T10:37:47.674Z"
   },
   {
    "duration": 5,
    "start_time": "2022-04-09T10:37:47.678Z"
   },
   {
    "duration": 307,
    "start_time": "2022-04-09T10:37:47.684Z"
   },
   {
    "duration": 29,
    "start_time": "2022-04-09T10:37:47.993Z"
   },
   {
    "duration": 31,
    "start_time": "2022-04-09T10:37:48.024Z"
   },
   {
    "duration": 32,
    "start_time": "2022-04-09T10:37:48.057Z"
   },
   {
    "duration": 19,
    "start_time": "2022-04-09T10:37:48.092Z"
   },
   {
    "duration": 26,
    "start_time": "2022-04-09T10:37:48.113Z"
   },
   {
    "duration": 167,
    "start_time": "2022-04-09T10:37:48.140Z"
   },
   {
    "duration": 6,
    "start_time": "2022-04-09T10:37:57.964Z"
   },
   {
    "duration": 6,
    "start_time": "2022-04-09T10:38:07.960Z"
   },
   {
    "duration": 18,
    "start_time": "2022-04-09T10:38:16.945Z"
   },
   {
    "duration": 6,
    "start_time": "2022-04-09T10:38:18.339Z"
   },
   {
    "duration": 4,
    "start_time": "2022-04-09T10:40:01.963Z"
   },
   {
    "duration": 3,
    "start_time": "2022-04-09T10:40:06.701Z"
   },
   {
    "duration": 3,
    "start_time": "2022-04-09T10:40:14.536Z"
   },
   {
    "duration": 126,
    "start_time": "2022-04-09T10:40:51.563Z"
   },
   {
    "duration": 3,
    "start_time": "2022-04-09T10:40:59.951Z"
   },
   {
    "duration": 4,
    "start_time": "2022-04-09T10:41:06.761Z"
   },
   {
    "duration": 147,
    "start_time": "2022-04-09T10:42:28.910Z"
   },
   {
    "duration": 7,
    "start_time": "2022-04-09T10:46:03.987Z"
   },
   {
    "duration": 100,
    "start_time": "2022-04-09T10:48:20.518Z"
   },
   {
    "duration": 18,
    "start_time": "2022-04-09T10:51:25.819Z"
   },
   {
    "duration": 8,
    "start_time": "2022-04-09T10:56:51.047Z"
   },
   {
    "duration": 8,
    "start_time": "2022-04-09T10:58:33.212Z"
   },
   {
    "duration": 8,
    "start_time": "2022-04-09T10:58:41.538Z"
   },
   {
    "duration": 141,
    "start_time": "2022-04-09T11:03:30.610Z"
   },
   {
    "duration": 16,
    "start_time": "2022-04-09T11:12:57.986Z"
   },
   {
    "duration": 2143,
    "start_time": "2022-04-09T11:16:09.921Z"
   },
   {
    "duration": 12,
    "start_time": "2022-04-09T11:16:33.308Z"
   },
   {
    "duration": 10,
    "start_time": "2022-04-09T11:18:54.344Z"
   },
   {
    "duration": 8,
    "start_time": "2022-04-09T11:19:00.084Z"
   },
   {
    "duration": 9,
    "start_time": "2022-04-09T11:19:04.118Z"
   },
   {
    "duration": 3,
    "start_time": "2022-04-09T11:19:10.438Z"
   },
   {
    "duration": 18,
    "start_time": "2022-04-09T11:19:14.623Z"
   },
   {
    "duration": 15,
    "start_time": "2022-04-09T11:20:16.269Z"
   },
   {
    "duration": 4,
    "start_time": "2022-04-09T11:21:47.632Z"
   },
   {
    "duration": 6,
    "start_time": "2022-04-09T11:24:17.657Z"
   },
   {
    "duration": 162,
    "start_time": "2022-04-09T11:25:03.950Z"
   },
   {
    "duration": 182,
    "start_time": "2022-04-09T11:25:20.433Z"
   },
   {
    "duration": 3,
    "start_time": "2022-04-09T11:25:30.388Z"
   },
   {
    "duration": 5,
    "start_time": "2022-04-09T11:25:39.277Z"
   },
   {
    "duration": 4,
    "start_time": "2022-04-09T11:26:07.583Z"
   },
   {
    "duration": 5,
    "start_time": "2022-04-09T11:26:08.982Z"
   },
   {
    "duration": 5,
    "start_time": "2022-04-09T11:26:14.242Z"
   },
   {
    "duration": 136,
    "start_time": "2022-04-09T11:28:38.883Z"
   },
   {
    "duration": 5,
    "start_time": "2022-04-09T11:28:39.162Z"
   },
   {
    "duration": 4,
    "start_time": "2022-04-09T11:28:43.260Z"
   },
   {
    "duration": 3,
    "start_time": "2022-04-09T11:29:09.500Z"
   },
   {
    "duration": 6,
    "start_time": "2022-04-09T11:29:10.290Z"
   },
   {
    "duration": 3,
    "start_time": "2022-04-09T11:29:56.223Z"
   },
   {
    "duration": 5,
    "start_time": "2022-04-09T11:29:57.791Z"
   },
   {
    "duration": 10,
    "start_time": "2022-04-09T11:30:34.516Z"
   },
   {
    "duration": 9,
    "start_time": "2022-04-09T11:31:02.133Z"
   },
   {
    "duration": 19,
    "start_time": "2022-04-09T11:32:29.255Z"
   },
   {
    "duration": 232,
    "start_time": "2022-04-09T11:32:53.126Z"
   },
   {
    "duration": 15,
    "start_time": "2022-04-09T11:32:59.239Z"
   },
   {
    "duration": 17,
    "start_time": "2022-04-09T11:33:10.697Z"
   },
   {
    "duration": 4,
    "start_time": "2022-04-09T11:33:22.319Z"
   },
   {
    "duration": 5,
    "start_time": "2022-04-09T11:33:55.562Z"
   },
   {
    "duration": 32,
    "start_time": "2022-04-09T11:34:08.964Z"
   },
   {
    "duration": 10,
    "start_time": "2022-04-09T11:34:15.936Z"
   },
   {
    "duration": 6,
    "start_time": "2022-04-09T11:34:27.197Z"
   },
   {
    "duration": 14,
    "start_time": "2022-04-09T11:36:26.573Z"
   },
   {
    "duration": 18,
    "start_time": "2022-04-09T11:36:27.960Z"
   },
   {
    "duration": 4,
    "start_time": "2022-04-09T11:36:54.242Z"
   },
   {
    "duration": 5,
    "start_time": "2022-04-09T11:36:56.530Z"
   },
   {
    "duration": 29,
    "start_time": "2022-04-09T11:36:57.275Z"
   },
   {
    "duration": 21,
    "start_time": "2022-04-09T12:11:53.894Z"
   },
   {
    "duration": 10,
    "start_time": "2022-04-09T12:12:01.744Z"
   },
   {
    "duration": 135,
    "start_time": "2022-04-09T14:18:59.421Z"
   },
   {
    "duration": 5,
    "start_time": "2022-04-09T14:19:10.267Z"
   },
   {
    "duration": 146,
    "start_time": "2022-04-09T14:19:11.696Z"
   },
   {
    "duration": 130,
    "start_time": "2022-04-09T14:21:47.093Z"
   },
   {
    "duration": 39,
    "start_time": "2022-04-09T14:25:47.356Z"
   },
   {
    "duration": 40,
    "start_time": "2022-04-09T14:30:33.440Z"
   },
   {
    "duration": 116,
    "start_time": "2022-04-09T14:30:34.019Z"
   },
   {
    "duration": 114,
    "start_time": "2022-04-09T14:30:35.366Z"
   },
   {
    "duration": 101,
    "start_time": "2022-04-09T14:30:37.496Z"
   },
   {
    "duration": 7,
    "start_time": "2022-04-09T14:30:40.136Z"
   },
   {
    "duration": 115,
    "start_time": "2022-04-09T14:30:40.464Z"
   },
   {
    "duration": 117,
    "start_time": "2022-04-09T14:30:46.004Z"
   },
   {
    "duration": 110,
    "start_time": "2022-04-09T14:30:46.324Z"
   },
   {
    "duration": 4,
    "start_time": "2022-04-09T14:31:29.393Z"
   },
   {
    "duration": 195,
    "start_time": "2022-04-09T14:31:31.164Z"
   },
   {
    "duration": 6,
    "start_time": "2022-04-09T14:33:23.526Z"
   },
   {
    "duration": 5,
    "start_time": "2022-04-09T14:33:46.037Z"
   },
   {
    "duration": 4,
    "start_time": "2022-04-09T14:33:50.400Z"
   },
   {
    "duration": 6,
    "start_time": "2022-04-09T14:34:22.144Z"
   },
   {
    "duration": 6,
    "start_time": "2022-04-09T14:34:40.817Z"
   },
   {
    "duration": 4,
    "start_time": "2022-04-09T14:35:21.747Z"
   },
   {
    "duration": 422,
    "start_time": "2022-04-09T14:36:46.299Z"
   },
   {
    "duration": 172,
    "start_time": "2022-04-09T14:36:46.723Z"
   },
   {
    "duration": 386,
    "start_time": "2022-04-09T14:36:46.897Z"
   },
   {
    "duration": 2,
    "start_time": "2022-04-09T14:36:47.285Z"
   },
   {
    "duration": 5,
    "start_time": "2022-04-09T14:36:47.288Z"
   },
   {
    "duration": 299,
    "start_time": "2022-04-09T14:36:47.294Z"
   },
   {
    "duration": 28,
    "start_time": "2022-04-09T14:36:47.595Z"
   },
   {
    "duration": 20,
    "start_time": "2022-04-09T14:36:47.624Z"
   },
   {
    "duration": 17,
    "start_time": "2022-04-09T14:36:47.646Z"
   },
   {
    "duration": 12,
    "start_time": "2022-04-09T14:36:47.670Z"
   },
   {
    "duration": 16,
    "start_time": "2022-04-09T14:36:47.684Z"
   },
   {
    "duration": 164,
    "start_time": "2022-04-09T14:36:47.701Z"
   },
   {
    "duration": 15,
    "start_time": "2022-04-09T14:36:47.867Z"
   },
   {
    "duration": 5,
    "start_time": "2022-04-09T14:36:47.883Z"
   },
   {
    "duration": 61,
    "start_time": "2022-04-09T14:36:47.890Z"
   },
   {
    "duration": 18,
    "start_time": "2022-04-09T14:36:47.971Z"
   },
   {
    "duration": 9,
    "start_time": "2022-04-09T14:36:47.991Z"
   },
   {
    "duration": 9,
    "start_time": "2022-04-09T14:36:48.001Z"
   },
   {
    "duration": 12,
    "start_time": "2022-04-09T14:36:48.011Z"
   },
   {
    "duration": 21,
    "start_time": "2022-04-09T14:36:48.025Z"
   },
   {
    "duration": 36,
    "start_time": "2022-04-09T14:36:48.048Z"
   },
   {
    "duration": 14,
    "start_time": "2022-04-09T14:36:48.086Z"
   },
   {
    "duration": 19,
    "start_time": "2022-04-09T14:36:48.101Z"
   },
   {
    "duration": 4,
    "start_time": "2022-04-09T14:36:48.122Z"
   },
   {
    "duration": 6,
    "start_time": "2022-04-09T14:36:48.127Z"
   },
   {
    "duration": 40,
    "start_time": "2022-04-09T14:36:48.134Z"
   },
   {
    "duration": 28,
    "start_time": "2022-04-09T14:36:48.175Z"
   },
   {
    "duration": 4,
    "start_time": "2022-04-09T14:36:48.206Z"
   },
   {
    "duration": 177,
    "start_time": "2022-04-09T14:36:48.211Z"
   },
   {
    "duration": 39,
    "start_time": "2022-04-09T14:36:48.389Z"
   },
   {
    "duration": 128,
    "start_time": "2022-04-09T14:36:48.430Z"
   },
   {
    "duration": 125,
    "start_time": "2022-04-09T14:36:48.559Z"
   },
   {
    "duration": 123,
    "start_time": "2022-04-09T14:36:48.685Z"
   },
   {
    "duration": 7,
    "start_time": "2022-04-09T14:36:48.809Z"
   },
   {
    "duration": 126,
    "start_time": "2022-04-09T14:36:48.818Z"
   },
   {
    "duration": 136,
    "start_time": "2022-04-09T14:36:48.945Z"
   },
   {
    "duration": 122,
    "start_time": "2022-04-09T14:36:49.082Z"
   },
   {
    "duration": 5,
    "start_time": "2022-04-09T14:36:49.205Z"
   },
   {
    "duration": 15,
    "start_time": "2022-04-09T14:36:49.211Z"
   },
   {
    "duration": 8,
    "start_time": "2022-04-09T14:36:49.228Z"
   },
   {
    "duration": 7,
    "start_time": "2022-04-09T14:36:49.238Z"
   },
   {
    "duration": 549,
    "start_time": "2022-04-10T11:46:31.325Z"
   },
   {
    "duration": 179,
    "start_time": "2022-04-10T11:46:31.876Z"
   },
   {
    "duration": 439,
    "start_time": "2022-04-10T11:46:32.056Z"
   },
   {
    "duration": 2,
    "start_time": "2022-04-10T11:46:32.497Z"
   },
   {
    "duration": 5,
    "start_time": "2022-04-10T11:46:32.501Z"
   },
   {
    "duration": 373,
    "start_time": "2022-04-10T11:46:32.507Z"
   },
   {
    "duration": 3,
    "start_time": "2022-04-10T11:46:32.881Z"
   },
   {
    "duration": 36,
    "start_time": "2022-04-10T11:46:32.885Z"
   },
   {
    "duration": 24,
    "start_time": "2022-04-10T11:46:32.923Z"
   },
   {
    "duration": 42,
    "start_time": "2022-04-10T11:46:32.948Z"
   },
   {
    "duration": 12,
    "start_time": "2022-04-10T11:46:32.991Z"
   },
   {
    "duration": 15,
    "start_time": "2022-04-10T11:46:33.005Z"
   },
   {
    "duration": 178,
    "start_time": "2022-04-10T11:46:33.022Z"
   },
   {
    "duration": 19,
    "start_time": "2022-04-10T11:46:33.203Z"
   },
   {
    "duration": 7,
    "start_time": "2022-04-10T11:46:33.223Z"
   },
   {
    "duration": 84,
    "start_time": "2022-04-10T11:46:33.231Z"
   },
   {
    "duration": 19,
    "start_time": "2022-04-10T11:46:33.317Z"
   },
   {
    "duration": 8,
    "start_time": "2022-04-10T11:46:33.337Z"
   },
   {
    "duration": 8,
    "start_time": "2022-04-10T11:46:33.347Z"
   },
   {
    "duration": 7,
    "start_time": "2022-04-10T11:46:33.380Z"
   },
   {
    "duration": 17,
    "start_time": "2022-04-10T11:46:33.388Z"
   },
   {
    "duration": 15,
    "start_time": "2022-04-10T11:46:33.407Z"
   },
   {
    "duration": 11,
    "start_time": "2022-04-10T11:46:33.424Z"
   },
   {
    "duration": 45,
    "start_time": "2022-04-10T11:46:33.436Z"
   },
   {
    "duration": 4,
    "start_time": "2022-04-10T11:46:33.482Z"
   },
   {
    "duration": 5,
    "start_time": "2022-04-10T11:46:33.488Z"
   },
   {
    "duration": 11,
    "start_time": "2022-04-10T11:46:33.495Z"
   },
   {
    "duration": 32,
    "start_time": "2022-04-10T11:46:33.507Z"
   },
   {
    "duration": 5,
    "start_time": "2022-04-10T11:46:33.540Z"
   },
   {
    "duration": 186,
    "start_time": "2022-04-10T11:46:33.546Z"
   },
   {
    "duration": 49,
    "start_time": "2022-04-10T11:46:33.733Z"
   },
   {
    "duration": 132,
    "start_time": "2022-04-10T11:46:33.784Z"
   },
   {
    "duration": 134,
    "start_time": "2022-04-10T11:46:33.917Z"
   },
   {
    "duration": 121,
    "start_time": "2022-04-10T11:46:34.052Z"
   },
   {
    "duration": 5,
    "start_time": "2022-04-10T11:46:34.180Z"
   },
   {
    "duration": 120,
    "start_time": "2022-04-10T11:46:34.187Z"
   },
   {
    "duration": 133,
    "start_time": "2022-04-10T11:46:34.308Z"
   },
   {
    "duration": 124,
    "start_time": "2022-04-10T11:46:34.443Z"
   },
   {
    "duration": 5,
    "start_time": "2022-04-10T11:46:34.568Z"
   },
   {
    "duration": 15,
    "start_time": "2022-04-10T11:46:34.574Z"
   },
   {
    "duration": 4,
    "start_time": "2022-04-10T11:46:34.592Z"
   },
   {
    "duration": 6,
    "start_time": "2022-04-10T11:46:34.597Z"
   },
   {
    "duration": 326,
    "start_time": "2022-04-10T11:48:03.395Z"
   },
   {
    "duration": 3,
    "start_time": "2022-04-10T11:48:22.071Z"
   },
   {
    "duration": 261,
    "start_time": "2022-04-10T11:48:23.000Z"
   },
   {
    "duration": 4,
    "start_time": "2022-04-10T11:49:24.413Z"
   },
   {
    "duration": 308,
    "start_time": "2022-04-10T11:49:25.105Z"
   },
   {
    "duration": 211,
    "start_time": "2022-04-10T11:51:54.136Z"
   },
   {
    "duration": 155,
    "start_time": "2022-04-10T11:51:54.625Z"
   },
   {
    "duration": 27,
    "start_time": "2022-04-10T11:51:55.429Z"
   },
   {
    "duration": 46,
    "start_time": "2022-04-10T11:52:11.720Z"
   },
   {
    "duration": 3,
    "start_time": "2022-04-10T11:53:52.017Z"
   },
   {
    "duration": 498,
    "start_time": "2022-04-10T11:55:00.246Z"
   },
   {
    "duration": 190,
    "start_time": "2022-04-10T11:55:00.746Z"
   },
   {
    "duration": 475,
    "start_time": "2022-04-10T11:55:00.938Z"
   },
   {
    "duration": 3,
    "start_time": "2022-04-10T11:55:01.415Z"
   },
   {
    "duration": 13,
    "start_time": "2022-04-10T11:55:01.420Z"
   },
   {
    "duration": 6,
    "start_time": "2022-04-10T11:55:01.434Z"
   },
   {
    "duration": 2755,
    "start_time": "2022-04-10T11:55:01.442Z"
   },
   {
    "duration": 271,
    "start_time": "2022-04-10T11:55:04.199Z"
   },
   {
    "duration": 159,
    "start_time": "2022-04-10T11:55:04.471Z"
   },
   {
    "duration": 30,
    "start_time": "2022-04-10T11:55:04.633Z"
   },
   {
    "duration": 74,
    "start_time": "2022-04-10T11:55:04.665Z"
   },
   {
    "duration": 84,
    "start_time": "2022-04-10T11:55:04.740Z"
   },
   {
    "duration": 0,
    "start_time": "2022-04-10T11:55:04.826Z"
   },
   {
    "duration": 0,
    "start_time": "2022-04-10T11:55:04.827Z"
   },
   {
    "duration": 0,
    "start_time": "2022-04-10T11:55:04.828Z"
   },
   {
    "duration": 0,
    "start_time": "2022-04-10T11:55:04.829Z"
   },
   {
    "duration": 0,
    "start_time": "2022-04-10T11:55:04.830Z"
   },
   {
    "duration": 0,
    "start_time": "2022-04-10T11:55:04.831Z"
   },
   {
    "duration": 0,
    "start_time": "2022-04-10T11:55:04.832Z"
   },
   {
    "duration": 0,
    "start_time": "2022-04-10T11:55:04.833Z"
   },
   {
    "duration": 0,
    "start_time": "2022-04-10T11:55:04.834Z"
   },
   {
    "duration": 0,
    "start_time": "2022-04-10T11:55:04.835Z"
   },
   {
    "duration": 0,
    "start_time": "2022-04-10T11:55:04.836Z"
   },
   {
    "duration": 0,
    "start_time": "2022-04-10T11:55:04.837Z"
   },
   {
    "duration": 0,
    "start_time": "2022-04-10T11:55:04.838Z"
   },
   {
    "duration": 0,
    "start_time": "2022-04-10T11:55:04.838Z"
   },
   {
    "duration": 0,
    "start_time": "2022-04-10T11:55:04.839Z"
   },
   {
    "duration": 0,
    "start_time": "2022-04-10T11:55:04.840Z"
   },
   {
    "duration": 0,
    "start_time": "2022-04-10T11:55:04.841Z"
   },
   {
    "duration": 0,
    "start_time": "2022-04-10T11:55:04.842Z"
   },
   {
    "duration": 0,
    "start_time": "2022-04-10T11:55:04.843Z"
   },
   {
    "duration": 0,
    "start_time": "2022-04-10T11:55:04.844Z"
   },
   {
    "duration": 0,
    "start_time": "2022-04-10T11:55:04.845Z"
   },
   {
    "duration": 0,
    "start_time": "2022-04-10T11:55:04.845Z"
   },
   {
    "duration": 0,
    "start_time": "2022-04-10T11:55:04.846Z"
   },
   {
    "duration": 0,
    "start_time": "2022-04-10T11:55:04.847Z"
   },
   {
    "duration": 0,
    "start_time": "2022-04-10T11:55:04.881Z"
   },
   {
    "duration": 0,
    "start_time": "2022-04-10T11:55:04.882Z"
   },
   {
    "duration": 0,
    "start_time": "2022-04-10T11:55:04.883Z"
   },
   {
    "duration": 0,
    "start_time": "2022-04-10T11:55:04.884Z"
   },
   {
    "duration": 0,
    "start_time": "2022-04-10T11:55:04.885Z"
   },
   {
    "duration": 7,
    "start_time": "2022-04-10T11:56:15.181Z"
   },
   {
    "duration": 3,
    "start_time": "2022-04-10T11:57:06.097Z"
   },
   {
    "duration": 2,
    "start_time": "2022-04-10T11:57:06.577Z"
   },
   {
    "duration": 3,
    "start_time": "2022-04-10T11:57:06.997Z"
   },
   {
    "duration": 3,
    "start_time": "2022-04-10T11:57:11.498Z"
   },
   {
    "duration": 3,
    "start_time": "2022-04-10T11:57:14.085Z"
   },
   {
    "duration": 280,
    "start_time": "2022-04-10T11:57:20.905Z"
   },
   {
    "duration": 214,
    "start_time": "2022-04-10T11:57:26.648Z"
   },
   {
    "duration": 148,
    "start_time": "2022-04-10T11:57:27.435Z"
   },
   {
    "duration": 29,
    "start_time": "2022-04-10T11:57:28.799Z"
   },
   {
    "duration": 54,
    "start_time": "2022-04-10T11:57:29.666Z"
   },
   {
    "duration": 3,
    "start_time": "2022-04-10T11:58:54.195Z"
   },
   {
    "duration": 4,
    "start_time": "2022-04-10T12:00:33.091Z"
   },
   {
    "duration": 146,
    "start_time": "2022-04-10T12:00:41.572Z"
   },
   {
    "duration": 111,
    "start_time": "2022-04-10T12:00:47.191Z"
   },
   {
    "duration": 80,
    "start_time": "2022-04-10T12:00:47.818Z"
   },
   {
    "duration": 15,
    "start_time": "2022-04-10T12:00:48.419Z"
   },
   {
    "duration": 39,
    "start_time": "2022-04-10T12:00:48.952Z"
   },
   {
    "duration": 4,
    "start_time": "2022-04-10T12:00:50.070Z"
   },
   {
    "duration": 3,
    "start_time": "2022-04-10T12:01:20.426Z"
   },
   {
    "duration": 37,
    "start_time": "2022-04-10T12:01:24.351Z"
   },
   {
    "duration": 6,
    "start_time": "2022-04-10T12:01:24.979Z"
   },
   {
    "duration": 443,
    "start_time": "2022-04-10T12:01:36.497Z"
   },
   {
    "duration": 176,
    "start_time": "2022-04-10T12:01:36.943Z"
   },
   {
    "duration": 394,
    "start_time": "2022-04-10T12:01:37.120Z"
   },
   {
    "duration": 2,
    "start_time": "2022-04-10T12:01:37.515Z"
   },
   {
    "duration": 5,
    "start_time": "2022-04-10T12:01:37.519Z"
   },
   {
    "duration": 143,
    "start_time": "2022-04-10T12:01:37.525Z"
   },
   {
    "duration": 136,
    "start_time": "2022-04-10T12:01:37.670Z"
   },
   {
    "duration": 91,
    "start_time": "2022-04-10T12:01:37.808Z"
   },
   {
    "duration": 17,
    "start_time": "2022-04-10T12:01:37.900Z"
   },
   {
    "duration": 31,
    "start_time": "2022-04-10T12:01:37.918Z"
   },
   {
    "duration": 5,
    "start_time": "2022-04-10T12:01:37.950Z"
   },
   {
    "duration": 89,
    "start_time": "2022-04-10T12:01:37.956Z"
   },
   {
    "duration": 0,
    "start_time": "2022-04-10T12:01:38.047Z"
   },
   {
    "duration": 0,
    "start_time": "2022-04-10T12:01:38.048Z"
   },
   {
    "duration": 0,
    "start_time": "2022-04-10T12:01:38.049Z"
   },
   {
    "duration": 0,
    "start_time": "2022-04-10T12:01:38.050Z"
   },
   {
    "duration": 0,
    "start_time": "2022-04-10T12:01:38.051Z"
   },
   {
    "duration": 0,
    "start_time": "2022-04-10T12:01:38.052Z"
   },
   {
    "duration": 0,
    "start_time": "2022-04-10T12:01:38.053Z"
   },
   {
    "duration": 0,
    "start_time": "2022-04-10T12:01:38.054Z"
   },
   {
    "duration": 0,
    "start_time": "2022-04-10T12:01:38.055Z"
   },
   {
    "duration": 0,
    "start_time": "2022-04-10T12:01:38.056Z"
   },
   {
    "duration": 0,
    "start_time": "2022-04-10T12:01:38.057Z"
   },
   {
    "duration": 0,
    "start_time": "2022-04-10T12:01:38.058Z"
   },
   {
    "duration": 0,
    "start_time": "2022-04-10T12:01:38.059Z"
   },
   {
    "duration": 0,
    "start_time": "2022-04-10T12:01:38.059Z"
   },
   {
    "duration": 0,
    "start_time": "2022-04-10T12:01:38.061Z"
   },
   {
    "duration": 0,
    "start_time": "2022-04-10T12:01:38.081Z"
   },
   {
    "duration": 0,
    "start_time": "2022-04-10T12:01:38.082Z"
   },
   {
    "duration": 0,
    "start_time": "2022-04-10T12:01:38.083Z"
   },
   {
    "duration": 0,
    "start_time": "2022-04-10T12:01:38.084Z"
   },
   {
    "duration": 0,
    "start_time": "2022-04-10T12:01:38.085Z"
   },
   {
    "duration": 0,
    "start_time": "2022-04-10T12:01:38.086Z"
   },
   {
    "duration": 0,
    "start_time": "2022-04-10T12:01:38.087Z"
   },
   {
    "duration": 0,
    "start_time": "2022-04-10T12:01:38.088Z"
   },
   {
    "duration": 0,
    "start_time": "2022-04-10T12:01:38.089Z"
   },
   {
    "duration": 0,
    "start_time": "2022-04-10T12:01:38.090Z"
   },
   {
    "duration": 0,
    "start_time": "2022-04-10T12:01:38.091Z"
   },
   {
    "duration": 0,
    "start_time": "2022-04-10T12:01:38.092Z"
   },
   {
    "duration": 0,
    "start_time": "2022-04-10T12:01:38.093Z"
   },
   {
    "duration": 0,
    "start_time": "2022-04-10T12:01:38.094Z"
   },
   {
    "duration": 3,
    "start_time": "2022-04-10T12:05:56.786Z"
   },
   {
    "duration": 28,
    "start_time": "2022-04-10T12:10:33.374Z"
   },
   {
    "duration": 3,
    "start_time": "2022-04-10T12:10:33.874Z"
   },
   {
    "duration": 3,
    "start_time": "2022-04-10T12:10:59.746Z"
   },
   {
    "duration": 26,
    "start_time": "2022-04-10T12:11:17.937Z"
   },
   {
    "duration": 3,
    "start_time": "2022-04-10T12:11:18.419Z"
   },
   {
    "duration": 147,
    "start_time": "2022-04-10T12:14:37.638Z"
   },
   {
    "duration": 96,
    "start_time": "2022-04-10T12:15:39.401Z"
   },
   {
    "duration": 142,
    "start_time": "2022-04-10T12:15:46.692Z"
   },
   {
    "duration": 148,
    "start_time": "2022-04-10T12:16:18.308Z"
   },
   {
    "duration": 142,
    "start_time": "2022-04-10T12:17:07.933Z"
   },
   {
    "duration": 3,
    "start_time": "2022-04-10T12:17:28.770Z"
   },
   {
    "duration": 383,
    "start_time": "2022-04-10T12:17:29.761Z"
   },
   {
    "duration": 360,
    "start_time": "2022-04-10T12:18:09.984Z"
   },
   {
    "duration": 205,
    "start_time": "2022-04-10T12:19:26.446Z"
   },
   {
    "duration": 148,
    "start_time": "2022-04-10T12:19:26.960Z"
   },
   {
    "duration": 29,
    "start_time": "2022-04-10T12:19:27.829Z"
   },
   {
    "duration": 43,
    "start_time": "2022-04-10T12:19:28.633Z"
   },
   {
    "duration": 8,
    "start_time": "2022-04-10T12:19:29.328Z"
   },
   {
    "duration": 146,
    "start_time": "2022-04-10T12:19:44.086Z"
   },
   {
    "duration": 21,
    "start_time": "2022-04-10T12:30:24.527Z"
   },
   {
    "duration": 9,
    "start_time": "2022-04-10T12:30:26.062Z"
   },
   {
    "duration": 8,
    "start_time": "2022-04-10T12:31:11.608Z"
   },
   {
    "duration": 120,
    "start_time": "2022-04-10T12:31:43.638Z"
   },
   {
    "duration": 15,
    "start_time": "2022-04-10T12:31:46.930Z"
   },
   {
    "duration": 6,
    "start_time": "2022-04-10T12:31:54.967Z"
   },
   {
    "duration": 55,
    "start_time": "2022-04-10T12:32:13.252Z"
   },
   {
    "duration": 24,
    "start_time": "2022-04-10T12:32:24.005Z"
   },
   {
    "duration": 15,
    "start_time": "2022-04-10T12:32:29.637Z"
   },
   {
    "duration": 19,
    "start_time": "2022-04-10T12:36:16.852Z"
   },
   {
    "duration": 19,
    "start_time": "2022-04-10T12:38:05.319Z"
   },
   {
    "duration": 17,
    "start_time": "2022-04-10T12:38:52.135Z"
   },
   {
    "duration": 17,
    "start_time": "2022-04-10T12:39:00.186Z"
   },
   {
    "duration": 160,
    "start_time": "2022-04-10T12:42:53.100Z"
   },
   {
    "duration": 25,
    "start_time": "2022-04-10T12:43:00.864Z"
   },
   {
    "duration": 428,
    "start_time": "2022-04-10T12:44:03.527Z"
   },
   {
    "duration": 176,
    "start_time": "2022-04-10T12:44:03.957Z"
   },
   {
    "duration": 469,
    "start_time": "2022-04-10T12:44:04.135Z"
   },
   {
    "duration": 3,
    "start_time": "2022-04-10T12:44:04.606Z"
   },
   {
    "duration": 7,
    "start_time": "2022-04-10T12:44:04.611Z"
   },
   {
    "duration": 410,
    "start_time": "2022-04-10T12:44:04.619Z"
   },
   {
    "duration": 272,
    "start_time": "2022-04-10T12:44:05.031Z"
   },
   {
    "duration": 208,
    "start_time": "2022-04-10T12:44:05.305Z"
   },
   {
    "duration": 148,
    "start_time": "2022-04-10T12:44:05.515Z"
   },
   {
    "duration": 27,
    "start_time": "2022-04-10T12:44:05.665Z"
   },
   {
    "duration": 20,
    "start_time": "2022-04-10T12:44:05.694Z"
   },
   {
    "duration": 179,
    "start_time": "2022-04-10T12:44:05.715Z"
   },
   {
    "duration": 16,
    "start_time": "2022-04-10T12:44:05.897Z"
   },
   {
    "duration": 5,
    "start_time": "2022-04-10T12:44:05.916Z"
   },
   {
    "duration": 82,
    "start_time": "2022-04-10T12:44:05.923Z"
   },
   {
    "duration": 20,
    "start_time": "2022-04-10T12:44:06.007Z"
   },
   {
    "duration": 16,
    "start_time": "2022-04-10T12:44:06.029Z"
   },
   {
    "duration": 36,
    "start_time": "2022-04-10T12:44:06.046Z"
   },
   {
    "duration": 8,
    "start_time": "2022-04-10T12:44:06.083Z"
   },
   {
    "duration": 8,
    "start_time": "2022-04-10T12:44:06.093Z"
   },
   {
    "duration": 27,
    "start_time": "2022-04-10T12:44:06.103Z"
   },
   {
    "duration": 18,
    "start_time": "2022-04-10T12:44:06.132Z"
   },
   {
    "duration": 41,
    "start_time": "2022-04-10T12:44:06.152Z"
   },
   {
    "duration": 23,
    "start_time": "2022-04-10T12:44:06.194Z"
   },
   {
    "duration": 110,
    "start_time": "2022-04-10T12:44:06.218Z"
   },
   {
    "duration": 0,
    "start_time": "2022-04-10T12:44:06.329Z"
   },
   {
    "duration": 0,
    "start_time": "2022-04-10T12:44:06.330Z"
   },
   {
    "duration": 0,
    "start_time": "2022-04-10T12:44:06.332Z"
   },
   {
    "duration": 0,
    "start_time": "2022-04-10T12:44:06.333Z"
   },
   {
    "duration": 0,
    "start_time": "2022-04-10T12:44:06.333Z"
   },
   {
    "duration": 0,
    "start_time": "2022-04-10T12:44:06.335Z"
   },
   {
    "duration": 0,
    "start_time": "2022-04-10T12:44:06.335Z"
   },
   {
    "duration": 0,
    "start_time": "2022-04-10T12:44:06.336Z"
   },
   {
    "duration": 0,
    "start_time": "2022-04-10T12:44:06.337Z"
   },
   {
    "duration": 0,
    "start_time": "2022-04-10T12:44:06.338Z"
   },
   {
    "duration": 0,
    "start_time": "2022-04-10T12:44:06.339Z"
   },
   {
    "duration": 0,
    "start_time": "2022-04-10T12:44:06.339Z"
   },
   {
    "duration": 0,
    "start_time": "2022-04-10T12:44:06.340Z"
   },
   {
    "duration": 0,
    "start_time": "2022-04-10T12:44:06.341Z"
   },
   {
    "duration": 0,
    "start_time": "2022-04-10T12:44:06.342Z"
   },
   {
    "duration": 0,
    "start_time": "2022-04-10T12:44:06.343Z"
   },
   {
    "duration": 0,
    "start_time": "2022-04-10T12:44:06.343Z"
   },
   {
    "duration": 23,
    "start_time": "2022-04-10T12:47:37.055Z"
   },
   {
    "duration": 33,
    "start_time": "2022-04-10T12:47:54.174Z"
   },
   {
    "duration": 484,
    "start_time": "2022-04-10T12:48:09.239Z"
   },
   {
    "duration": 175,
    "start_time": "2022-04-10T12:48:09.725Z"
   },
   {
    "duration": 402,
    "start_time": "2022-04-10T12:48:09.901Z"
   },
   {
    "duration": 2,
    "start_time": "2022-04-10T12:48:10.305Z"
   },
   {
    "duration": 6,
    "start_time": "2022-04-10T12:48:10.309Z"
   },
   {
    "duration": 387,
    "start_time": "2022-04-10T12:48:10.316Z"
   },
   {
    "duration": 279,
    "start_time": "2022-04-10T12:48:10.705Z"
   },
   {
    "duration": 215,
    "start_time": "2022-04-10T12:48:10.986Z"
   },
   {
    "duration": 145,
    "start_time": "2022-04-10T12:48:11.203Z"
   },
   {
    "duration": 32,
    "start_time": "2022-04-10T12:48:11.349Z"
   },
   {
    "duration": 21,
    "start_time": "2022-04-10T12:48:11.382Z"
   },
   {
    "duration": 169,
    "start_time": "2022-04-10T12:48:11.405Z"
   },
   {
    "duration": 20,
    "start_time": "2022-04-10T12:48:11.575Z"
   },
   {
    "duration": 6,
    "start_time": "2022-04-10T12:48:11.598Z"
   },
   {
    "duration": 82,
    "start_time": "2022-04-10T12:48:11.606Z"
   },
   {
    "duration": 19,
    "start_time": "2022-04-10T12:48:11.689Z"
   },
   {
    "duration": 12,
    "start_time": "2022-04-10T12:48:11.709Z"
   },
   {
    "duration": 21,
    "start_time": "2022-04-10T12:48:11.722Z"
   },
   {
    "duration": 7,
    "start_time": "2022-04-10T12:48:11.745Z"
   },
   {
    "duration": 8,
    "start_time": "2022-04-10T12:48:11.780Z"
   },
   {
    "duration": 29,
    "start_time": "2022-04-10T12:48:11.789Z"
   },
   {
    "duration": 19,
    "start_time": "2022-04-10T12:48:11.819Z"
   },
   {
    "duration": 13,
    "start_time": "2022-04-10T12:48:11.839Z"
   },
   {
    "duration": 50,
    "start_time": "2022-04-10T12:48:11.853Z"
   },
   {
    "duration": 111,
    "start_time": "2022-04-10T12:48:11.905Z"
   },
   {
    "duration": 0,
    "start_time": "2022-04-10T12:48:12.018Z"
   },
   {
    "duration": 0,
    "start_time": "2022-04-10T12:48:12.019Z"
   },
   {
    "duration": 0,
    "start_time": "2022-04-10T12:48:12.020Z"
   },
   {
    "duration": 0,
    "start_time": "2022-04-10T12:48:12.021Z"
   },
   {
    "duration": 0,
    "start_time": "2022-04-10T12:48:12.022Z"
   },
   {
    "duration": 0,
    "start_time": "2022-04-10T12:48:12.022Z"
   },
   {
    "duration": 0,
    "start_time": "2022-04-10T12:48:12.023Z"
   },
   {
    "duration": 0,
    "start_time": "2022-04-10T12:48:12.024Z"
   },
   {
    "duration": 0,
    "start_time": "2022-04-10T12:48:12.025Z"
   },
   {
    "duration": 0,
    "start_time": "2022-04-10T12:48:12.025Z"
   },
   {
    "duration": 0,
    "start_time": "2022-04-10T12:48:12.026Z"
   },
   {
    "duration": 0,
    "start_time": "2022-04-10T12:48:12.027Z"
   },
   {
    "duration": 0,
    "start_time": "2022-04-10T12:48:12.028Z"
   },
   {
    "duration": 0,
    "start_time": "2022-04-10T12:48:12.029Z"
   },
   {
    "duration": 0,
    "start_time": "2022-04-10T12:48:12.030Z"
   },
   {
    "duration": 0,
    "start_time": "2022-04-10T12:48:12.031Z"
   },
   {
    "duration": 0,
    "start_time": "2022-04-10T12:48:12.033Z"
   },
   {
    "duration": 3,
    "start_time": "2022-04-10T12:56:28.757Z"
   },
   {
    "duration": 19,
    "start_time": "2022-04-10T12:56:51.909Z"
   },
   {
    "duration": 8,
    "start_time": "2022-04-10T12:59:06.796Z"
   },
   {
    "duration": 3,
    "start_time": "2022-04-10T12:59:35.181Z"
   },
   {
    "duration": 151,
    "start_time": "2022-04-10T12:59:36.793Z"
   },
   {
    "duration": 4,
    "start_time": "2022-04-10T12:59:59.393Z"
   },
   {
    "duration": 274,
    "start_time": "2022-04-10T13:00:00.165Z"
   },
   {
    "duration": 464,
    "start_time": "2022-04-10T13:02:32.172Z"
   },
   {
    "duration": 182,
    "start_time": "2022-04-10T13:02:32.637Z"
   },
   {
    "duration": 390,
    "start_time": "2022-04-10T13:02:32.820Z"
   },
   {
    "duration": 2,
    "start_time": "2022-04-10T13:02:33.212Z"
   },
   {
    "duration": 5,
    "start_time": "2022-04-10T13:02:33.216Z"
   },
   {
    "duration": 267,
    "start_time": "2022-04-10T13:02:33.222Z"
   },
   {
    "duration": 370,
    "start_time": "2022-04-10T13:02:33.491Z"
   },
   {
    "duration": 190,
    "start_time": "2022-04-10T13:02:33.862Z"
   },
   {
    "duration": 145,
    "start_time": "2022-04-10T13:02:34.053Z"
   },
   {
    "duration": 17,
    "start_time": "2022-04-10T13:02:34.201Z"
   },
   {
    "duration": 19,
    "start_time": "2022-04-10T13:02:34.220Z"
   },
   {
    "duration": 172,
    "start_time": "2022-04-10T13:02:34.240Z"
   },
   {
    "duration": 13,
    "start_time": "2022-04-10T13:02:34.414Z"
   },
   {
    "duration": 5,
    "start_time": "2022-04-10T13:02:34.428Z"
   },
   {
    "duration": 80,
    "start_time": "2022-04-10T13:02:34.434Z"
   },
   {
    "duration": 17,
    "start_time": "2022-04-10T13:02:34.515Z"
   },
   {
    "duration": 10,
    "start_time": "2022-04-10T13:02:34.534Z"
   },
   {
    "duration": 3,
    "start_time": "2022-04-10T13:02:34.545Z"
   },
   {
    "duration": 36,
    "start_time": "2022-04-10T13:02:34.549Z"
   },
   {
    "duration": 22,
    "start_time": "2022-04-10T13:02:34.586Z"
   },
   {
    "duration": 8,
    "start_time": "2022-04-10T13:02:34.610Z"
   },
   {
    "duration": 21,
    "start_time": "2022-04-10T13:02:34.620Z"
   },
   {
    "duration": 122,
    "start_time": "2022-04-10T13:02:34.643Z"
   },
   {
    "duration": 0,
    "start_time": "2022-04-10T13:02:34.767Z"
   },
   {
    "duration": 0,
    "start_time": "2022-04-10T13:02:34.768Z"
   },
   {
    "duration": 0,
    "start_time": "2022-04-10T13:02:34.768Z"
   },
   {
    "duration": 0,
    "start_time": "2022-04-10T13:02:34.769Z"
   },
   {
    "duration": 0,
    "start_time": "2022-04-10T13:02:34.770Z"
   },
   {
    "duration": 0,
    "start_time": "2022-04-10T13:02:34.771Z"
   },
   {
    "duration": 0,
    "start_time": "2022-04-10T13:02:34.772Z"
   },
   {
    "duration": 0,
    "start_time": "2022-04-10T13:02:34.781Z"
   },
   {
    "duration": 0,
    "start_time": "2022-04-10T13:02:34.782Z"
   },
   {
    "duration": 0,
    "start_time": "2022-04-10T13:02:34.782Z"
   },
   {
    "duration": 0,
    "start_time": "2022-04-10T13:02:34.783Z"
   },
   {
    "duration": 0,
    "start_time": "2022-04-10T13:02:34.784Z"
   },
   {
    "duration": 0,
    "start_time": "2022-04-10T13:02:34.785Z"
   },
   {
    "duration": 0,
    "start_time": "2022-04-10T13:02:34.786Z"
   },
   {
    "duration": 0,
    "start_time": "2022-04-10T13:02:34.787Z"
   },
   {
    "duration": 0,
    "start_time": "2022-04-10T13:02:34.787Z"
   },
   {
    "duration": 0,
    "start_time": "2022-04-10T13:02:34.788Z"
   },
   {
    "duration": 0,
    "start_time": "2022-04-10T13:02:34.789Z"
   },
   {
    "duration": 0,
    "start_time": "2022-04-10T13:02:34.790Z"
   },
   {
    "duration": 0,
    "start_time": "2022-04-10T13:02:34.791Z"
   },
   {
    "duration": 25,
    "start_time": "2022-04-10T13:10:51.038Z"
   },
   {
    "duration": 445,
    "start_time": "2022-04-10T13:14:58.898Z"
   },
   {
    "duration": 166,
    "start_time": "2022-04-10T13:14:59.345Z"
   },
   {
    "duration": 399,
    "start_time": "2022-04-10T13:14:59.512Z"
   },
   {
    "duration": 2,
    "start_time": "2022-04-10T13:14:59.912Z"
   },
   {
    "duration": 4,
    "start_time": "2022-04-10T13:14:59.916Z"
   },
   {
    "duration": 694,
    "start_time": "2022-04-10T13:14:59.921Z"
   },
   {
    "duration": 92,
    "start_time": "2022-04-10T13:15:00.617Z"
   },
   {
    "duration": 0,
    "start_time": "2022-04-10T13:15:00.711Z"
   },
   {
    "duration": 0,
    "start_time": "2022-04-10T13:15:00.712Z"
   },
   {
    "duration": 0,
    "start_time": "2022-04-10T13:15:00.713Z"
   },
   {
    "duration": 0,
    "start_time": "2022-04-10T13:15:00.714Z"
   },
   {
    "duration": 0,
    "start_time": "2022-04-10T13:15:00.715Z"
   },
   {
    "duration": 0,
    "start_time": "2022-04-10T13:15:00.717Z"
   },
   {
    "duration": 0,
    "start_time": "2022-04-10T13:15:00.718Z"
   },
   {
    "duration": 0,
    "start_time": "2022-04-10T13:15:00.719Z"
   },
   {
    "duration": 0,
    "start_time": "2022-04-10T13:15:00.720Z"
   },
   {
    "duration": 0,
    "start_time": "2022-04-10T13:15:00.721Z"
   },
   {
    "duration": 0,
    "start_time": "2022-04-10T13:15:00.722Z"
   },
   {
    "duration": 0,
    "start_time": "2022-04-10T13:15:00.722Z"
   },
   {
    "duration": 0,
    "start_time": "2022-04-10T13:15:00.723Z"
   },
   {
    "duration": 0,
    "start_time": "2022-04-10T13:15:00.724Z"
   },
   {
    "duration": 0,
    "start_time": "2022-04-10T13:15:00.725Z"
   },
   {
    "duration": 0,
    "start_time": "2022-04-10T13:15:00.726Z"
   },
   {
    "duration": 0,
    "start_time": "2022-04-10T13:15:00.727Z"
   },
   {
    "duration": 0,
    "start_time": "2022-04-10T13:15:00.728Z"
   },
   {
    "duration": 0,
    "start_time": "2022-04-10T13:15:00.728Z"
   },
   {
    "duration": 0,
    "start_time": "2022-04-10T13:15:00.729Z"
   },
   {
    "duration": 0,
    "start_time": "2022-04-10T13:15:00.730Z"
   },
   {
    "duration": 0,
    "start_time": "2022-04-10T13:15:00.731Z"
   },
   {
    "duration": 0,
    "start_time": "2022-04-10T13:15:00.732Z"
   },
   {
    "duration": 0,
    "start_time": "2022-04-10T13:15:00.732Z"
   },
   {
    "duration": 0,
    "start_time": "2022-04-10T13:15:00.733Z"
   },
   {
    "duration": 0,
    "start_time": "2022-04-10T13:15:00.734Z"
   },
   {
    "duration": 0,
    "start_time": "2022-04-10T13:15:00.735Z"
   },
   {
    "duration": 0,
    "start_time": "2022-04-10T13:15:00.736Z"
   },
   {
    "duration": 0,
    "start_time": "2022-04-10T13:15:00.737Z"
   },
   {
    "duration": 0,
    "start_time": "2022-04-10T13:15:00.738Z"
   },
   {
    "duration": 0,
    "start_time": "2022-04-10T13:15:00.738Z"
   },
   {
    "duration": 0,
    "start_time": "2022-04-10T13:15:00.739Z"
   },
   {
    "duration": 0,
    "start_time": "2022-04-10T13:15:00.740Z"
   },
   {
    "duration": 0,
    "start_time": "2022-04-10T13:15:00.742Z"
   },
   {
    "duration": 0,
    "start_time": "2022-04-10T13:15:00.742Z"
   },
   {
    "duration": 149,
    "start_time": "2022-04-10T13:15:34.742Z"
   },
   {
    "duration": 128,
    "start_time": "2022-04-10T13:16:14.674Z"
   },
   {
    "duration": 423,
    "start_time": "2022-04-10T13:16:22.116Z"
   },
   {
    "duration": 179,
    "start_time": "2022-04-10T13:16:22.541Z"
   },
   {
    "duration": 409,
    "start_time": "2022-04-10T13:16:22.722Z"
   },
   {
    "duration": 2,
    "start_time": "2022-04-10T13:16:23.133Z"
   },
   {
    "duration": 4,
    "start_time": "2022-04-10T13:16:23.137Z"
   },
   {
    "duration": 686,
    "start_time": "2022-04-10T13:16:23.143Z"
   },
   {
    "duration": 157,
    "start_time": "2022-04-10T13:16:23.831Z"
   },
   {
    "duration": 16,
    "start_time": "2022-04-10T13:16:23.990Z"
   },
   {
    "duration": 6,
    "start_time": "2022-04-10T13:16:24.008Z"
   },
   {
    "duration": 79,
    "start_time": "2022-04-10T13:16:24.017Z"
   },
   {
    "duration": 17,
    "start_time": "2022-04-10T13:16:24.098Z"
   },
   {
    "duration": 9,
    "start_time": "2022-04-10T13:16:24.116Z"
   },
   {
    "duration": 3,
    "start_time": "2022-04-10T13:16:24.127Z"
   },
   {
    "duration": 21,
    "start_time": "2022-04-10T13:16:24.132Z"
   },
   {
    "duration": 21,
    "start_time": "2022-04-10T13:16:24.180Z"
   },
   {
    "duration": 22,
    "start_time": "2022-04-10T13:16:24.203Z"
   },
   {
    "duration": 19,
    "start_time": "2022-04-10T13:16:24.227Z"
   },
   {
    "duration": 47,
    "start_time": "2022-04-10T13:16:24.247Z"
   },
   {
    "duration": 17,
    "start_time": "2022-04-10T13:16:24.295Z"
   },
   {
    "duration": 22,
    "start_time": "2022-04-10T13:16:24.313Z"
   },
   {
    "duration": 3,
    "start_time": "2022-04-10T13:16:24.337Z"
   },
   {
    "duration": 5,
    "start_time": "2022-04-10T13:16:24.342Z"
   },
   {
    "duration": 12,
    "start_time": "2022-04-10T13:16:24.348Z"
   },
   {
    "duration": 31,
    "start_time": "2022-04-10T13:16:24.380Z"
   },
   {
    "duration": 4,
    "start_time": "2022-04-10T13:16:24.413Z"
   },
   {
    "duration": 162,
    "start_time": "2022-04-10T13:16:24.419Z"
   },
   {
    "duration": 43,
    "start_time": "2022-04-10T13:16:24.583Z"
   },
   {
    "duration": 141,
    "start_time": "2022-04-10T13:16:24.629Z"
   },
   {
    "duration": 124,
    "start_time": "2022-04-10T13:16:24.772Z"
   },
   {
    "duration": 119,
    "start_time": "2022-04-10T13:16:24.898Z"
   },
   {
    "duration": 6,
    "start_time": "2022-04-10T13:16:25.019Z"
   },
   {
    "duration": 122,
    "start_time": "2022-04-10T13:16:25.026Z"
   },
   {
    "duration": 131,
    "start_time": "2022-04-10T13:16:25.149Z"
   },
   {
    "duration": 118,
    "start_time": "2022-04-10T13:16:25.282Z"
   },
   {
    "duration": 5,
    "start_time": "2022-04-10T13:16:25.401Z"
   },
   {
    "duration": 8,
    "start_time": "2022-04-10T13:16:25.408Z"
   },
   {
    "duration": 4,
    "start_time": "2022-04-10T13:16:25.418Z"
   },
   {
    "duration": 4,
    "start_time": "2022-04-10T13:16:25.424Z"
   },
   {
    "duration": 195,
    "start_time": "2022-04-10T13:19:48.464Z"
   },
   {
    "duration": 16,
    "start_time": "2022-04-10T13:20:42.626Z"
   },
   {
    "duration": 509,
    "start_time": "2022-04-10T13:28:13.453Z"
   },
   {
    "duration": 172,
    "start_time": "2022-04-10T13:28:13.964Z"
   },
   {
    "duration": 464,
    "start_time": "2022-04-10T13:28:14.138Z"
   },
   {
    "duration": 3,
    "start_time": "2022-04-10T13:28:14.603Z"
   },
   {
    "duration": 5,
    "start_time": "2022-04-10T13:28:14.607Z"
   },
   {
    "duration": 685,
    "start_time": "2022-04-10T13:28:14.613Z"
   },
   {
    "duration": 157,
    "start_time": "2022-04-10T13:28:15.300Z"
   },
   {
    "duration": 14,
    "start_time": "2022-04-10T13:28:15.459Z"
   },
   {
    "duration": 10,
    "start_time": "2022-04-10T13:28:15.474Z"
   },
   {
    "duration": 66,
    "start_time": "2022-04-10T13:28:15.485Z"
   },
   {
    "duration": 35,
    "start_time": "2022-04-10T13:28:15.553Z"
   },
   {
    "duration": 9,
    "start_time": "2022-04-10T13:28:15.589Z"
   },
   {
    "duration": 3,
    "start_time": "2022-04-10T13:28:15.600Z"
   },
   {
    "duration": 19,
    "start_time": "2022-04-10T13:28:15.605Z"
   },
   {
    "duration": 23,
    "start_time": "2022-04-10T13:28:15.625Z"
   },
   {
    "duration": 299,
    "start_time": "2022-04-10T13:28:15.649Z"
   },
   {
    "duration": 0,
    "start_time": "2022-04-10T13:28:15.950Z"
   },
   {
    "duration": 0,
    "start_time": "2022-04-10T13:28:15.951Z"
   },
   {
    "duration": 0,
    "start_time": "2022-04-10T13:28:15.952Z"
   },
   {
    "duration": 0,
    "start_time": "2022-04-10T13:28:15.953Z"
   },
   {
    "duration": 0,
    "start_time": "2022-04-10T13:28:15.954Z"
   },
   {
    "duration": 0,
    "start_time": "2022-04-10T13:28:15.955Z"
   },
   {
    "duration": 0,
    "start_time": "2022-04-10T13:28:15.955Z"
   },
   {
    "duration": 0,
    "start_time": "2022-04-10T13:28:15.956Z"
   },
   {
    "duration": 0,
    "start_time": "2022-04-10T13:28:15.957Z"
   },
   {
    "duration": 0,
    "start_time": "2022-04-10T13:28:15.958Z"
   },
   {
    "duration": 0,
    "start_time": "2022-04-10T13:28:15.959Z"
   },
   {
    "duration": 0,
    "start_time": "2022-04-10T13:28:15.960Z"
   },
   {
    "duration": 0,
    "start_time": "2022-04-10T13:28:15.961Z"
   },
   {
    "duration": 0,
    "start_time": "2022-04-10T13:28:15.961Z"
   },
   {
    "duration": 0,
    "start_time": "2022-04-10T13:28:15.962Z"
   },
   {
    "duration": 0,
    "start_time": "2022-04-10T13:28:15.964Z"
   },
   {
    "duration": 0,
    "start_time": "2022-04-10T13:28:15.965Z"
   },
   {
    "duration": 0,
    "start_time": "2022-04-10T13:28:15.965Z"
   },
   {
    "duration": 0,
    "start_time": "2022-04-10T13:28:15.966Z"
   },
   {
    "duration": 1,
    "start_time": "2022-04-10T13:28:15.967Z"
   },
   {
    "duration": 0,
    "start_time": "2022-04-10T13:28:15.968Z"
   },
   {
    "duration": 0,
    "start_time": "2022-04-10T13:28:15.969Z"
   },
   {
    "duration": 0,
    "start_time": "2022-04-10T13:28:15.970Z"
   },
   {
    "duration": 0,
    "start_time": "2022-04-10T13:28:15.971Z"
   },
   {
    "duration": 24,
    "start_time": "2022-04-10T13:32:04.138Z"
   },
   {
    "duration": 19,
    "start_time": "2022-04-10T13:32:07.446Z"
   },
   {
    "duration": 18,
    "start_time": "2022-04-10T13:32:09.761Z"
   },
   {
    "duration": 19,
    "start_time": "2022-04-10T13:32:11.844Z"
   },
   {
    "duration": 162,
    "start_time": "2022-04-10T13:32:13.419Z"
   },
   {
    "duration": 0,
    "start_time": "2022-04-10T13:32:13.583Z"
   },
   {
    "duration": 23,
    "start_time": "2022-04-10T13:32:31.840Z"
   },
   {
    "duration": 28,
    "start_time": "2022-04-10T13:33:27.808Z"
   },
   {
    "duration": 487,
    "start_time": "2022-04-10T13:40:47.973Z"
   },
   {
    "duration": 168,
    "start_time": "2022-04-10T13:40:48.461Z"
   },
   {
    "duration": 456,
    "start_time": "2022-04-10T13:40:48.631Z"
   },
   {
    "duration": 3,
    "start_time": "2022-04-10T13:40:49.089Z"
   },
   {
    "duration": 4,
    "start_time": "2022-04-10T13:40:49.093Z"
   },
   {
    "duration": 725,
    "start_time": "2022-04-10T13:40:49.099Z"
   },
   {
    "duration": 154,
    "start_time": "2022-04-10T13:40:49.825Z"
   },
   {
    "duration": 15,
    "start_time": "2022-04-10T13:40:49.981Z"
   },
   {
    "duration": 6,
    "start_time": "2022-04-10T13:40:49.998Z"
   },
   {
    "duration": 83,
    "start_time": "2022-04-10T13:40:50.006Z"
   },
   {
    "duration": 19,
    "start_time": "2022-04-10T13:40:50.090Z"
   },
   {
    "duration": 8,
    "start_time": "2022-04-10T13:40:50.111Z"
   },
   {
    "duration": 6,
    "start_time": "2022-04-10T13:40:50.121Z"
   },
   {
    "duration": 23,
    "start_time": "2022-04-10T13:40:50.128Z"
   },
   {
    "duration": 3668,
    "start_time": "2022-04-10T13:40:50.152Z"
   },
   {
    "duration": 0,
    "start_time": "2022-04-10T13:40:53.822Z"
   },
   {
    "duration": 0,
    "start_time": "2022-04-10T13:40:53.823Z"
   },
   {
    "duration": 0,
    "start_time": "2022-04-10T13:40:53.824Z"
   },
   {
    "duration": 0,
    "start_time": "2022-04-10T13:40:53.826Z"
   },
   {
    "duration": 0,
    "start_time": "2022-04-10T13:40:53.827Z"
   },
   {
    "duration": 0,
    "start_time": "2022-04-10T13:40:53.829Z"
   },
   {
    "duration": 0,
    "start_time": "2022-04-10T13:40:53.830Z"
   },
   {
    "duration": 0,
    "start_time": "2022-04-10T13:40:53.831Z"
   },
   {
    "duration": 0,
    "start_time": "2022-04-10T13:40:53.832Z"
   },
   {
    "duration": 0,
    "start_time": "2022-04-10T13:40:53.835Z"
   },
   {
    "duration": 0,
    "start_time": "2022-04-10T13:40:53.837Z"
   },
   {
    "duration": 0,
    "start_time": "2022-04-10T13:40:53.838Z"
   },
   {
    "duration": 0,
    "start_time": "2022-04-10T13:40:53.839Z"
   },
   {
    "duration": 0,
    "start_time": "2022-04-10T13:40:53.841Z"
   },
   {
    "duration": 0,
    "start_time": "2022-04-10T13:40:53.842Z"
   },
   {
    "duration": 0,
    "start_time": "2022-04-10T13:40:53.843Z"
   },
   {
    "duration": 0,
    "start_time": "2022-04-10T13:40:53.845Z"
   },
   {
    "duration": 0,
    "start_time": "2022-04-10T13:40:53.846Z"
   },
   {
    "duration": 0,
    "start_time": "2022-04-10T13:40:53.848Z"
   },
   {
    "duration": 0,
    "start_time": "2022-04-10T13:40:53.849Z"
   },
   {
    "duration": 0,
    "start_time": "2022-04-10T13:40:53.850Z"
   },
   {
    "duration": 0,
    "start_time": "2022-04-10T13:40:53.852Z"
   },
   {
    "duration": 0,
    "start_time": "2022-04-10T13:40:53.853Z"
   },
   {
    "duration": 0,
    "start_time": "2022-04-10T13:40:53.854Z"
   },
   {
    "duration": 25,
    "start_time": "2022-04-10T13:42:28.369Z"
   },
   {
    "duration": 449,
    "start_time": "2022-04-10T13:42:57.690Z"
   },
   {
    "duration": 175,
    "start_time": "2022-04-10T13:42:58.141Z"
   },
   {
    "duration": 389,
    "start_time": "2022-04-10T13:42:58.318Z"
   },
   {
    "duration": 2,
    "start_time": "2022-04-10T13:42:58.709Z"
   },
   {
    "duration": 4,
    "start_time": "2022-04-10T13:42:58.713Z"
   },
   {
    "duration": 769,
    "start_time": "2022-04-10T13:42:58.719Z"
   },
   {
    "duration": 159,
    "start_time": "2022-04-10T13:42:59.489Z"
   },
   {
    "duration": 16,
    "start_time": "2022-04-10T13:42:59.649Z"
   },
   {
    "duration": 15,
    "start_time": "2022-04-10T13:42:59.666Z"
   },
   {
    "duration": 71,
    "start_time": "2022-04-10T13:42:59.684Z"
   },
   {
    "duration": 34,
    "start_time": "2022-04-10T13:42:59.756Z"
   },
   {
    "duration": 9,
    "start_time": "2022-04-10T13:42:59.792Z"
   },
   {
    "duration": 4,
    "start_time": "2022-04-10T13:42:59.802Z"
   },
   {
    "duration": 19,
    "start_time": "2022-04-10T13:42:59.807Z"
   },
   {
    "duration": 21,
    "start_time": "2022-04-10T13:42:59.827Z"
   },
   {
    "duration": 2888,
    "start_time": "2022-04-10T13:42:59.849Z"
   },
   {
    "duration": 0,
    "start_time": "2022-04-10T13:43:02.739Z"
   },
   {
    "duration": 0,
    "start_time": "2022-04-10T13:43:02.740Z"
   },
   {
    "duration": 0,
    "start_time": "2022-04-10T13:43:02.741Z"
   },
   {
    "duration": 0,
    "start_time": "2022-04-10T13:43:02.742Z"
   },
   {
    "duration": 0,
    "start_time": "2022-04-10T13:43:02.743Z"
   },
   {
    "duration": 0,
    "start_time": "2022-04-10T13:43:02.744Z"
   },
   {
    "duration": 0,
    "start_time": "2022-04-10T13:43:02.746Z"
   },
   {
    "duration": 0,
    "start_time": "2022-04-10T13:43:02.747Z"
   },
   {
    "duration": 0,
    "start_time": "2022-04-10T13:43:02.748Z"
   },
   {
    "duration": 0,
    "start_time": "2022-04-10T13:43:02.749Z"
   },
   {
    "duration": 0,
    "start_time": "2022-04-10T13:43:02.750Z"
   },
   {
    "duration": 0,
    "start_time": "2022-04-10T13:43:02.751Z"
   },
   {
    "duration": 0,
    "start_time": "2022-04-10T13:43:02.752Z"
   },
   {
    "duration": 0,
    "start_time": "2022-04-10T13:43:02.753Z"
   },
   {
    "duration": 0,
    "start_time": "2022-04-10T13:43:02.754Z"
   },
   {
    "duration": 0,
    "start_time": "2022-04-10T13:43:02.755Z"
   },
   {
    "duration": 0,
    "start_time": "2022-04-10T13:43:02.756Z"
   },
   {
    "duration": 0,
    "start_time": "2022-04-10T13:43:02.757Z"
   },
   {
    "duration": 0,
    "start_time": "2022-04-10T13:43:02.758Z"
   },
   {
    "duration": 0,
    "start_time": "2022-04-10T13:43:02.759Z"
   },
   {
    "duration": 0,
    "start_time": "2022-04-10T13:43:02.760Z"
   },
   {
    "duration": 0,
    "start_time": "2022-04-10T13:43:02.761Z"
   },
   {
    "duration": 0,
    "start_time": "2022-04-10T13:43:02.762Z"
   },
   {
    "duration": 0,
    "start_time": "2022-04-10T13:43:02.763Z"
   },
   {
    "duration": 484,
    "start_time": "2022-04-10T13:44:31.754Z"
   },
   {
    "duration": 173,
    "start_time": "2022-04-10T13:44:32.240Z"
   },
   {
    "duration": 398,
    "start_time": "2022-04-10T13:44:32.415Z"
   },
   {
    "duration": 2,
    "start_time": "2022-04-10T13:44:32.814Z"
   },
   {
    "duration": 8,
    "start_time": "2022-04-10T13:44:32.818Z"
   },
   {
    "duration": 695,
    "start_time": "2022-04-10T13:44:32.827Z"
   },
   {
    "duration": 145,
    "start_time": "2022-04-10T13:44:33.523Z"
   },
   {
    "duration": 15,
    "start_time": "2022-04-10T13:44:33.669Z"
   },
   {
    "duration": 5,
    "start_time": "2022-04-10T13:44:33.685Z"
   },
   {
    "duration": 67,
    "start_time": "2022-04-10T13:44:33.692Z"
   },
   {
    "duration": 33,
    "start_time": "2022-04-10T13:44:33.760Z"
   },
   {
    "duration": 8,
    "start_time": "2022-04-10T13:44:33.795Z"
   },
   {
    "duration": 4,
    "start_time": "2022-04-10T13:44:33.805Z"
   },
   {
    "duration": 23,
    "start_time": "2022-04-10T13:44:33.811Z"
   },
   {
    "duration": 9,
    "start_time": "2022-04-10T13:44:33.835Z"
   },
   {
    "duration": 41,
    "start_time": "2022-04-10T13:44:33.845Z"
   },
   {
    "duration": 2801,
    "start_time": "2022-04-10T13:44:33.888Z"
   },
   {
    "duration": 0,
    "start_time": "2022-04-10T13:44:36.691Z"
   },
   {
    "duration": 0,
    "start_time": "2022-04-10T13:44:36.692Z"
   },
   {
    "duration": 0,
    "start_time": "2022-04-10T13:44:36.693Z"
   },
   {
    "duration": 0,
    "start_time": "2022-04-10T13:44:36.694Z"
   },
   {
    "duration": 0,
    "start_time": "2022-04-10T13:44:36.695Z"
   },
   {
    "duration": 0,
    "start_time": "2022-04-10T13:44:36.696Z"
   },
   {
    "duration": 0,
    "start_time": "2022-04-10T13:44:36.697Z"
   },
   {
    "duration": 0,
    "start_time": "2022-04-10T13:44:36.698Z"
   },
   {
    "duration": 0,
    "start_time": "2022-04-10T13:44:36.699Z"
   },
   {
    "duration": 0,
    "start_time": "2022-04-10T13:44:36.700Z"
   },
   {
    "duration": 0,
    "start_time": "2022-04-10T13:44:36.702Z"
   },
   {
    "duration": 0,
    "start_time": "2022-04-10T13:44:36.703Z"
   },
   {
    "duration": 0,
    "start_time": "2022-04-10T13:44:36.704Z"
   },
   {
    "duration": 0,
    "start_time": "2022-04-10T13:44:36.705Z"
   },
   {
    "duration": 0,
    "start_time": "2022-04-10T13:44:36.707Z"
   },
   {
    "duration": 0,
    "start_time": "2022-04-10T13:44:36.707Z"
   },
   {
    "duration": 0,
    "start_time": "2022-04-10T13:44:36.708Z"
   },
   {
    "duration": 0,
    "start_time": "2022-04-10T13:44:36.709Z"
   },
   {
    "duration": 0,
    "start_time": "2022-04-10T13:44:36.710Z"
   },
   {
    "duration": 0,
    "start_time": "2022-04-10T13:44:36.711Z"
   },
   {
    "duration": 0,
    "start_time": "2022-04-10T13:44:36.712Z"
   },
   {
    "duration": 0,
    "start_time": "2022-04-10T13:44:36.713Z"
   },
   {
    "duration": 0,
    "start_time": "2022-04-10T13:44:36.714Z"
   },
   {
    "duration": 0,
    "start_time": "2022-04-10T13:44:36.715Z"
   },
   {
    "duration": 17,
    "start_time": "2022-04-10T13:47:02.226Z"
   },
   {
    "duration": 3,
    "start_time": "2022-04-10T13:47:18.238Z"
   },
   {
    "duration": 23,
    "start_time": "2022-04-10T13:48:45.434Z"
   },
   {
    "duration": 435,
    "start_time": "2022-04-10T13:49:04.822Z"
   },
   {
    "duration": 174,
    "start_time": "2022-04-10T13:49:05.259Z"
   },
   {
    "duration": 467,
    "start_time": "2022-04-10T13:49:05.434Z"
   },
   {
    "duration": 3,
    "start_time": "2022-04-10T13:49:05.902Z"
   },
   {
    "duration": 4,
    "start_time": "2022-04-10T13:49:05.907Z"
   },
   {
    "duration": 685,
    "start_time": "2022-04-10T13:49:05.912Z"
   },
   {
    "duration": 156,
    "start_time": "2022-04-10T13:49:06.598Z"
   },
   {
    "duration": 16,
    "start_time": "2022-04-10T13:49:06.755Z"
   },
   {
    "duration": 11,
    "start_time": "2022-04-10T13:49:06.773Z"
   },
   {
    "duration": 71,
    "start_time": "2022-04-10T13:49:06.785Z"
   },
   {
    "duration": 35,
    "start_time": "2022-04-10T13:49:06.858Z"
   },
   {
    "duration": 10,
    "start_time": "2022-04-10T13:49:06.894Z"
   },
   {
    "duration": 5,
    "start_time": "2022-04-10T13:49:06.905Z"
   },
   {
    "duration": 21,
    "start_time": "2022-04-10T13:49:06.913Z"
   },
   {
    "duration": 46,
    "start_time": "2022-04-10T13:49:06.936Z"
   },
   {
    "duration": 18,
    "start_time": "2022-04-10T13:49:06.984Z"
   },
   {
    "duration": 3,
    "start_time": "2022-04-10T13:49:07.004Z"
   },
   {
    "duration": 22,
    "start_time": "2022-04-10T13:49:07.009Z"
   },
   {
    "duration": 19,
    "start_time": "2022-04-10T13:49:07.033Z"
   },
   {
    "duration": 21,
    "start_time": "2022-04-10T13:49:07.080Z"
   },
   {
    "duration": 18,
    "start_time": "2022-04-10T13:49:07.102Z"
   },
   {
    "duration": 32,
    "start_time": "2022-04-10T13:49:07.122Z"
   },
   {
    "duration": 27,
    "start_time": "2022-04-10T13:49:07.156Z"
   },
   {
    "duration": 4,
    "start_time": "2022-04-10T13:49:07.185Z"
   },
   {
    "duration": 11,
    "start_time": "2022-04-10T13:49:07.190Z"
   },
   {
    "duration": 30,
    "start_time": "2022-04-10T13:49:07.203Z"
   },
   {
    "duration": 160,
    "start_time": "2022-04-10T13:49:07.234Z"
   },
   {
    "duration": 0,
    "start_time": "2022-04-10T13:49:07.396Z"
   },
   {
    "duration": 0,
    "start_time": "2022-04-10T13:49:07.397Z"
   },
   {
    "duration": 0,
    "start_time": "2022-04-10T13:49:07.398Z"
   },
   {
    "duration": 0,
    "start_time": "2022-04-10T13:49:07.399Z"
   },
   {
    "duration": 0,
    "start_time": "2022-04-10T13:49:07.400Z"
   },
   {
    "duration": 0,
    "start_time": "2022-04-10T13:49:07.401Z"
   },
   {
    "duration": 0,
    "start_time": "2022-04-10T13:49:07.402Z"
   },
   {
    "duration": 0,
    "start_time": "2022-04-10T13:49:07.403Z"
   },
   {
    "duration": 0,
    "start_time": "2022-04-10T13:49:07.404Z"
   },
   {
    "duration": 0,
    "start_time": "2022-04-10T13:49:07.405Z"
   },
   {
    "duration": 0,
    "start_time": "2022-04-10T13:49:07.406Z"
   },
   {
    "duration": 0,
    "start_time": "2022-04-10T13:49:07.407Z"
   },
   {
    "duration": 0,
    "start_time": "2022-04-10T13:49:07.408Z"
   },
   {
    "duration": 0,
    "start_time": "2022-04-10T13:49:07.409Z"
   },
   {
    "duration": 484,
    "start_time": "2022-04-10T13:51:26.774Z"
   },
   {
    "duration": 165,
    "start_time": "2022-04-10T13:51:27.260Z"
   },
   {
    "duration": 435,
    "start_time": "2022-04-10T13:51:27.427Z"
   },
   {
    "duration": 3,
    "start_time": "2022-04-10T13:51:27.864Z"
   },
   {
    "duration": 12,
    "start_time": "2022-04-10T13:51:27.869Z"
   },
   {
    "duration": 697,
    "start_time": "2022-04-10T13:51:27.882Z"
   },
   {
    "duration": 151,
    "start_time": "2022-04-10T13:51:28.581Z"
   },
   {
    "duration": 16,
    "start_time": "2022-04-10T13:51:28.733Z"
   },
   {
    "duration": 5,
    "start_time": "2022-04-10T13:51:28.750Z"
   },
   {
    "duration": 78,
    "start_time": "2022-04-10T13:51:28.757Z"
   },
   {
    "duration": 17,
    "start_time": "2022-04-10T13:51:28.836Z"
   },
   {
    "duration": 27,
    "start_time": "2022-04-10T13:51:28.854Z"
   },
   {
    "duration": 3,
    "start_time": "2022-04-10T13:51:28.882Z"
   },
   {
    "duration": 19,
    "start_time": "2022-04-10T13:51:28.888Z"
   },
   {
    "duration": 8,
    "start_time": "2022-04-10T13:51:28.908Z"
   },
   {
    "duration": 19,
    "start_time": "2022-04-10T13:51:28.918Z"
   },
   {
    "duration": 3,
    "start_time": "2022-04-10T13:51:28.939Z"
   },
   {
    "duration": 52,
    "start_time": "2022-04-10T13:51:28.943Z"
   },
   {
    "duration": 18,
    "start_time": "2022-04-10T13:51:28.997Z"
   },
   {
    "duration": 17,
    "start_time": "2022-04-10T13:51:29.017Z"
   },
   {
    "duration": 17,
    "start_time": "2022-04-10T13:51:29.035Z"
   },
   {
    "duration": 49,
    "start_time": "2022-04-10T13:51:29.053Z"
   },
   {
    "duration": 4,
    "start_time": "2022-04-10T13:51:29.103Z"
   },
   {
    "duration": 6,
    "start_time": "2022-04-10T13:51:29.108Z"
   },
   {
    "duration": 11,
    "start_time": "2022-04-10T13:51:29.115Z"
   },
   {
    "duration": 53,
    "start_time": "2022-04-10T13:51:29.128Z"
   },
   {
    "duration": 5,
    "start_time": "2022-04-10T13:51:29.182Z"
   },
   {
    "duration": 152,
    "start_time": "2022-04-10T13:51:29.188Z"
   },
   {
    "duration": 50,
    "start_time": "2022-04-10T13:51:29.342Z"
   },
   {
    "duration": 142,
    "start_time": "2022-04-10T13:51:29.394Z"
   },
   {
    "duration": 148,
    "start_time": "2022-04-10T13:51:29.538Z"
   },
   {
    "duration": 127,
    "start_time": "2022-04-10T13:51:29.687Z"
   },
   {
    "duration": 6,
    "start_time": "2022-04-10T13:51:29.815Z"
   },
   {
    "duration": 138,
    "start_time": "2022-04-10T13:51:29.823Z"
   },
   {
    "duration": 140,
    "start_time": "2022-04-10T13:51:29.963Z"
   },
   {
    "duration": 129,
    "start_time": "2022-04-10T13:51:30.105Z"
   },
   {
    "duration": 5,
    "start_time": "2022-04-10T13:51:30.235Z"
   },
   {
    "duration": 16,
    "start_time": "2022-04-10T13:51:30.242Z"
   },
   {
    "duration": 22,
    "start_time": "2022-04-10T13:51:30.260Z"
   },
   {
    "duration": 20,
    "start_time": "2022-04-10T13:51:30.284Z"
   },
   {
    "duration": 27,
    "start_time": "2022-04-10T14:03:09.959Z"
   },
   {
    "duration": 29,
    "start_time": "2022-04-10T14:03:57.032Z"
   },
   {
    "duration": 29,
    "start_time": "2022-04-10T14:04:31.709Z"
   },
   {
    "duration": 31,
    "start_time": "2022-04-10T14:05:10.506Z"
   },
   {
    "duration": 510,
    "start_time": "2022-04-10T14:08:49.161Z"
   },
   {
    "duration": 247,
    "start_time": "2022-04-10T14:08:49.673Z"
   },
   {
    "duration": 474,
    "start_time": "2022-04-10T14:08:49.921Z"
   },
   {
    "duration": 2,
    "start_time": "2022-04-10T14:08:50.397Z"
   },
   {
    "duration": 4,
    "start_time": "2022-04-10T14:08:50.401Z"
   },
   {
    "duration": 716,
    "start_time": "2022-04-10T14:08:50.407Z"
   },
   {
    "duration": 149,
    "start_time": "2022-04-10T14:08:51.125Z"
   },
   {
    "duration": 16,
    "start_time": "2022-04-10T14:08:51.275Z"
   },
   {
    "duration": 7,
    "start_time": "2022-04-10T14:08:51.293Z"
   },
   {
    "duration": 90,
    "start_time": "2022-04-10T14:08:51.301Z"
   },
   {
    "duration": 18,
    "start_time": "2022-04-10T14:08:51.393Z"
   },
   {
    "duration": 11,
    "start_time": "2022-04-10T14:08:51.412Z"
   },
   {
    "duration": 3,
    "start_time": "2022-04-10T14:08:51.424Z"
   },
   {
    "duration": 20,
    "start_time": "2022-04-10T14:08:51.430Z"
   },
   {
    "duration": 37,
    "start_time": "2022-04-10T14:08:51.451Z"
   },
   {
    "duration": 18,
    "start_time": "2022-04-10T14:08:51.490Z"
   },
   {
    "duration": 3,
    "start_time": "2022-04-10T14:08:51.510Z"
   },
   {
    "duration": 25,
    "start_time": "2022-04-10T14:08:51.515Z"
   },
   {
    "duration": 51,
    "start_time": "2022-04-10T14:08:51.542Z"
   },
   {
    "duration": 19,
    "start_time": "2022-04-10T14:08:51.595Z"
   },
   {
    "duration": 18,
    "start_time": "2022-04-10T14:08:51.616Z"
   },
   {
    "duration": 56,
    "start_time": "2022-04-10T14:08:51.636Z"
   },
   {
    "duration": 162,
    "start_time": "2022-04-10T14:08:51.693Z"
   },
   {
    "duration": 0,
    "start_time": "2022-04-10T14:08:51.857Z"
   },
   {
    "duration": 0,
    "start_time": "2022-04-10T14:08:51.858Z"
   },
   {
    "duration": 0,
    "start_time": "2022-04-10T14:08:51.859Z"
   },
   {
    "duration": 0,
    "start_time": "2022-04-10T14:08:51.861Z"
   },
   {
    "duration": 0,
    "start_time": "2022-04-10T14:08:51.862Z"
   },
   {
    "duration": 0,
    "start_time": "2022-04-10T14:08:51.863Z"
   },
   {
    "duration": 0,
    "start_time": "2022-04-10T14:08:51.865Z"
   },
   {
    "duration": 0,
    "start_time": "2022-04-10T14:08:51.866Z"
   },
   {
    "duration": 0,
    "start_time": "2022-04-10T14:08:51.867Z"
   },
   {
    "duration": 0,
    "start_time": "2022-04-10T14:08:51.868Z"
   },
   {
    "duration": 0,
    "start_time": "2022-04-10T14:08:51.870Z"
   },
   {
    "duration": 0,
    "start_time": "2022-04-10T14:08:51.871Z"
   },
   {
    "duration": 0,
    "start_time": "2022-04-10T14:08:51.872Z"
   },
   {
    "duration": 0,
    "start_time": "2022-04-10T14:08:51.874Z"
   },
   {
    "duration": 0,
    "start_time": "2022-04-10T14:08:51.875Z"
   },
   {
    "duration": 0,
    "start_time": "2022-04-10T14:08:51.876Z"
   },
   {
    "duration": 0,
    "start_time": "2022-04-10T14:08:51.877Z"
   },
   {
    "duration": 0,
    "start_time": "2022-04-10T14:08:51.879Z"
   },
   {
    "duration": 31,
    "start_time": "2022-04-10T14:09:29.226Z"
   },
   {
    "duration": 466,
    "start_time": "2022-04-10T14:09:37.733Z"
   },
   {
    "duration": 223,
    "start_time": "2022-04-10T14:09:38.202Z"
   },
   {
    "duration": 445,
    "start_time": "2022-04-10T14:09:38.427Z"
   },
   {
    "duration": 2,
    "start_time": "2022-04-10T14:09:38.874Z"
   },
   {
    "duration": 3,
    "start_time": "2022-04-10T14:09:38.881Z"
   },
   {
    "duration": 681,
    "start_time": "2022-04-10T14:09:38.885Z"
   },
   {
    "duration": 155,
    "start_time": "2022-04-10T14:09:39.568Z"
   },
   {
    "duration": 16,
    "start_time": "2022-04-10T14:09:39.725Z"
   },
   {
    "duration": 6,
    "start_time": "2022-04-10T14:09:39.742Z"
   },
   {
    "duration": 84,
    "start_time": "2022-04-10T14:09:39.750Z"
   },
   {
    "duration": 19,
    "start_time": "2022-04-10T14:09:39.836Z"
   },
   {
    "duration": 27,
    "start_time": "2022-04-10T14:09:39.857Z"
   },
   {
    "duration": 4,
    "start_time": "2022-04-10T14:09:39.886Z"
   },
   {
    "duration": 21,
    "start_time": "2022-04-10T14:09:39.892Z"
   },
   {
    "duration": 9,
    "start_time": "2022-04-10T14:09:39.914Z"
   },
   {
    "duration": 20,
    "start_time": "2022-04-10T14:09:39.925Z"
   },
   {
    "duration": 4,
    "start_time": "2022-04-10T14:09:39.946Z"
   },
   {
    "duration": 25,
    "start_time": "2022-04-10T14:09:39.981Z"
   },
   {
    "duration": 20,
    "start_time": "2022-04-10T14:09:40.007Z"
   },
   {
    "duration": 18,
    "start_time": "2022-04-10T14:09:40.029Z"
   },
   {
    "duration": 44,
    "start_time": "2022-04-10T14:09:40.048Z"
   },
   {
    "duration": 31,
    "start_time": "2022-04-10T14:09:40.093Z"
   },
   {
    "duration": 148,
    "start_time": "2022-04-10T14:09:40.126Z"
   },
   {
    "duration": 0,
    "start_time": "2022-04-10T14:09:40.276Z"
   },
   {
    "duration": 0,
    "start_time": "2022-04-10T14:09:40.277Z"
   },
   {
    "duration": 0,
    "start_time": "2022-04-10T14:09:40.278Z"
   },
   {
    "duration": 0,
    "start_time": "2022-04-10T14:09:40.279Z"
   },
   {
    "duration": 0,
    "start_time": "2022-04-10T14:09:40.280Z"
   },
   {
    "duration": 0,
    "start_time": "2022-04-10T14:09:40.281Z"
   },
   {
    "duration": 0,
    "start_time": "2022-04-10T14:09:40.282Z"
   },
   {
    "duration": 0,
    "start_time": "2022-04-10T14:09:40.283Z"
   },
   {
    "duration": 0,
    "start_time": "2022-04-10T14:09:40.284Z"
   },
   {
    "duration": 0,
    "start_time": "2022-04-10T14:09:40.285Z"
   },
   {
    "duration": 0,
    "start_time": "2022-04-10T14:09:40.286Z"
   },
   {
    "duration": 0,
    "start_time": "2022-04-10T14:09:40.287Z"
   },
   {
    "duration": 0,
    "start_time": "2022-04-10T14:09:40.288Z"
   },
   {
    "duration": 0,
    "start_time": "2022-04-10T14:09:40.289Z"
   },
   {
    "duration": 0,
    "start_time": "2022-04-10T14:09:40.290Z"
   },
   {
    "duration": 0,
    "start_time": "2022-04-10T14:09:40.291Z"
   },
   {
    "duration": 0,
    "start_time": "2022-04-10T14:09:40.292Z"
   },
   {
    "duration": 0,
    "start_time": "2022-04-10T14:09:40.293Z"
   },
   {
    "duration": 86,
    "start_time": "2022-04-10T14:12:56.929Z"
   },
   {
    "duration": 31,
    "start_time": "2022-04-10T14:15:30.093Z"
   },
   {
    "duration": 23,
    "start_time": "2022-04-10T14:15:48.117Z"
   },
   {
    "duration": 31,
    "start_time": "2022-04-10T14:16:55.143Z"
   },
   {
    "duration": 516,
    "start_time": "2022-04-10T14:17:08.083Z"
   },
   {
    "duration": 176,
    "start_time": "2022-04-10T14:17:08.601Z"
   },
   {
    "duration": 423,
    "start_time": "2022-04-10T14:17:08.780Z"
   },
   {
    "duration": 2,
    "start_time": "2022-04-10T14:17:09.205Z"
   },
   {
    "duration": 5,
    "start_time": "2022-04-10T14:17:09.209Z"
   },
   {
    "duration": 685,
    "start_time": "2022-04-10T14:17:09.215Z"
   },
   {
    "duration": 162,
    "start_time": "2022-04-10T14:17:09.901Z"
   },
   {
    "duration": 16,
    "start_time": "2022-04-10T14:17:10.065Z"
   },
   {
    "duration": 5,
    "start_time": "2022-04-10T14:17:10.082Z"
   },
   {
    "duration": 64,
    "start_time": "2022-04-10T14:17:10.090Z"
   },
   {
    "duration": 37,
    "start_time": "2022-04-10T14:17:10.155Z"
   },
   {
    "duration": 8,
    "start_time": "2022-04-10T14:17:10.193Z"
   },
   {
    "duration": 4,
    "start_time": "2022-04-10T14:17:10.203Z"
   },
   {
    "duration": 23,
    "start_time": "2022-04-10T14:17:10.209Z"
   },
   {
    "duration": 9,
    "start_time": "2022-04-10T14:17:10.233Z"
   },
   {
    "duration": 47,
    "start_time": "2022-04-10T14:17:10.243Z"
   },
   {
    "duration": 3,
    "start_time": "2022-04-10T14:17:10.292Z"
   },
   {
    "duration": 27,
    "start_time": "2022-04-10T14:17:10.296Z"
   },
   {
    "duration": 20,
    "start_time": "2022-04-10T14:17:10.324Z"
   },
   {
    "duration": 38,
    "start_time": "2022-04-10T14:17:10.345Z"
   },
   {
    "duration": 18,
    "start_time": "2022-04-10T14:17:10.385Z"
   },
   {
    "duration": 33,
    "start_time": "2022-04-10T14:17:10.405Z"
   },
   {
    "duration": 151,
    "start_time": "2022-04-10T14:17:10.439Z"
   },
   {
    "duration": 0,
    "start_time": "2022-04-10T14:17:10.592Z"
   },
   {
    "duration": 0,
    "start_time": "2022-04-10T14:17:10.593Z"
   },
   {
    "duration": 0,
    "start_time": "2022-04-10T14:17:10.594Z"
   },
   {
    "duration": 0,
    "start_time": "2022-04-10T14:17:10.595Z"
   },
   {
    "duration": 0,
    "start_time": "2022-04-10T14:17:10.596Z"
   },
   {
    "duration": 0,
    "start_time": "2022-04-10T14:17:10.597Z"
   },
   {
    "duration": 0,
    "start_time": "2022-04-10T14:17:10.598Z"
   },
   {
    "duration": 0,
    "start_time": "2022-04-10T14:17:10.599Z"
   },
   {
    "duration": 1,
    "start_time": "2022-04-10T14:17:10.599Z"
   },
   {
    "duration": 0,
    "start_time": "2022-04-10T14:17:10.601Z"
   },
   {
    "duration": 0,
    "start_time": "2022-04-10T14:17:10.602Z"
   },
   {
    "duration": 0,
    "start_time": "2022-04-10T14:17:10.603Z"
   },
   {
    "duration": 0,
    "start_time": "2022-04-10T14:17:10.604Z"
   },
   {
    "duration": 0,
    "start_time": "2022-04-10T14:17:10.604Z"
   },
   {
    "duration": 0,
    "start_time": "2022-04-10T14:17:10.605Z"
   },
   {
    "duration": 0,
    "start_time": "2022-04-10T14:17:10.606Z"
   },
   {
    "duration": 0,
    "start_time": "2022-04-10T14:17:10.607Z"
   },
   {
    "duration": 0,
    "start_time": "2022-04-10T14:17:10.608Z"
   },
   {
    "duration": 314,
    "start_time": "2022-04-10T14:18:14.241Z"
   },
   {
    "duration": 28,
    "start_time": "2022-04-10T14:19:37.601Z"
   },
   {
    "duration": 449,
    "start_time": "2022-04-10T14:20:01.020Z"
   },
   {
    "duration": 190,
    "start_time": "2022-04-10T14:20:01.471Z"
   },
   {
    "duration": 473,
    "start_time": "2022-04-10T14:20:01.663Z"
   },
   {
    "duration": 3,
    "start_time": "2022-04-10T14:20:02.138Z"
   },
   {
    "duration": 15,
    "start_time": "2022-04-10T14:20:02.142Z"
   },
   {
    "duration": 858,
    "start_time": "2022-04-10T14:20:02.159Z"
   },
   {
    "duration": 225,
    "start_time": "2022-04-10T14:20:03.020Z"
   },
   {
    "duration": 20,
    "start_time": "2022-04-10T14:20:03.247Z"
   },
   {
    "duration": 16,
    "start_time": "2022-04-10T14:20:03.269Z"
   },
   {
    "duration": 98,
    "start_time": "2022-04-10T14:20:03.287Z"
   },
   {
    "duration": 29,
    "start_time": "2022-04-10T14:20:03.387Z"
   },
   {
    "duration": 9,
    "start_time": "2022-04-10T14:20:03.418Z"
   },
   {
    "duration": 7,
    "start_time": "2022-04-10T14:20:03.429Z"
   },
   {
    "duration": 44,
    "start_time": "2022-04-10T14:20:03.438Z"
   },
   {
    "duration": 10,
    "start_time": "2022-04-10T14:20:03.483Z"
   },
   {
    "duration": 24,
    "start_time": "2022-04-10T14:20:03.494Z"
   },
   {
    "duration": 4,
    "start_time": "2022-04-10T14:20:03.520Z"
   },
   {
    "duration": 30,
    "start_time": "2022-04-10T14:20:03.526Z"
   },
   {
    "duration": 40,
    "start_time": "2022-04-10T14:20:03.558Z"
   },
   {
    "duration": 19,
    "start_time": "2022-04-10T14:20:03.600Z"
   },
   {
    "duration": 17,
    "start_time": "2022-04-10T14:20:03.621Z"
   },
   {
    "duration": 47,
    "start_time": "2022-04-10T14:20:03.640Z"
   },
   {
    "duration": 3,
    "start_time": "2022-04-10T14:20:03.688Z"
   },
   {
    "duration": 108,
    "start_time": "2022-04-10T14:20:03.693Z"
   },
   {
    "duration": 0,
    "start_time": "2022-04-10T14:20:03.803Z"
   },
   {
    "duration": 0,
    "start_time": "2022-04-10T14:20:03.804Z"
   },
   {
    "duration": 0,
    "start_time": "2022-04-10T14:20:03.805Z"
   },
   {
    "duration": 0,
    "start_time": "2022-04-10T14:20:03.806Z"
   },
   {
    "duration": 0,
    "start_time": "2022-04-10T14:20:03.808Z"
   },
   {
    "duration": 0,
    "start_time": "2022-04-10T14:20:03.809Z"
   },
   {
    "duration": 0,
    "start_time": "2022-04-10T14:20:03.811Z"
   },
   {
    "duration": 0,
    "start_time": "2022-04-10T14:20:03.812Z"
   },
   {
    "duration": 0,
    "start_time": "2022-04-10T14:20:03.813Z"
   },
   {
    "duration": 0,
    "start_time": "2022-04-10T14:20:03.815Z"
   },
   {
    "duration": 0,
    "start_time": "2022-04-10T14:20:03.816Z"
   },
   {
    "duration": 0,
    "start_time": "2022-04-10T14:20:03.817Z"
   },
   {
    "duration": 0,
    "start_time": "2022-04-10T14:20:03.819Z"
   },
   {
    "duration": 0,
    "start_time": "2022-04-10T14:20:03.821Z"
   },
   {
    "duration": 0,
    "start_time": "2022-04-10T14:20:03.822Z"
   },
   {
    "duration": 0,
    "start_time": "2022-04-10T14:20:03.824Z"
   },
   {
    "duration": 0,
    "start_time": "2022-04-10T14:20:03.825Z"
   },
   {
    "duration": 2585,
    "start_time": "2022-04-10T14:26:02.973Z"
   },
   {
    "duration": 3003,
    "start_time": "2022-04-10T14:27:06.294Z"
   },
   {
    "duration": 32,
    "start_time": "2022-04-10T14:27:44.105Z"
   },
   {
    "duration": 442,
    "start_time": "2022-04-10T14:29:07.520Z"
   },
   {
    "duration": 170,
    "start_time": "2022-04-10T14:29:07.964Z"
   },
   {
    "duration": 463,
    "start_time": "2022-04-10T14:29:08.136Z"
   },
   {
    "duration": 3,
    "start_time": "2022-04-10T14:29:08.601Z"
   },
   {
    "duration": 9,
    "start_time": "2022-04-10T14:29:08.606Z"
   },
   {
    "duration": 760,
    "start_time": "2022-04-10T14:29:08.617Z"
   },
   {
    "duration": 186,
    "start_time": "2022-04-10T14:29:09.378Z"
   },
   {
    "duration": 19,
    "start_time": "2022-04-10T14:29:09.566Z"
   },
   {
    "duration": 6,
    "start_time": "2022-04-10T14:29:09.587Z"
   },
   {
    "duration": 84,
    "start_time": "2022-04-10T14:29:09.602Z"
   },
   {
    "duration": 38,
    "start_time": "2022-04-10T14:29:09.689Z"
   },
   {
    "duration": 8,
    "start_time": "2022-04-10T14:29:09.729Z"
   },
   {
    "duration": 7,
    "start_time": "2022-04-10T14:29:09.739Z"
   },
   {
    "duration": 132,
    "start_time": "2022-04-10T14:29:09.747Z"
   },
   {
    "duration": 0,
    "start_time": "2022-04-10T14:29:09.882Z"
   },
   {
    "duration": 0,
    "start_time": "2022-04-10T14:29:09.883Z"
   },
   {
    "duration": 0,
    "start_time": "2022-04-10T14:29:09.883Z"
   },
   {
    "duration": 0,
    "start_time": "2022-04-10T14:29:09.885Z"
   },
   {
    "duration": 0,
    "start_time": "2022-04-10T14:29:09.886Z"
   },
   {
    "duration": 0,
    "start_time": "2022-04-10T14:29:09.887Z"
   },
   {
    "duration": 0,
    "start_time": "2022-04-10T14:29:09.888Z"
   },
   {
    "duration": 0,
    "start_time": "2022-04-10T14:29:09.889Z"
   },
   {
    "duration": 0,
    "start_time": "2022-04-10T14:29:09.890Z"
   },
   {
    "duration": 0,
    "start_time": "2022-04-10T14:29:09.891Z"
   },
   {
    "duration": 0,
    "start_time": "2022-04-10T14:29:09.892Z"
   },
   {
    "duration": 0,
    "start_time": "2022-04-10T14:29:09.893Z"
   },
   {
    "duration": 0,
    "start_time": "2022-04-10T14:29:09.895Z"
   },
   {
    "duration": 0,
    "start_time": "2022-04-10T14:29:09.896Z"
   },
   {
    "duration": 0,
    "start_time": "2022-04-10T14:29:09.898Z"
   },
   {
    "duration": 0,
    "start_time": "2022-04-10T14:29:09.899Z"
   },
   {
    "duration": 0,
    "start_time": "2022-04-10T14:29:09.901Z"
   },
   {
    "duration": 0,
    "start_time": "2022-04-10T14:29:09.902Z"
   },
   {
    "duration": 0,
    "start_time": "2022-04-10T14:29:09.903Z"
   },
   {
    "duration": 0,
    "start_time": "2022-04-10T14:29:09.904Z"
   },
   {
    "duration": 0,
    "start_time": "2022-04-10T14:29:09.905Z"
   },
   {
    "duration": 1,
    "start_time": "2022-04-10T14:29:09.905Z"
   },
   {
    "duration": 0,
    "start_time": "2022-04-10T14:29:09.907Z"
   },
   {
    "duration": 0,
    "start_time": "2022-04-10T14:29:09.907Z"
   },
   {
    "duration": 0,
    "start_time": "2022-04-10T14:29:09.908Z"
   },
   {
    "duration": 0,
    "start_time": "2022-04-10T14:29:09.909Z"
   },
   {
    "duration": 0,
    "start_time": "2022-04-10T14:29:09.910Z"
   },
   {
    "duration": 18,
    "start_time": "2022-04-10T14:33:16.628Z"
   },
   {
    "duration": 505,
    "start_time": "2022-04-10T14:33:46.647Z"
   },
   {
    "duration": 174,
    "start_time": "2022-04-10T14:33:47.154Z"
   },
   {
    "duration": 482,
    "start_time": "2022-04-10T14:33:47.330Z"
   },
   {
    "duration": 2,
    "start_time": "2022-04-10T14:33:47.814Z"
   },
   {
    "duration": 4,
    "start_time": "2022-04-10T14:33:47.819Z"
   },
   {
    "duration": 707,
    "start_time": "2022-04-10T14:33:47.824Z"
   },
   {
    "duration": 146,
    "start_time": "2022-04-10T14:33:48.533Z"
   },
   {
    "duration": 15,
    "start_time": "2022-04-10T14:33:48.680Z"
   },
   {
    "duration": 6,
    "start_time": "2022-04-10T14:33:48.696Z"
   },
   {
    "duration": 80,
    "start_time": "2022-04-10T14:33:48.703Z"
   },
   {
    "duration": 27,
    "start_time": "2022-04-10T14:33:48.785Z"
   },
   {
    "duration": 9,
    "start_time": "2022-04-10T14:33:48.814Z"
   },
   {
    "duration": 3,
    "start_time": "2022-04-10T14:33:48.824Z"
   },
   {
    "duration": 49,
    "start_time": "2022-04-10T14:33:48.831Z"
   },
   {
    "duration": 10,
    "start_time": "2022-04-10T14:33:48.882Z"
   },
   {
    "duration": 17,
    "start_time": "2022-04-10T14:33:48.894Z"
   },
   {
    "duration": 4,
    "start_time": "2022-04-10T14:33:48.912Z"
   },
   {
    "duration": 24,
    "start_time": "2022-04-10T14:33:48.917Z"
   },
   {
    "duration": 49,
    "start_time": "2022-04-10T14:33:48.942Z"
   },
   {
    "duration": 16,
    "start_time": "2022-04-10T14:33:48.992Z"
   },
   {
    "duration": 17,
    "start_time": "2022-04-10T14:33:49.009Z"
   },
   {
    "duration": 54,
    "start_time": "2022-04-10T14:33:49.027Z"
   },
   {
    "duration": 2,
    "start_time": "2022-04-10T14:33:49.082Z"
   },
   {
    "duration": 8,
    "start_time": "2022-04-10T14:33:49.086Z"
   },
   {
    "duration": 2835,
    "start_time": "2022-04-10T14:33:49.095Z"
   },
   {
    "duration": 0,
    "start_time": "2022-04-10T14:33:51.931Z"
   },
   {
    "duration": 0,
    "start_time": "2022-04-10T14:33:51.932Z"
   },
   {
    "duration": 0,
    "start_time": "2022-04-10T14:33:51.934Z"
   },
   {
    "duration": 0,
    "start_time": "2022-04-10T14:33:51.934Z"
   },
   {
    "duration": 0,
    "start_time": "2022-04-10T14:33:51.936Z"
   },
   {
    "duration": 0,
    "start_time": "2022-04-10T14:33:51.936Z"
   },
   {
    "duration": 0,
    "start_time": "2022-04-10T14:33:51.937Z"
   },
   {
    "duration": 0,
    "start_time": "2022-04-10T14:33:51.938Z"
   },
   {
    "duration": 0,
    "start_time": "2022-04-10T14:33:51.939Z"
   },
   {
    "duration": 0,
    "start_time": "2022-04-10T14:33:51.940Z"
   },
   {
    "duration": 0,
    "start_time": "2022-04-10T14:33:51.941Z"
   },
   {
    "duration": 0,
    "start_time": "2022-04-10T14:33:51.943Z"
   },
   {
    "duration": 0,
    "start_time": "2022-04-10T14:33:51.944Z"
   },
   {
    "duration": 0,
    "start_time": "2022-04-10T14:33:51.945Z"
   },
   {
    "duration": 0,
    "start_time": "2022-04-10T14:33:51.946Z"
   },
   {
    "duration": 0,
    "start_time": "2022-04-10T14:33:51.947Z"
   },
   {
    "duration": 29,
    "start_time": "2022-04-10T14:34:49.288Z"
   },
   {
    "duration": 161,
    "start_time": "2022-04-10T14:37:07.522Z"
   },
   {
    "duration": 39,
    "start_time": "2022-04-10T14:37:20.559Z"
   },
   {
    "duration": 427,
    "start_time": "2022-04-10T14:37:39.721Z"
   },
   {
    "duration": 168,
    "start_time": "2022-04-10T14:37:40.149Z"
   },
   {
    "duration": 385,
    "start_time": "2022-04-10T14:37:40.318Z"
   },
   {
    "duration": 2,
    "start_time": "2022-04-10T14:37:40.705Z"
   },
   {
    "duration": 5,
    "start_time": "2022-04-10T14:37:40.709Z"
   },
   {
    "duration": 1895,
    "start_time": "2022-04-10T14:37:40.715Z"
   },
   {
    "duration": 150,
    "start_time": "2022-04-10T14:37:42.612Z"
   },
   {
    "duration": 15,
    "start_time": "2022-04-10T14:37:42.764Z"
   },
   {
    "duration": 6,
    "start_time": "2022-04-10T14:37:42.781Z"
   },
   {
    "duration": 69,
    "start_time": "2022-04-10T14:37:42.790Z"
   },
   {
    "duration": 32,
    "start_time": "2022-04-10T14:37:42.880Z"
   },
   {
    "duration": 11,
    "start_time": "2022-04-10T14:37:42.914Z"
   },
   {
    "duration": 4,
    "start_time": "2022-04-10T14:37:42.927Z"
   },
   {
    "duration": 21,
    "start_time": "2022-04-10T14:37:42.933Z"
   },
   {
    "duration": 33,
    "start_time": "2022-04-10T14:37:42.956Z"
   },
   {
    "duration": 18,
    "start_time": "2022-04-10T14:37:42.990Z"
   },
   {
    "duration": 3,
    "start_time": "2022-04-10T14:37:43.010Z"
   },
   {
    "duration": 23,
    "start_time": "2022-04-10T14:37:43.014Z"
   },
   {
    "duration": 43,
    "start_time": "2022-04-10T14:37:43.038Z"
   },
   {
    "duration": 18,
    "start_time": "2022-04-10T14:37:43.083Z"
   },
   {
    "duration": 18,
    "start_time": "2022-04-10T14:37:43.103Z"
   },
   {
    "duration": 64,
    "start_time": "2022-04-10T14:37:43.123Z"
   },
   {
    "duration": 3,
    "start_time": "2022-04-10T14:37:43.189Z"
   },
   {
    "duration": 102,
    "start_time": "2022-04-10T14:37:43.193Z"
   },
   {
    "duration": 0,
    "start_time": "2022-04-10T14:37:43.297Z"
   },
   {
    "duration": 0,
    "start_time": "2022-04-10T14:37:43.299Z"
   },
   {
    "duration": 0,
    "start_time": "2022-04-10T14:37:43.300Z"
   },
   {
    "duration": 0,
    "start_time": "2022-04-10T14:37:43.302Z"
   },
   {
    "duration": 0,
    "start_time": "2022-04-10T14:37:43.303Z"
   },
   {
    "duration": 1,
    "start_time": "2022-04-10T14:37:43.304Z"
   },
   {
    "duration": 0,
    "start_time": "2022-04-10T14:37:43.306Z"
   },
   {
    "duration": 0,
    "start_time": "2022-04-10T14:37:43.307Z"
   },
   {
    "duration": 0,
    "start_time": "2022-04-10T14:37:43.308Z"
   },
   {
    "duration": 0,
    "start_time": "2022-04-10T14:37:43.310Z"
   },
   {
    "duration": 0,
    "start_time": "2022-04-10T14:37:43.311Z"
   },
   {
    "duration": 0,
    "start_time": "2022-04-10T14:37:43.312Z"
   },
   {
    "duration": 0,
    "start_time": "2022-04-10T14:37:43.314Z"
   },
   {
    "duration": 0,
    "start_time": "2022-04-10T14:37:43.315Z"
   },
   {
    "duration": 0,
    "start_time": "2022-04-10T14:37:43.317Z"
   },
   {
    "duration": 0,
    "start_time": "2022-04-10T14:37:43.318Z"
   },
   {
    "duration": 0,
    "start_time": "2022-04-10T14:37:43.319Z"
   },
   {
    "duration": 49,
    "start_time": "2022-04-10T14:38:46.118Z"
   },
   {
    "duration": 2,
    "start_time": "2022-04-10T14:38:53.596Z"
   },
   {
    "duration": 6,
    "start_time": "2022-04-10T14:38:55.019Z"
   },
   {
    "duration": 5,
    "start_time": "2022-04-10T14:38:56.310Z"
   },
   {
    "duration": 10,
    "start_time": "2022-04-10T14:38:56.956Z"
   },
   {
    "duration": 501,
    "start_time": "2022-04-10T14:43:33.043Z"
   },
   {
    "duration": 171,
    "start_time": "2022-04-10T14:43:33.546Z"
   },
   {
    "duration": 430,
    "start_time": "2022-04-10T14:43:33.718Z"
   },
   {
    "duration": 2,
    "start_time": "2022-04-10T14:43:34.150Z"
   },
   {
    "duration": 5,
    "start_time": "2022-04-10T14:43:34.154Z"
   },
   {
    "duration": 735,
    "start_time": "2022-04-10T14:43:34.161Z"
   },
   {
    "duration": 169,
    "start_time": "2022-04-10T14:43:34.898Z"
   },
   {
    "duration": 18,
    "start_time": "2022-04-10T14:43:35.069Z"
   },
   {
    "duration": 7,
    "start_time": "2022-04-10T14:43:35.088Z"
   },
   {
    "duration": 94,
    "start_time": "2022-04-10T14:43:35.097Z"
   },
   {
    "duration": 36,
    "start_time": "2022-04-10T14:43:35.193Z"
   },
   {
    "duration": 12,
    "start_time": "2022-04-10T14:43:35.231Z"
   },
   {
    "duration": 11,
    "start_time": "2022-04-10T14:43:35.244Z"
   },
   {
    "duration": 47,
    "start_time": "2022-04-10T14:43:35.257Z"
   },
   {
    "duration": 11,
    "start_time": "2022-04-10T14:43:35.305Z"
   },
   {
    "duration": 25,
    "start_time": "2022-04-10T14:43:35.318Z"
   },
   {
    "duration": 4,
    "start_time": "2022-04-10T14:43:35.345Z"
   },
   {
    "duration": 49,
    "start_time": "2022-04-10T14:43:35.350Z"
   },
   {
    "duration": 17,
    "start_time": "2022-04-10T14:43:35.400Z"
   },
   {
    "duration": 15,
    "start_time": "2022-04-10T14:43:35.418Z"
   },
   {
    "duration": 18,
    "start_time": "2022-04-10T14:43:35.434Z"
   },
   {
    "duration": 52,
    "start_time": "2022-04-10T14:43:35.453Z"
   },
   {
    "duration": 4,
    "start_time": "2022-04-10T14:43:35.506Z"
   },
   {
    "duration": 7,
    "start_time": "2022-04-10T14:43:35.512Z"
   },
   {
    "duration": 7,
    "start_time": "2022-04-10T14:43:35.520Z"
   },
   {
    "duration": 12,
    "start_time": "2022-04-10T14:43:35.528Z"
   },
   {
    "duration": 57,
    "start_time": "2022-04-10T14:43:35.542Z"
   },
   {
    "duration": 4,
    "start_time": "2022-04-10T14:43:35.603Z"
   },
   {
    "duration": 150,
    "start_time": "2022-04-10T14:43:35.608Z"
   },
   {
    "duration": 49,
    "start_time": "2022-04-10T14:43:35.760Z"
   },
   {
    "duration": 135,
    "start_time": "2022-04-10T14:43:35.811Z"
   },
   {
    "duration": 135,
    "start_time": "2022-04-10T14:43:35.947Z"
   },
   {
    "duration": 123,
    "start_time": "2022-04-10T14:43:36.084Z"
   },
   {
    "duration": 7,
    "start_time": "2022-04-10T14:43:36.208Z"
   },
   {
    "duration": 130,
    "start_time": "2022-04-10T14:43:36.216Z"
   },
   {
    "duration": 112,
    "start_time": "2022-04-10T14:43:36.348Z"
   },
   {
    "duration": 120,
    "start_time": "2022-04-10T14:43:36.462Z"
   },
   {
    "duration": 4,
    "start_time": "2022-04-10T14:43:36.584Z"
   },
   {
    "duration": 10,
    "start_time": "2022-04-10T14:43:36.589Z"
   },
   {
    "duration": 4,
    "start_time": "2022-04-10T14:43:36.601Z"
   },
   {
    "duration": 5,
    "start_time": "2022-04-10T14:43:36.606Z"
   },
   {
    "duration": 450,
    "start_time": "2022-04-10T14:51:08.600Z"
   },
   {
    "duration": 182,
    "start_time": "2022-04-10T14:51:09.052Z"
   },
   {
    "duration": 470,
    "start_time": "2022-04-10T14:51:09.235Z"
   },
   {
    "duration": 3,
    "start_time": "2022-04-10T14:51:09.706Z"
   },
   {
    "duration": 5,
    "start_time": "2022-04-10T14:51:09.710Z"
   },
   {
    "duration": 728,
    "start_time": "2022-04-10T14:51:09.716Z"
   },
   {
    "duration": 147,
    "start_time": "2022-04-10T14:51:10.446Z"
   },
   {
    "duration": 15,
    "start_time": "2022-04-10T14:51:10.595Z"
   },
   {
    "duration": 6,
    "start_time": "2022-04-10T14:51:10.612Z"
   },
   {
    "duration": 79,
    "start_time": "2022-04-10T14:51:10.619Z"
   },
   {
    "duration": 29,
    "start_time": "2022-04-10T14:51:10.700Z"
   },
   {
    "duration": 9,
    "start_time": "2022-04-10T14:51:10.731Z"
   },
   {
    "duration": 6,
    "start_time": "2022-04-10T14:51:10.742Z"
   },
   {
    "duration": 41,
    "start_time": "2022-04-10T14:51:10.751Z"
   },
   {
    "duration": 9,
    "start_time": "2022-04-10T14:51:10.793Z"
   },
   {
    "duration": 19,
    "start_time": "2022-04-10T14:51:10.804Z"
   },
   {
    "duration": 3,
    "start_time": "2022-04-10T14:51:10.825Z"
   },
   {
    "duration": 26,
    "start_time": "2022-04-10T14:51:10.830Z"
   },
   {
    "duration": 40,
    "start_time": "2022-04-10T14:51:10.858Z"
   },
   {
    "duration": 17,
    "start_time": "2022-04-10T14:51:10.900Z"
   },
   {
    "duration": 18,
    "start_time": "2022-04-10T14:51:10.918Z"
   },
   {
    "duration": 60,
    "start_time": "2022-04-10T14:51:10.937Z"
   },
   {
    "duration": 6,
    "start_time": "2022-04-10T14:51:10.998Z"
   },
   {
    "duration": 6,
    "start_time": "2022-04-10T14:51:11.006Z"
   },
   {
    "duration": 5,
    "start_time": "2022-04-10T14:51:11.013Z"
   },
   {
    "duration": 12,
    "start_time": "2022-04-10T14:51:11.020Z"
   },
   {
    "duration": 53,
    "start_time": "2022-04-10T14:51:11.034Z"
   },
   {
    "duration": 6,
    "start_time": "2022-04-10T14:51:11.089Z"
   },
   {
    "duration": 156,
    "start_time": "2022-04-10T14:51:11.096Z"
   },
   {
    "duration": 49,
    "start_time": "2022-04-10T14:51:11.253Z"
   },
   {
    "duration": 131,
    "start_time": "2022-04-10T14:51:11.303Z"
   },
   {
    "duration": 138,
    "start_time": "2022-04-10T14:51:11.435Z"
   },
   {
    "duration": 121,
    "start_time": "2022-04-10T14:51:11.580Z"
   },
   {
    "duration": 6,
    "start_time": "2022-04-10T14:51:11.702Z"
   },
   {
    "duration": 130,
    "start_time": "2022-04-10T14:51:11.710Z"
   },
   {
    "duration": 118,
    "start_time": "2022-04-10T14:51:11.841Z"
   },
   {
    "duration": 128,
    "start_time": "2022-04-10T14:51:11.961Z"
   },
   {
    "duration": 5,
    "start_time": "2022-04-10T14:51:12.090Z"
   },
   {
    "duration": 9,
    "start_time": "2022-04-10T14:51:12.097Z"
   },
   {
    "duration": 4,
    "start_time": "2022-04-10T14:51:12.108Z"
   },
   {
    "duration": 5,
    "start_time": "2022-04-10T14:51:12.115Z"
   },
   {
    "duration": 430,
    "start_time": "2022-04-10T14:59:28.913Z"
   },
   {
    "duration": 171,
    "start_time": "2022-04-10T14:59:29.345Z"
   },
   {
    "duration": 385,
    "start_time": "2022-04-10T14:59:29.518Z"
   },
   {
    "duration": 2,
    "start_time": "2022-04-10T14:59:29.905Z"
   },
   {
    "duration": 6,
    "start_time": "2022-04-10T14:59:29.908Z"
   },
   {
    "duration": 697,
    "start_time": "2022-04-10T14:59:29.916Z"
   },
   {
    "duration": 155,
    "start_time": "2022-04-10T14:59:30.614Z"
   },
   {
    "duration": 17,
    "start_time": "2022-04-10T14:59:30.771Z"
   },
   {
    "duration": 6,
    "start_time": "2022-04-10T14:59:30.789Z"
   },
   {
    "duration": 94,
    "start_time": "2022-04-10T14:59:30.798Z"
   },
   {
    "duration": 25,
    "start_time": "2022-04-10T14:59:30.894Z"
   },
   {
    "duration": 8,
    "start_time": "2022-04-10T14:59:30.921Z"
   },
   {
    "duration": 9,
    "start_time": "2022-04-10T14:59:30.931Z"
   },
   {
    "duration": 40,
    "start_time": "2022-04-10T14:59:30.941Z"
   },
   {
    "duration": 10,
    "start_time": "2022-04-10T14:59:30.982Z"
   },
   {
    "duration": 23,
    "start_time": "2022-04-10T14:59:30.993Z"
   },
   {
    "duration": 5,
    "start_time": "2022-04-10T14:59:31.018Z"
   },
   {
    "duration": 27,
    "start_time": "2022-04-10T14:59:31.024Z"
   },
   {
    "duration": 37,
    "start_time": "2022-04-10T14:59:31.053Z"
   },
   {
    "duration": 16,
    "start_time": "2022-04-10T14:59:31.092Z"
   },
   {
    "duration": 20,
    "start_time": "2022-04-10T14:59:31.110Z"
   },
   {
    "duration": 51,
    "start_time": "2022-04-10T14:59:31.131Z"
   },
   {
    "duration": 6,
    "start_time": "2022-04-10T14:59:31.184Z"
   },
   {
    "duration": 9,
    "start_time": "2022-04-10T14:59:31.191Z"
   },
   {
    "duration": 6,
    "start_time": "2022-04-10T14:59:31.202Z"
   },
   {
    "duration": 13,
    "start_time": "2022-04-10T14:59:31.210Z"
   },
   {
    "duration": 31,
    "start_time": "2022-04-10T14:59:31.225Z"
   },
   {
    "duration": 5,
    "start_time": "2022-04-10T14:59:31.280Z"
   },
   {
    "duration": 158,
    "start_time": "2022-04-10T14:59:31.287Z"
   },
   {
    "duration": 48,
    "start_time": "2022-04-10T14:59:31.447Z"
   },
   {
    "duration": 145,
    "start_time": "2022-04-10T14:59:31.497Z"
   },
   {
    "duration": 139,
    "start_time": "2022-04-10T14:59:31.643Z"
   },
   {
    "duration": 127,
    "start_time": "2022-04-10T14:59:31.784Z"
   },
   {
    "duration": 7,
    "start_time": "2022-04-10T14:59:31.912Z"
   },
   {
    "duration": 136,
    "start_time": "2022-04-10T14:59:31.920Z"
   },
   {
    "duration": 125,
    "start_time": "2022-04-10T14:59:32.057Z"
   },
   {
    "duration": 124,
    "start_time": "2022-04-10T14:59:32.184Z"
   },
   {
    "duration": 4,
    "start_time": "2022-04-10T14:59:32.310Z"
   },
   {
    "duration": 11,
    "start_time": "2022-04-10T14:59:32.316Z"
   },
   {
    "duration": 5,
    "start_time": "2022-04-10T14:59:32.329Z"
   },
   {
    "duration": 8,
    "start_time": "2022-04-10T14:59:32.336Z"
   },
   {
    "duration": 486,
    "start_time": "2022-04-10T15:00:36.452Z"
   },
   {
    "duration": 173,
    "start_time": "2022-04-10T15:00:36.940Z"
   },
   {
    "duration": 393,
    "start_time": "2022-04-10T15:00:37.115Z"
   },
   {
    "duration": 3,
    "start_time": "2022-04-10T15:00:37.510Z"
   },
   {
    "duration": 5,
    "start_time": "2022-04-10T15:00:37.514Z"
   },
   {
    "duration": 713,
    "start_time": "2022-04-10T15:00:37.520Z"
   },
   {
    "duration": 149,
    "start_time": "2022-04-10T15:00:38.234Z"
   },
   {
    "duration": 16,
    "start_time": "2022-04-10T15:00:38.384Z"
   },
   {
    "duration": 6,
    "start_time": "2022-04-10T15:00:38.402Z"
   },
   {
    "duration": 82,
    "start_time": "2022-04-10T15:00:38.411Z"
   },
   {
    "duration": 25,
    "start_time": "2022-04-10T15:00:38.495Z"
   },
   {
    "duration": 8,
    "start_time": "2022-04-10T15:00:38.522Z"
   },
   {
    "duration": 4,
    "start_time": "2022-04-10T15:00:38.532Z"
   },
   {
    "duration": 43,
    "start_time": "2022-04-10T15:00:38.538Z"
   },
   {
    "duration": 9,
    "start_time": "2022-04-10T15:00:38.582Z"
   },
   {
    "duration": 18,
    "start_time": "2022-04-10T15:00:38.592Z"
   },
   {
    "duration": 3,
    "start_time": "2022-04-10T15:00:38.612Z"
   },
   {
    "duration": 25,
    "start_time": "2022-04-10T15:00:38.616Z"
   },
   {
    "duration": 40,
    "start_time": "2022-04-10T15:00:38.642Z"
   },
   {
    "duration": 17,
    "start_time": "2022-04-10T15:00:38.683Z"
   },
   {
    "duration": 16,
    "start_time": "2022-04-10T15:00:38.701Z"
   },
   {
    "duration": 30,
    "start_time": "2022-04-10T15:00:38.719Z"
   },
   {
    "duration": 5,
    "start_time": "2022-04-10T15:00:38.751Z"
   },
   {
    "duration": 4,
    "start_time": "2022-04-10T15:00:38.781Z"
   },
   {
    "duration": 6,
    "start_time": "2022-04-10T15:00:38.786Z"
   },
   {
    "duration": 10,
    "start_time": "2022-04-10T15:00:38.794Z"
   },
   {
    "duration": 30,
    "start_time": "2022-04-10T15:00:38.806Z"
   },
   {
    "duration": 5,
    "start_time": "2022-04-10T15:00:38.839Z"
   },
   {
    "duration": 173,
    "start_time": "2022-04-10T15:00:38.845Z"
   },
   {
    "duration": 43,
    "start_time": "2022-04-10T15:00:39.020Z"
   },
   {
    "duration": 143,
    "start_time": "2022-04-10T15:00:39.065Z"
   },
   {
    "duration": 140,
    "start_time": "2022-04-10T15:00:39.209Z"
   },
   {
    "duration": 131,
    "start_time": "2022-04-10T15:00:39.351Z"
   },
   {
    "duration": 6,
    "start_time": "2022-04-10T15:00:39.484Z"
   },
   {
    "duration": 136,
    "start_time": "2022-04-10T15:00:39.491Z"
   },
   {
    "duration": 120,
    "start_time": "2022-04-10T15:00:39.629Z"
   },
   {
    "duration": 130,
    "start_time": "2022-04-10T15:00:39.751Z"
   },
   {
    "duration": 6,
    "start_time": "2022-04-10T15:00:39.882Z"
   },
   {
    "duration": 12,
    "start_time": "2022-04-10T15:00:39.889Z"
   },
   {
    "duration": 4,
    "start_time": "2022-04-10T15:00:39.902Z"
   },
   {
    "duration": 6,
    "start_time": "2022-04-10T15:00:39.907Z"
   },
   {
    "duration": 472,
    "start_time": "2022-04-10T15:02:32.767Z"
   },
   {
    "duration": 170,
    "start_time": "2022-04-10T15:02:33.241Z"
   },
   {
    "duration": 393,
    "start_time": "2022-04-10T15:02:33.412Z"
   },
   {
    "duration": 2,
    "start_time": "2022-04-10T15:02:33.806Z"
   },
   {
    "duration": 5,
    "start_time": "2022-04-10T15:02:33.810Z"
   },
   {
    "duration": 717,
    "start_time": "2022-04-10T15:02:33.817Z"
   },
   {
    "duration": 157,
    "start_time": "2022-04-10T15:02:34.536Z"
   },
   {
    "duration": 16,
    "start_time": "2022-04-10T15:02:34.694Z"
   },
   {
    "duration": 6,
    "start_time": "2022-04-10T15:02:34.712Z"
   },
   {
    "duration": 90,
    "start_time": "2022-04-10T15:02:34.720Z"
   },
   {
    "duration": 26,
    "start_time": "2022-04-10T15:02:34.811Z"
   },
   {
    "duration": 9,
    "start_time": "2022-04-10T15:02:34.838Z"
   },
   {
    "duration": 3,
    "start_time": "2022-04-10T15:02:34.849Z"
   },
   {
    "duration": 21,
    "start_time": "2022-04-10T15:02:34.880Z"
   },
   {
    "duration": 9,
    "start_time": "2022-04-10T15:02:34.902Z"
   },
   {
    "duration": 20,
    "start_time": "2022-04-10T15:02:34.913Z"
   },
   {
    "duration": 3,
    "start_time": "2022-04-10T15:02:34.934Z"
   },
   {
    "duration": 44,
    "start_time": "2022-04-10T15:02:34.939Z"
   },
   {
    "duration": 19,
    "start_time": "2022-04-10T15:02:34.985Z"
   },
   {
    "duration": 16,
    "start_time": "2022-04-10T15:02:35.005Z"
   },
   {
    "duration": 17,
    "start_time": "2022-04-10T15:02:35.022Z"
   },
   {
    "duration": 56,
    "start_time": "2022-04-10T15:02:35.040Z"
   },
   {
    "duration": 5,
    "start_time": "2022-04-10T15:02:35.098Z"
   },
   {
    "duration": 6,
    "start_time": "2022-04-10T15:02:35.104Z"
   },
   {
    "duration": 6,
    "start_time": "2022-04-10T15:02:35.111Z"
   },
   {
    "duration": 11,
    "start_time": "2022-04-10T15:02:35.118Z"
   },
   {
    "duration": 59,
    "start_time": "2022-04-10T15:02:35.130Z"
   },
   {
    "duration": 4,
    "start_time": "2022-04-10T15:02:35.191Z"
   },
   {
    "duration": 157,
    "start_time": "2022-04-10T15:02:35.197Z"
   },
   {
    "duration": 54,
    "start_time": "2022-04-10T15:02:35.355Z"
   },
   {
    "duration": 138,
    "start_time": "2022-04-10T15:02:35.410Z"
   },
   {
    "duration": 135,
    "start_time": "2022-04-10T15:02:35.550Z"
   },
   {
    "duration": 128,
    "start_time": "2022-04-10T15:02:35.686Z"
   },
   {
    "duration": 7,
    "start_time": "2022-04-10T15:02:35.816Z"
   },
   {
    "duration": 134,
    "start_time": "2022-04-10T15:02:35.825Z"
   },
   {
    "duration": 113,
    "start_time": "2022-04-10T15:02:35.961Z"
   },
   {
    "duration": 130,
    "start_time": "2022-04-10T15:02:36.080Z"
   },
   {
    "duration": 5,
    "start_time": "2022-04-10T15:02:36.212Z"
   },
   {
    "duration": 9,
    "start_time": "2022-04-10T15:02:36.218Z"
   },
   {
    "duration": 7,
    "start_time": "2022-04-10T15:02:36.228Z"
   },
   {
    "duration": 7,
    "start_time": "2022-04-10T15:02:36.238Z"
   },
   {
    "duration": 486,
    "start_time": "2022-04-10T20:28:59.437Z"
   },
   {
    "duration": 305,
    "start_time": "2022-04-10T20:28:59.926Z"
   },
   {
    "duration": 582,
    "start_time": "2022-04-10T20:29:00.238Z"
   },
   {
    "duration": 3,
    "start_time": "2022-04-10T20:29:00.821Z"
   },
   {
    "duration": 14,
    "start_time": "2022-04-10T20:29:00.826Z"
   },
   {
    "duration": 1198,
    "start_time": "2022-04-10T20:29:00.842Z"
   },
   {
    "duration": 185,
    "start_time": "2022-04-10T20:29:02.042Z"
   },
   {
    "duration": 26,
    "start_time": "2022-04-10T20:29:02.229Z"
   },
   {
    "duration": 8,
    "start_time": "2022-04-10T20:29:02.257Z"
   },
   {
    "duration": 103,
    "start_time": "2022-04-10T20:29:02.267Z"
   },
   {
    "duration": 36,
    "start_time": "2022-04-10T20:29:02.372Z"
   },
   {
    "duration": 38,
    "start_time": "2022-04-10T20:29:02.411Z"
   },
   {
    "duration": 13,
    "start_time": "2022-04-10T20:29:02.451Z"
   },
   {
    "duration": 38,
    "start_time": "2022-04-10T20:29:02.468Z"
   },
   {
    "duration": 14,
    "start_time": "2022-04-10T20:29:02.509Z"
   },
   {
    "duration": 21,
    "start_time": "2022-04-10T20:29:02.540Z"
   },
   {
    "duration": 4,
    "start_time": "2022-04-10T20:29:02.563Z"
   },
   {
    "duration": 40,
    "start_time": "2022-04-10T20:29:02.569Z"
   },
   {
    "duration": 48,
    "start_time": "2022-04-10T20:29:02.611Z"
   },
   {
    "duration": 27,
    "start_time": "2022-04-10T20:29:02.661Z"
   },
   {
    "duration": 50,
    "start_time": "2022-04-10T20:29:02.690Z"
   },
   {
    "duration": 42,
    "start_time": "2022-04-10T20:29:02.743Z"
   },
   {
    "duration": 9,
    "start_time": "2022-04-10T20:29:02.786Z"
   },
   {
    "duration": 18,
    "start_time": "2022-04-10T20:29:02.797Z"
   },
   {
    "duration": 22,
    "start_time": "2022-04-10T20:29:02.817Z"
   },
   {
    "duration": 23,
    "start_time": "2022-04-10T20:29:02.842Z"
   },
   {
    "duration": 40,
    "start_time": "2022-04-10T20:29:02.867Z"
   },
   {
    "duration": 33,
    "start_time": "2022-04-10T20:29:02.909Z"
   },
   {
    "duration": 270,
    "start_time": "2022-04-10T20:29:02.944Z"
   },
   {
    "duration": 78,
    "start_time": "2022-04-10T20:29:03.217Z"
   },
   {
    "duration": 180,
    "start_time": "2022-04-10T20:29:03.297Z"
   },
   {
    "duration": 175,
    "start_time": "2022-04-10T20:29:03.479Z"
   },
   {
    "duration": 172,
    "start_time": "2022-04-10T20:29:03.657Z"
   },
   {
    "duration": 8,
    "start_time": "2022-04-10T20:29:03.840Z"
   },
   {
    "duration": 243,
    "start_time": "2022-04-10T20:29:03.851Z"
   },
   {
    "duration": 153,
    "start_time": "2022-04-10T20:29:04.097Z"
   },
   {
    "duration": 165,
    "start_time": "2022-04-10T20:29:04.252Z"
   },
   {
    "duration": 6,
    "start_time": "2022-04-10T20:29:04.418Z"
   },
   {
    "duration": 13,
    "start_time": "2022-04-10T20:29:04.438Z"
   },
   {
    "duration": 12,
    "start_time": "2022-04-10T20:29:04.453Z"
   },
   {
    "duration": 15,
    "start_time": "2022-04-10T20:29:04.470Z"
   },
   {
    "duration": 5,
    "start_time": "2022-04-10T20:34:49.419Z"
   },
   {
    "duration": 7,
    "start_time": "2022-04-10T20:35:09.922Z"
   },
   {
    "duration": 6,
    "start_time": "2022-04-10T20:35:21.515Z"
   },
   {
    "duration": 5,
    "start_time": "2022-04-10T20:35:38.074Z"
   },
   {
    "duration": 592,
    "start_time": "2022-04-10T20:35:52.461Z"
   },
   {
    "duration": 220,
    "start_time": "2022-04-10T20:35:53.056Z"
   },
   {
    "duration": 515,
    "start_time": "2022-04-10T20:35:53.278Z"
   },
   {
    "duration": 5,
    "start_time": "2022-04-10T20:35:53.795Z"
   },
   {
    "duration": 9,
    "start_time": "2022-04-10T20:35:53.802Z"
   },
   {
    "duration": 932,
    "start_time": "2022-04-10T20:35:53.813Z"
   },
   {
    "duration": 227,
    "start_time": "2022-04-10T20:35:54.747Z"
   },
   {
    "duration": 19,
    "start_time": "2022-04-10T20:35:54.977Z"
   },
   {
    "duration": 14,
    "start_time": "2022-04-10T20:35:54.998Z"
   },
   {
    "duration": 26,
    "start_time": "2022-04-10T20:35:55.015Z"
   },
   {
    "duration": 15,
    "start_time": "2022-04-10T20:35:55.043Z"
   },
   {
    "duration": 137,
    "start_time": "2022-04-10T20:35:55.060Z"
   },
   {
    "duration": 61,
    "start_time": "2022-04-10T20:35:55.199Z"
   },
   {
    "duration": 14,
    "start_time": "2022-04-10T20:35:55.261Z"
   },
   {
    "duration": 8,
    "start_time": "2022-04-10T20:35:55.277Z"
   },
   {
    "duration": 55,
    "start_time": "2022-04-10T20:35:55.287Z"
   },
   {
    "duration": 14,
    "start_time": "2022-04-10T20:35:55.345Z"
   },
   {
    "duration": 27,
    "start_time": "2022-04-10T20:35:55.361Z"
   },
   {
    "duration": 4,
    "start_time": "2022-04-10T20:35:55.391Z"
   },
   {
    "duration": 55,
    "start_time": "2022-04-10T20:35:55.397Z"
   },
   {
    "duration": 31,
    "start_time": "2022-04-10T20:35:55.456Z"
   },
   {
    "duration": 25,
    "start_time": "2022-04-10T20:35:55.489Z"
   },
   {
    "duration": 31,
    "start_time": "2022-04-10T20:35:55.539Z"
   },
   {
    "duration": 74,
    "start_time": "2022-04-10T20:35:55.573Z"
   },
   {
    "duration": 9,
    "start_time": "2022-04-10T20:35:55.649Z"
   },
   {
    "duration": 10,
    "start_time": "2022-04-10T20:35:55.660Z"
   },
   {
    "duration": 13,
    "start_time": "2022-04-10T20:35:55.672Z"
   },
   {
    "duration": 17,
    "start_time": "2022-04-10T20:35:55.690Z"
   },
   {
    "duration": 60,
    "start_time": "2022-04-10T20:35:55.709Z"
   },
   {
    "duration": 7,
    "start_time": "2022-04-10T20:35:55.771Z"
   },
   {
    "duration": 228,
    "start_time": "2022-04-10T20:35:55.780Z"
   },
   {
    "duration": 59,
    "start_time": "2022-04-10T20:35:56.011Z"
   },
   {
    "duration": 245,
    "start_time": "2022-04-10T20:35:56.072Z"
   },
   {
    "duration": 188,
    "start_time": "2022-04-10T20:35:56.320Z"
   },
   {
    "duration": 171,
    "start_time": "2022-04-10T20:35:56.510Z"
   },
   {
    "duration": 11,
    "start_time": "2022-04-10T20:35:56.683Z"
   },
   {
    "duration": 167,
    "start_time": "2022-04-10T20:35:56.696Z"
   },
   {
    "duration": 145,
    "start_time": "2022-04-10T20:35:56.865Z"
   },
   {
    "duration": 171,
    "start_time": "2022-04-10T20:35:57.012Z"
   },
   {
    "duration": 6,
    "start_time": "2022-04-10T20:35:57.186Z"
   },
   {
    "duration": 17,
    "start_time": "2022-04-10T20:35:57.194Z"
   },
   {
    "duration": 9,
    "start_time": "2022-04-10T20:35:57.213Z"
   },
   {
    "duration": 13,
    "start_time": "2022-04-10T20:35:57.240Z"
   },
   {
    "duration": 5,
    "start_time": "2022-04-10T20:41:16.209Z"
   },
   {
    "duration": 19,
    "start_time": "2022-04-10T20:44:22.495Z"
   },
   {
    "duration": 9,
    "start_time": "2022-04-10T20:45:04.039Z"
   },
   {
    "duration": 5,
    "start_time": "2022-04-10T20:45:16.584Z"
   },
   {
    "duration": 478,
    "start_time": "2022-04-10T20:45:28.757Z"
   },
   {
    "duration": 223,
    "start_time": "2022-04-10T20:45:29.237Z"
   },
   {
    "duration": 507,
    "start_time": "2022-04-10T20:45:29.462Z"
   },
   {
    "duration": 3,
    "start_time": "2022-04-10T20:45:29.972Z"
   },
   {
    "duration": 17,
    "start_time": "2022-04-10T20:45:29.978Z"
   },
   {
    "duration": 1333,
    "start_time": "2022-04-10T20:45:29.998Z"
   },
   {
    "duration": 214,
    "start_time": "2022-04-10T20:45:31.333Z"
   },
   {
    "duration": 20,
    "start_time": "2022-04-10T20:45:31.549Z"
   },
   {
    "duration": 15,
    "start_time": "2022-04-10T20:45:31.571Z"
   },
   {
    "duration": 112,
    "start_time": "2022-04-10T20:45:31.590Z"
   },
   {
    "duration": 8,
    "start_time": "2022-04-10T20:45:31.704Z"
   },
   {
    "duration": 55,
    "start_time": "2022-04-10T20:45:31.714Z"
   },
   {
    "duration": 13,
    "start_time": "2022-04-10T20:45:31.771Z"
   },
   {
    "duration": 25,
    "start_time": "2022-04-10T20:45:31.786Z"
   },
   {
    "duration": 44,
    "start_time": "2022-04-10T20:45:31.813Z"
   },
   {
    "duration": 26,
    "start_time": "2022-04-10T20:45:31.859Z"
   },
   {
    "duration": 35,
    "start_time": "2022-04-10T20:45:31.888Z"
   },
   {
    "duration": 5,
    "start_time": "2022-04-10T20:45:31.926Z"
   },
   {
    "duration": 36,
    "start_time": "2022-04-10T20:45:31.933Z"
   },
   {
    "duration": 27,
    "start_time": "2022-04-10T20:45:31.972Z"
   },
   {
    "duration": 48,
    "start_time": "2022-04-10T20:45:32.001Z"
   },
   {
    "duration": 27,
    "start_time": "2022-04-10T20:45:32.051Z"
   },
   {
    "duration": 71,
    "start_time": "2022-04-10T20:45:32.080Z"
   },
   {
    "duration": 8,
    "start_time": "2022-04-10T20:45:32.153Z"
   },
   {
    "duration": 18,
    "start_time": "2022-04-10T20:45:32.163Z"
   },
   {
    "duration": 26,
    "start_time": "2022-04-10T20:45:32.183Z"
   },
   {
    "duration": 21,
    "start_time": "2022-04-10T20:45:32.211Z"
   },
   {
    "duration": 46,
    "start_time": "2022-04-10T20:45:32.236Z"
   },
   {
    "duration": 5,
    "start_time": "2022-04-10T20:45:32.285Z"
   },
   {
    "duration": 16,
    "start_time": "2022-04-10T20:45:32.291Z"
   },
   {
    "duration": 208,
    "start_time": "2022-04-10T20:45:32.309Z"
   },
   {
    "duration": 63,
    "start_time": "2022-04-10T20:45:32.519Z"
   },
   {
    "duration": 189,
    "start_time": "2022-04-10T20:45:32.584Z"
   },
   {
    "duration": 181,
    "start_time": "2022-04-10T20:45:32.775Z"
   },
   {
    "duration": 232,
    "start_time": "2022-04-10T20:45:32.958Z"
   },
   {
    "duration": 11,
    "start_time": "2022-04-10T20:45:33.193Z"
   },
   {
    "duration": 241,
    "start_time": "2022-04-10T20:45:33.206Z"
   },
   {
    "duration": 211,
    "start_time": "2022-04-10T20:45:33.449Z"
   },
   {
    "duration": 230,
    "start_time": "2022-04-10T20:45:33.662Z"
   },
   {
    "duration": 7,
    "start_time": "2022-04-10T20:45:33.895Z"
   },
   {
    "duration": 23,
    "start_time": "2022-04-10T20:45:33.904Z"
   },
   {
    "duration": 16,
    "start_time": "2022-04-10T20:45:33.929Z"
   },
   {
    "duration": 11,
    "start_time": "2022-04-10T20:45:33.947Z"
   },
   {
    "duration": 6,
    "start_time": "2022-04-10T20:47:38.692Z"
   },
   {
    "duration": 102,
    "start_time": "2022-04-10T20:48:44.461Z"
   },
   {
    "duration": 10,
    "start_time": "2022-04-10T20:49:09.507Z"
   },
   {
    "duration": 5,
    "start_time": "2022-04-10T20:49:38.794Z"
   },
   {
    "duration": 901,
    "start_time": "2022-04-11T10:31:02.497Z"
   },
   {
    "duration": 275,
    "start_time": "2022-04-11T10:31:03.400Z"
   },
   {
    "duration": 541,
    "start_time": "2022-04-11T10:31:03.677Z"
   },
   {
    "duration": 3,
    "start_time": "2022-04-11T10:31:04.221Z"
   },
   {
    "duration": 37,
    "start_time": "2022-04-11T10:31:04.226Z"
   },
   {
    "duration": 1122,
    "start_time": "2022-04-11T10:31:04.265Z"
   },
   {
    "duration": 247,
    "start_time": "2022-04-11T10:31:05.390Z"
   },
   {
    "duration": 27,
    "start_time": "2022-04-11T10:31:05.639Z"
   },
   {
    "duration": 8,
    "start_time": "2022-04-11T10:31:05.668Z"
   },
   {
    "duration": 136,
    "start_time": "2022-04-11T10:31:05.679Z"
   },
   {
    "duration": 6,
    "start_time": "2022-04-11T10:31:05.817Z"
   },
   {
    "duration": 54,
    "start_time": "2022-04-11T10:31:05.844Z"
   },
   {
    "duration": 37,
    "start_time": "2022-04-11T10:31:05.901Z"
   },
   {
    "duration": 18,
    "start_time": "2022-04-11T10:31:05.940Z"
   },
   {
    "duration": 17,
    "start_time": "2022-04-11T10:31:12.084Z"
   },
   {
    "duration": 15,
    "start_time": "2022-04-11T10:31:36.502Z"
   },
   {
    "duration": 6,
    "start_time": "2022-04-11T10:31:45.760Z"
   },
   {
    "duration": 150,
    "start_time": "2022-04-11T10:31:57.138Z"
   },
   {
    "duration": 6,
    "start_time": "2022-04-11T10:32:03.023Z"
   },
   {
    "duration": 46,
    "start_time": "2022-04-11T10:32:14.731Z"
   },
   {
    "duration": 208,
    "start_time": "2022-04-11T10:32:23.886Z"
   },
   {
    "duration": 14,
    "start_time": "2022-04-11T10:32:28.761Z"
   },
   {
    "duration": 33,
    "start_time": "2022-04-11T10:33:03.159Z"
   },
   {
    "duration": 16,
    "start_time": "2022-04-11T10:37:07.375Z"
   },
   {
    "duration": 37,
    "start_time": "2022-04-11T10:37:08.234Z"
   },
   {
    "duration": 7,
    "start_time": "2022-04-11T10:37:31.520Z"
   },
   {
    "duration": 214,
    "start_time": "2022-04-11T10:39:28.933Z"
   },
   {
    "duration": 7,
    "start_time": "2022-04-11T10:39:34.974Z"
   },
   {
    "duration": 225,
    "start_time": "2022-04-11T10:40:01.475Z"
   },
   {
    "duration": 34,
    "start_time": "2022-04-11T10:40:40.586Z"
   },
   {
    "duration": 28,
    "start_time": "2022-04-11T10:40:45.632Z"
   },
   {
    "duration": 3966,
    "start_time": "2022-04-11T10:40:53.308Z"
   },
   {
    "duration": 573,
    "start_time": "2022-04-11T10:41:16.079Z"
   },
   {
    "duration": 259,
    "start_time": "2022-04-11T10:41:16.655Z"
   },
   {
    "duration": 562,
    "start_time": "2022-04-11T10:41:16.916Z"
   },
   {
    "duration": 3,
    "start_time": "2022-04-11T10:41:17.481Z"
   },
   {
    "duration": 8,
    "start_time": "2022-04-11T10:41:17.486Z"
   },
   {
    "duration": 1531,
    "start_time": "2022-04-11T10:41:17.497Z"
   },
   {
    "duration": 305,
    "start_time": "2022-04-11T10:41:19.031Z"
   },
   {
    "duration": 21,
    "start_time": "2022-04-11T10:41:19.339Z"
   },
   {
    "duration": 8,
    "start_time": "2022-04-11T10:41:19.363Z"
   },
   {
    "duration": 140,
    "start_time": "2022-04-11T10:41:19.375Z"
   },
   {
    "duration": 7,
    "start_time": "2022-04-11T10:41:19.517Z"
   },
   {
    "duration": 60,
    "start_time": "2022-04-11T10:41:19.526Z"
   },
   {
    "duration": 15,
    "start_time": "2022-04-11T10:41:19.589Z"
   },
   {
    "duration": 38,
    "start_time": "2022-04-11T10:41:19.607Z"
   },
   {
    "duration": 10,
    "start_time": "2022-04-11T10:41:19.648Z"
   },
   {
    "duration": 7,
    "start_time": "2022-04-11T10:41:19.660Z"
   },
   {
    "duration": 15,
    "start_time": "2022-04-11T10:41:19.669Z"
   },
   {
    "duration": 77,
    "start_time": "2022-04-11T10:41:19.686Z"
   },
   {
    "duration": 14,
    "start_time": "2022-04-11T10:41:19.765Z"
   },
   {
    "duration": 30,
    "start_time": "2022-04-11T10:41:19.781Z"
   },
   {
    "duration": 33,
    "start_time": "2022-04-11T10:41:19.813Z"
   },
   {
    "duration": 56,
    "start_time": "2022-04-11T10:41:19.849Z"
   },
   {
    "duration": 70,
    "start_time": "2022-04-11T10:41:19.908Z"
   },
   {
    "duration": 38,
    "start_time": "2022-04-11T10:41:19.981Z"
   },
   {
    "duration": 41,
    "start_time": "2022-04-11T10:41:20.043Z"
   },
   {
    "duration": 95,
    "start_time": "2022-04-11T10:41:20.086Z"
   },
   {
    "duration": 12,
    "start_time": "2022-04-11T10:41:20.183Z"
   },
   {
    "duration": 8,
    "start_time": "2022-04-11T10:41:20.203Z"
   },
   {
    "duration": 31,
    "start_time": "2022-04-11T10:41:20.213Z"
   },
   {
    "duration": 24,
    "start_time": "2022-04-11T10:41:20.247Z"
   },
   {
    "duration": 104,
    "start_time": "2022-04-11T10:41:20.273Z"
   },
   {
    "duration": 7,
    "start_time": "2022-04-11T10:41:20.379Z"
   },
   {
    "duration": 8,
    "start_time": "2022-04-11T10:41:20.388Z"
   },
   {
    "duration": 7,
    "start_time": "2022-04-11T10:41:20.398Z"
   },
   {
    "duration": 39,
    "start_time": "2022-04-11T10:41:20.406Z"
   },
   {
    "duration": 411,
    "start_time": "2022-04-11T10:41:20.448Z"
   },
   {
    "duration": 85,
    "start_time": "2022-04-11T10:41:20.862Z"
   },
   {
    "duration": 260,
    "start_time": "2022-04-11T10:41:20.949Z"
   },
   {
    "duration": 256,
    "start_time": "2022-04-11T10:41:21.211Z"
   },
   {
    "duration": 226,
    "start_time": "2022-04-11T10:41:21.469Z"
   },
   {
    "duration": 10,
    "start_time": "2022-04-11T10:41:21.698Z"
   },
   {
    "duration": 248,
    "start_time": "2022-04-11T10:41:21.709Z"
   },
   {
    "duration": 213,
    "start_time": "2022-04-11T10:41:21.959Z"
   },
   {
    "duration": 238,
    "start_time": "2022-04-11T10:41:22.174Z"
   },
   {
    "duration": 7,
    "start_time": "2022-04-11T10:41:22.414Z"
   },
   {
    "duration": 26,
    "start_time": "2022-04-11T10:41:22.423Z"
   },
   {
    "duration": 7,
    "start_time": "2022-04-11T10:41:22.452Z"
   },
   {
    "duration": 9,
    "start_time": "2022-04-11T10:41:22.461Z"
   },
   {
    "duration": 41,
    "start_time": "2022-04-11T10:42:20.039Z"
   },
   {
    "duration": 8,
    "start_time": "2022-04-11T10:42:50.841Z"
   },
   {
    "duration": 7,
    "start_time": "2022-04-11T10:42:54.528Z"
   },
   {
    "duration": 234,
    "start_time": "2022-04-11T10:50:48.130Z"
   },
   {
    "duration": 6,
    "start_time": "2022-04-11T10:51:13.871Z"
   },
   {
    "duration": 9,
    "start_time": "2022-04-11T10:51:31.579Z"
   },
   {
    "duration": 688,
    "start_time": "2022-04-11T10:54:05.287Z"
   },
   {
    "duration": 271,
    "start_time": "2022-04-11T10:54:05.978Z"
   },
   {
    "duration": 572,
    "start_time": "2022-04-11T10:54:06.251Z"
   },
   {
    "duration": 4,
    "start_time": "2022-04-11T10:54:06.827Z"
   },
   {
    "duration": 6,
    "start_time": "2022-04-11T10:54:06.842Z"
   },
   {
    "duration": 1443,
    "start_time": "2022-04-11T10:54:06.851Z"
   },
   {
    "duration": 330,
    "start_time": "2022-04-11T10:54:08.296Z"
   },
   {
    "duration": 34,
    "start_time": "2022-04-11T10:54:08.629Z"
   },
   {
    "duration": 11,
    "start_time": "2022-04-11T10:54:08.666Z"
   },
   {
    "duration": 174,
    "start_time": "2022-04-11T10:54:08.682Z"
   },
   {
    "duration": 8,
    "start_time": "2022-04-11T10:54:08.859Z"
   },
   {
    "duration": 44,
    "start_time": "2022-04-11T10:54:08.869Z"
   },
   {
    "duration": 14,
    "start_time": "2022-04-11T10:54:08.943Z"
   },
   {
    "duration": 8,
    "start_time": "2022-04-11T10:54:08.960Z"
   },
   {
    "duration": 8,
    "start_time": "2022-04-11T10:54:08.970Z"
   },
   {
    "duration": 7,
    "start_time": "2022-04-11T10:54:08.980Z"
   },
   {
    "duration": 16,
    "start_time": "2022-04-11T10:54:08.989Z"
   },
   {
    "duration": 64,
    "start_time": "2022-04-11T10:54:09.006Z"
   },
   {
    "duration": 14,
    "start_time": "2022-04-11T10:54:09.072Z"
   },
   {
    "duration": 57,
    "start_time": "2022-04-11T10:54:09.088Z"
   },
   {
    "duration": 5,
    "start_time": "2022-04-11T10:54:09.147Z"
   },
   {
    "duration": 38,
    "start_time": "2022-04-11T10:54:09.154Z"
   },
   {
    "duration": 62,
    "start_time": "2022-04-11T10:54:09.195Z"
   },
   {
    "duration": 28,
    "start_time": "2022-04-11T10:54:09.260Z"
   },
   {
    "duration": 55,
    "start_time": "2022-04-11T10:54:09.290Z"
   },
   {
    "duration": 53,
    "start_time": "2022-04-11T10:54:09.348Z"
   },
   {
    "duration": 6,
    "start_time": "2022-04-11T10:54:09.404Z"
   },
   {
    "duration": 9,
    "start_time": "2022-04-11T10:54:09.443Z"
   },
   {
    "duration": 6,
    "start_time": "2022-04-11T10:54:09.454Z"
   },
   {
    "duration": 12,
    "start_time": "2022-04-11T10:54:09.463Z"
   },
   {
    "duration": 24,
    "start_time": "2022-04-11T10:54:09.478Z"
   },
   {
    "duration": 108,
    "start_time": "2022-04-11T10:54:09.505Z"
   },
   {
    "duration": 26,
    "start_time": "2022-04-11T10:54:09.616Z"
   },
   {
    "duration": 8,
    "start_time": "2022-04-11T10:54:09.645Z"
   },
   {
    "duration": 10,
    "start_time": "2022-04-11T10:54:09.655Z"
   },
   {
    "duration": 8,
    "start_time": "2022-04-11T10:54:09.667Z"
   },
   {
    "duration": 304,
    "start_time": "2022-04-11T10:54:09.677Z"
   },
   {
    "duration": 83,
    "start_time": "2022-04-11T10:54:09.983Z"
   },
   {
    "duration": 251,
    "start_time": "2022-04-11T10:54:10.068Z"
   },
   {
    "duration": 238,
    "start_time": "2022-04-11T10:54:10.321Z"
   },
   {
    "duration": 231,
    "start_time": "2022-04-11T10:54:10.561Z"
   },
   {
    "duration": 10,
    "start_time": "2022-04-11T10:54:10.794Z"
   },
   {
    "duration": 242,
    "start_time": "2022-04-11T10:54:10.807Z"
   },
   {
    "duration": 219,
    "start_time": "2022-04-11T10:54:11.052Z"
   },
   {
    "duration": 236,
    "start_time": "2022-04-11T10:54:11.274Z"
   },
   {
    "duration": 7,
    "start_time": "2022-04-11T10:54:11.513Z"
   },
   {
    "duration": 26,
    "start_time": "2022-04-11T10:54:11.522Z"
   },
   {
    "duration": 8,
    "start_time": "2022-04-11T10:54:11.550Z"
   },
   {
    "duration": 10,
    "start_time": "2022-04-11T10:54:11.560Z"
   },
   {
    "duration": 616,
    "start_time": "2022-04-11T13:59:03.127Z"
   },
   {
    "duration": 212,
    "start_time": "2022-04-11T13:59:03.746Z"
   },
   {
    "duration": 492,
    "start_time": "2022-04-11T13:59:03.960Z"
   },
   {
    "duration": 3,
    "start_time": "2022-04-11T13:59:04.453Z"
   },
   {
    "duration": 9,
    "start_time": "2022-04-11T13:59:04.458Z"
   },
   {
    "duration": 780,
    "start_time": "2022-04-11T13:59:04.469Z"
   },
   {
    "duration": 175,
    "start_time": "2022-04-11T13:59:05.252Z"
   },
   {
    "duration": 15,
    "start_time": "2022-04-11T13:59:05.429Z"
   },
   {
    "duration": 9,
    "start_time": "2022-04-11T13:59:05.446Z"
   },
   {
    "duration": 103,
    "start_time": "2022-04-11T13:59:05.457Z"
   },
   {
    "duration": 5,
    "start_time": "2022-04-11T13:59:05.562Z"
   },
   {
    "duration": 52,
    "start_time": "2022-04-11T13:59:05.568Z"
   },
   {
    "duration": 11,
    "start_time": "2022-04-11T13:59:05.622Z"
   },
   {
    "duration": 4,
    "start_time": "2022-04-11T13:59:05.636Z"
   },
   {
    "duration": 6,
    "start_time": "2022-04-11T13:59:05.642Z"
   },
   {
    "duration": 4,
    "start_time": "2022-04-11T13:59:05.650Z"
   },
   {
    "duration": 11,
    "start_time": "2022-04-11T13:59:05.656Z"
   },
   {
    "duration": 23,
    "start_time": "2022-04-11T13:59:05.709Z"
   },
   {
    "duration": 11,
    "start_time": "2022-04-11T13:59:05.733Z"
   },
   {
    "duration": 29,
    "start_time": "2022-04-11T13:59:05.746Z"
   },
   {
    "duration": 3,
    "start_time": "2022-04-11T13:59:05.777Z"
   },
   {
    "duration": 31,
    "start_time": "2022-04-11T13:59:05.808Z"
   },
   {
    "duration": 24,
    "start_time": "2022-04-11T13:59:05.841Z"
   },
   {
    "duration": 53,
    "start_time": "2022-04-11T13:59:05.867Z"
   },
   {
    "duration": 22,
    "start_time": "2022-04-11T13:59:05.922Z"
   },
   {
    "duration": 63,
    "start_time": "2022-04-11T13:59:05.946Z"
   },
   {
    "duration": 5,
    "start_time": "2022-04-11T13:59:06.012Z"
   },
   {
    "duration": 18,
    "start_time": "2022-04-11T13:59:06.018Z"
   },
   {
    "duration": 18,
    "start_time": "2022-04-11T13:59:06.038Z"
   },
   {
    "duration": 27,
    "start_time": "2022-04-11T13:59:06.057Z"
   },
   {
    "duration": 30,
    "start_time": "2022-04-11T13:59:06.086Z"
   },
   {
    "duration": 43,
    "start_time": "2022-04-11T13:59:06.118Z"
   },
   {
    "duration": 4,
    "start_time": "2022-04-11T13:59:06.163Z"
   },
   {
    "duration": 20,
    "start_time": "2022-04-11T13:59:06.169Z"
   },
   {
    "duration": 18,
    "start_time": "2022-04-11T13:59:06.191Z"
   },
   {
    "duration": 19,
    "start_time": "2022-04-11T13:59:06.211Z"
   },
   {
    "duration": 186,
    "start_time": "2022-04-11T13:59:06.232Z"
   },
   {
    "duration": 48,
    "start_time": "2022-04-11T13:59:06.419Z"
   },
   {
    "duration": 176,
    "start_time": "2022-04-11T13:59:06.469Z"
   },
   {
    "duration": 163,
    "start_time": "2022-04-11T13:59:06.647Z"
   },
   {
    "duration": 159,
    "start_time": "2022-04-11T13:59:06.814Z"
   },
   {
    "duration": 7,
    "start_time": "2022-04-11T13:59:06.974Z"
   },
   {
    "duration": 163,
    "start_time": "2022-04-11T13:59:06.982Z"
   },
   {
    "duration": 143,
    "start_time": "2022-04-11T13:59:07.147Z"
   },
   {
    "duration": 161,
    "start_time": "2022-04-11T13:59:07.293Z"
   },
   {
    "duration": 6,
    "start_time": "2022-04-11T13:59:07.456Z"
   },
   {
    "duration": 13,
    "start_time": "2022-04-11T13:59:07.464Z"
   },
   {
    "duration": 5,
    "start_time": "2022-04-11T13:59:07.479Z"
   },
   {
    "duration": 26,
    "start_time": "2022-04-11T13:59:07.485Z"
   },
   {
    "duration": 109,
    "start_time": "2022-04-11T14:07:30.790Z"
   },
   {
    "duration": 1838,
    "start_time": "2022-04-11T14:07:41.062Z"
   },
   {
    "duration": 27,
    "start_time": "2022-04-11T14:08:19.279Z"
   },
   {
    "duration": 443,
    "start_time": "2022-04-11T14:08:39.536Z"
   },
   {
    "duration": 218,
    "start_time": "2022-04-11T14:08:39.981Z"
   },
   {
    "duration": 446,
    "start_time": "2022-04-11T14:08:40.201Z"
   },
   {
    "duration": 3,
    "start_time": "2022-04-11T14:08:40.648Z"
   },
   {
    "duration": 4,
    "start_time": "2022-04-11T14:08:40.653Z"
   },
   {
    "duration": 757,
    "start_time": "2022-04-11T14:08:40.659Z"
   },
   {
    "duration": 170,
    "start_time": "2022-04-11T14:08:41.418Z"
   },
   {
    "duration": 24,
    "start_time": "2022-04-11T14:08:41.590Z"
   },
   {
    "duration": 6,
    "start_time": "2022-04-11T14:08:41.616Z"
   },
   {
    "duration": 101,
    "start_time": "2022-04-11T14:08:41.624Z"
   },
   {
    "duration": 5,
    "start_time": "2022-04-11T14:08:41.727Z"
   },
   {
    "duration": 40,
    "start_time": "2022-04-11T14:08:41.734Z"
   },
   {
    "duration": 39,
    "start_time": "2022-04-11T14:08:41.776Z"
   },
   {
    "duration": 4,
    "start_time": "2022-04-11T14:08:41.820Z"
   },
   {
    "duration": 7,
    "start_time": "2022-04-11T14:08:41.826Z"
   },
   {
    "duration": 5,
    "start_time": "2022-04-11T14:08:41.836Z"
   },
   {
    "duration": 14,
    "start_time": "2022-04-11T14:08:41.843Z"
   },
   {
    "duration": 65,
    "start_time": "2022-04-11T14:08:41.859Z"
   },
   {
    "duration": 1670,
    "start_time": "2022-04-11T14:08:41.926Z"
   },
   {
    "duration": 0,
    "start_time": "2022-04-11T14:08:43.598Z"
   },
   {
    "duration": 0,
    "start_time": "2022-04-11T14:08:43.600Z"
   },
   {
    "duration": 0,
    "start_time": "2022-04-11T14:08:43.601Z"
   },
   {
    "duration": 0,
    "start_time": "2022-04-11T14:08:43.602Z"
   },
   {
    "duration": 0,
    "start_time": "2022-04-11T14:08:43.603Z"
   },
   {
    "duration": 0,
    "start_time": "2022-04-11T14:08:43.605Z"
   },
   {
    "duration": 0,
    "start_time": "2022-04-11T14:08:43.606Z"
   },
   {
    "duration": 0,
    "start_time": "2022-04-11T14:08:43.609Z"
   },
   {
    "duration": 0,
    "start_time": "2022-04-11T14:08:43.611Z"
   },
   {
    "duration": 0,
    "start_time": "2022-04-11T14:08:43.612Z"
   },
   {
    "duration": 0,
    "start_time": "2022-04-11T14:08:43.614Z"
   },
   {
    "duration": 0,
    "start_time": "2022-04-11T14:08:43.615Z"
   },
   {
    "duration": 0,
    "start_time": "2022-04-11T14:08:43.616Z"
   },
   {
    "duration": 0,
    "start_time": "2022-04-11T14:08:43.618Z"
   },
   {
    "duration": 0,
    "start_time": "2022-04-11T14:08:43.619Z"
   },
   {
    "duration": 0,
    "start_time": "2022-04-11T14:08:43.620Z"
   },
   {
    "duration": 0,
    "start_time": "2022-04-11T14:08:43.621Z"
   },
   {
    "duration": 0,
    "start_time": "2022-04-11T14:08:43.623Z"
   },
   {
    "duration": 0,
    "start_time": "2022-04-11T14:08:43.624Z"
   },
   {
    "duration": 0,
    "start_time": "2022-04-11T14:08:43.626Z"
   },
   {
    "duration": 0,
    "start_time": "2022-04-11T14:08:43.627Z"
   },
   {
    "duration": 1,
    "start_time": "2022-04-11T14:08:43.628Z"
   },
   {
    "duration": 0,
    "start_time": "2022-04-11T14:08:43.630Z"
   },
   {
    "duration": 0,
    "start_time": "2022-04-11T14:08:43.632Z"
   },
   {
    "duration": 0,
    "start_time": "2022-04-11T14:08:43.633Z"
   },
   {
    "duration": 0,
    "start_time": "2022-04-11T14:08:43.634Z"
   },
   {
    "duration": 0,
    "start_time": "2022-04-11T14:08:43.635Z"
   },
   {
    "duration": 0,
    "start_time": "2022-04-11T14:08:43.636Z"
   },
   {
    "duration": 0,
    "start_time": "2022-04-11T14:08:43.637Z"
   },
   {
    "duration": 0,
    "start_time": "2022-04-11T14:08:43.638Z"
   },
   {
    "duration": 0,
    "start_time": "2022-04-11T14:08:43.640Z"
   },
   {
    "duration": 17,
    "start_time": "2022-04-11T14:09:08.006Z"
   },
   {
    "duration": 11,
    "start_time": "2022-04-11T14:11:23.643Z"
   },
   {
    "duration": 8,
    "start_time": "2022-04-11T14:11:58.796Z"
   },
   {
    "duration": 1568,
    "start_time": "2022-04-11T14:19:17.513Z"
   },
   {
    "duration": 6,
    "start_time": "2022-04-11T14:19:28.085Z"
   },
   {
    "duration": 6,
    "start_time": "2022-04-11T14:20:09.518Z"
   },
   {
    "duration": 509,
    "start_time": "2022-04-11T14:23:11.987Z"
   },
   {
    "duration": 206,
    "start_time": "2022-04-11T14:23:12.498Z"
   },
   {
    "duration": 467,
    "start_time": "2022-04-11T14:23:12.706Z"
   },
   {
    "duration": 2,
    "start_time": "2022-04-11T14:23:13.175Z"
   },
   {
    "duration": 5,
    "start_time": "2022-04-11T14:23:13.179Z"
   },
   {
    "duration": 763,
    "start_time": "2022-04-11T14:23:13.186Z"
   },
   {
    "duration": 179,
    "start_time": "2022-04-11T14:23:13.951Z"
   },
   {
    "duration": 16,
    "start_time": "2022-04-11T14:23:14.132Z"
   },
   {
    "duration": 6,
    "start_time": "2022-04-11T14:23:14.150Z"
   },
   {
    "duration": 101,
    "start_time": "2022-04-11T14:23:14.158Z"
   },
   {
    "duration": 4,
    "start_time": "2022-04-11T14:23:14.261Z"
   },
   {
    "duration": 49,
    "start_time": "2022-04-11T14:23:14.267Z"
   },
   {
    "duration": 10,
    "start_time": "2022-04-11T14:23:14.318Z"
   },
   {
    "duration": 4,
    "start_time": "2022-04-11T14:23:14.331Z"
   },
   {
    "duration": 6,
    "start_time": "2022-04-11T14:23:14.336Z"
   },
   {
    "duration": 4,
    "start_time": "2022-04-11T14:23:14.344Z"
   },
   {
    "duration": 10,
    "start_time": "2022-04-11T14:23:14.349Z"
   },
   {
    "duration": 61,
    "start_time": "2022-04-11T14:23:14.361Z"
   },
   {
    "duration": 5,
    "start_time": "2022-04-11T14:23:14.424Z"
   },
   {
    "duration": 12,
    "start_time": "2022-04-11T14:23:14.430Z"
   },
   {
    "duration": 19,
    "start_time": "2022-04-11T14:23:14.444Z"
   },
   {
    "duration": 4,
    "start_time": "2022-04-11T14:23:14.464Z"
   },
   {
    "duration": 40,
    "start_time": "2022-04-11T14:23:14.469Z"
   },
   {
    "duration": 27,
    "start_time": "2022-04-11T14:23:14.511Z"
   },
   {
    "duration": 5,
    "start_time": "2022-04-11T14:23:14.540Z"
   },
   {
    "duration": 22,
    "start_time": "2022-04-11T14:23:14.547Z"
   },
   {
    "duration": 19,
    "start_time": "2022-04-11T14:23:14.609Z"
   },
   {
    "duration": 20,
    "start_time": "2022-04-11T14:23:14.630Z"
   },
   {
    "duration": 68,
    "start_time": "2022-04-11T14:23:14.652Z"
   },
   {
    "duration": 4,
    "start_time": "2022-04-11T14:23:14.722Z"
   },
   {
    "duration": 7,
    "start_time": "2022-04-11T14:23:14.728Z"
   },
   {
    "duration": 7,
    "start_time": "2022-04-11T14:23:14.736Z"
   },
   {
    "duration": 6,
    "start_time": "2022-04-11T14:23:14.745Z"
   },
   {
    "duration": 20,
    "start_time": "2022-04-11T14:23:14.753Z"
   },
   {
    "duration": 69,
    "start_time": "2022-04-11T14:23:14.774Z"
   },
   {
    "duration": 4,
    "start_time": "2022-04-11T14:23:14.845Z"
   },
   {
    "duration": 8,
    "start_time": "2022-04-11T14:23:14.851Z"
   },
   {
    "duration": 13,
    "start_time": "2022-04-11T14:23:14.860Z"
   },
   {
    "duration": 11,
    "start_time": "2022-04-11T14:23:14.874Z"
   },
   {
    "duration": 205,
    "start_time": "2022-04-11T14:23:14.908Z"
   },
   {
    "duration": 51,
    "start_time": "2022-04-11T14:23:15.117Z"
   },
   {
    "duration": 189,
    "start_time": "2022-04-11T14:23:15.170Z"
   },
   {
    "duration": 172,
    "start_time": "2022-04-11T14:23:15.361Z"
   },
   {
    "duration": 154,
    "start_time": "2022-04-11T14:23:15.535Z"
   },
   {
    "duration": 18,
    "start_time": "2022-04-11T14:23:15.691Z"
   },
   {
    "duration": 160,
    "start_time": "2022-04-11T14:23:15.711Z"
   },
   {
    "duration": 141,
    "start_time": "2022-04-11T14:23:15.873Z"
   },
   {
    "duration": 151,
    "start_time": "2022-04-11T14:23:16.017Z"
   },
   {
    "duration": 5,
    "start_time": "2022-04-11T14:23:16.170Z"
   },
   {
    "duration": 16,
    "start_time": "2022-04-11T14:23:16.177Z"
   },
   {
    "duration": 17,
    "start_time": "2022-04-11T14:23:16.195Z"
   },
   {
    "duration": 12,
    "start_time": "2022-04-11T14:23:16.214Z"
   },
   {
    "duration": 97,
    "start_time": "2022-04-11T14:38:18.799Z"
   },
   {
    "duration": 473,
    "start_time": "2022-04-11T14:38:32.455Z"
   },
   {
    "duration": 201,
    "start_time": "2022-04-11T14:38:32.929Z"
   },
   {
    "duration": 447,
    "start_time": "2022-04-11T14:38:33.132Z"
   },
   {
    "duration": 3,
    "start_time": "2022-04-11T14:38:33.581Z"
   },
   {
    "duration": 5,
    "start_time": "2022-04-11T14:38:33.585Z"
   },
   {
    "duration": 743,
    "start_time": "2022-04-11T14:38:33.592Z"
   },
   {
    "duration": 176,
    "start_time": "2022-04-11T14:38:34.337Z"
   },
   {
    "duration": 16,
    "start_time": "2022-04-11T14:38:34.515Z"
   },
   {
    "duration": 8,
    "start_time": "2022-04-11T14:38:34.533Z"
   },
   {
    "duration": 107,
    "start_time": "2022-04-11T14:38:34.544Z"
   },
   {
    "duration": 6,
    "start_time": "2022-04-11T14:38:34.653Z"
   },
   {
    "duration": 54,
    "start_time": "2022-04-11T14:38:34.661Z"
   },
   {
    "duration": 12,
    "start_time": "2022-04-11T14:38:34.716Z"
   },
   {
    "duration": 5,
    "start_time": "2022-04-11T14:38:34.730Z"
   },
   {
    "duration": 6,
    "start_time": "2022-04-11T14:38:34.737Z"
   },
   {
    "duration": 6,
    "start_time": "2022-04-11T14:38:34.745Z"
   },
   {
    "duration": 12,
    "start_time": "2022-04-11T14:38:34.753Z"
   },
   {
    "duration": 53,
    "start_time": "2022-04-11T14:38:34.767Z"
   },
   {
    "duration": 4,
    "start_time": "2022-04-11T14:38:34.821Z"
   },
   {
    "duration": 12,
    "start_time": "2022-04-11T14:38:34.827Z"
   },
   {
    "duration": 19,
    "start_time": "2022-04-11T14:38:34.841Z"
   },
   {
    "duration": 3,
    "start_time": "2022-04-11T14:38:34.862Z"
   },
   {
    "duration": 7,
    "start_time": "2022-04-11T14:38:34.866Z"
   },
   {
    "duration": 61,
    "start_time": "2022-04-11T14:38:34.875Z"
   },
   {
    "duration": 3,
    "start_time": "2022-04-11T14:38:34.938Z"
   },
   {
    "duration": 23,
    "start_time": "2022-04-11T14:38:34.943Z"
   },
   {
    "duration": 48,
    "start_time": "2022-04-11T14:38:34.968Z"
   },
   {
    "duration": 20,
    "start_time": "2022-04-11T14:38:35.020Z"
   },
   {
    "duration": 36,
    "start_time": "2022-04-11T14:38:35.041Z"
   },
   {
    "duration": 36,
    "start_time": "2022-04-11T14:38:35.078Z"
   },
   {
    "duration": 6,
    "start_time": "2022-04-11T14:38:35.116Z"
   },
   {
    "duration": 6,
    "start_time": "2022-04-11T14:38:35.124Z"
   },
   {
    "duration": 7,
    "start_time": "2022-04-11T14:38:35.131Z"
   },
   {
    "duration": 4,
    "start_time": "2022-04-11T14:38:35.140Z"
   },
   {
    "duration": 12,
    "start_time": "2022-04-11T14:38:35.146Z"
   },
   {
    "duration": 66,
    "start_time": "2022-04-11T14:38:35.160Z"
   },
   {
    "duration": 4,
    "start_time": "2022-04-11T14:38:35.228Z"
   },
   {
    "duration": 7,
    "start_time": "2022-04-11T14:38:35.233Z"
   },
   {
    "duration": 7,
    "start_time": "2022-04-11T14:38:35.242Z"
   },
   {
    "duration": 6,
    "start_time": "2022-04-11T14:38:35.251Z"
   },
   {
    "duration": 206,
    "start_time": "2022-04-11T14:38:35.258Z"
   },
   {
    "duration": 58,
    "start_time": "2022-04-11T14:38:35.466Z"
   },
   {
    "duration": 166,
    "start_time": "2022-04-11T14:38:35.526Z"
   },
   {
    "duration": 156,
    "start_time": "2022-04-11T14:38:35.694Z"
   },
   {
    "duration": 153,
    "start_time": "2022-04-11T14:38:35.851Z"
   },
   {
    "duration": 7,
    "start_time": "2022-04-11T14:38:36.008Z"
   },
   {
    "duration": 154,
    "start_time": "2022-04-11T14:38:36.017Z"
   },
   {
    "duration": 137,
    "start_time": "2022-04-11T14:38:36.172Z"
   },
   {
    "duration": 145,
    "start_time": "2022-04-11T14:38:36.310Z"
   },
   {
    "duration": 6,
    "start_time": "2022-04-11T14:38:36.457Z"
   },
   {
    "duration": 10,
    "start_time": "2022-04-11T14:38:36.465Z"
   },
   {
    "duration": 10,
    "start_time": "2022-04-11T14:38:36.477Z"
   },
   {
    "duration": 23,
    "start_time": "2022-04-11T14:38:36.489Z"
   },
   {
    "duration": 10,
    "start_time": "2022-04-11T14:41:41.451Z"
   },
   {
    "duration": 7,
    "start_time": "2022-04-11T14:54:08.059Z"
   },
   {
    "duration": 7,
    "start_time": "2022-04-11T14:54:27.742Z"
   },
   {
    "duration": 103,
    "start_time": "2022-04-11T14:54:45.270Z"
   },
   {
    "duration": 6,
    "start_time": "2022-04-11T14:55:04.021Z"
   },
   {
    "duration": 479,
    "start_time": "2022-04-11T14:59:38.618Z"
   },
   {
    "duration": 213,
    "start_time": "2022-04-11T14:59:39.099Z"
   },
   {
    "duration": 444,
    "start_time": "2022-04-11T14:59:39.314Z"
   },
   {
    "duration": 3,
    "start_time": "2022-04-11T14:59:39.759Z"
   },
   {
    "duration": 5,
    "start_time": "2022-04-11T14:59:39.765Z"
   },
   {
    "duration": 732,
    "start_time": "2022-04-11T14:59:39.772Z"
   },
   {
    "duration": 169,
    "start_time": "2022-04-11T14:59:40.505Z"
   },
   {
    "duration": 16,
    "start_time": "2022-04-11T14:59:40.676Z"
   },
   {
    "duration": 18,
    "start_time": "2022-04-11T14:59:40.694Z"
   },
   {
    "duration": 80,
    "start_time": "2022-04-11T14:59:40.714Z"
   },
   {
    "duration": 14,
    "start_time": "2022-04-11T14:59:40.796Z"
   },
   {
    "duration": 27,
    "start_time": "2022-04-11T14:59:40.812Z"
   },
   {
    "duration": 10,
    "start_time": "2022-04-11T14:59:40.841Z"
   },
   {
    "duration": 3,
    "start_time": "2022-04-11T14:59:40.855Z"
   },
   {
    "duration": 6,
    "start_time": "2022-04-11T14:59:40.860Z"
   },
   {
    "duration": 44,
    "start_time": "2022-04-11T14:59:40.867Z"
   },
   {
    "duration": 10,
    "start_time": "2022-04-11T14:59:40.913Z"
   },
   {
    "duration": 22,
    "start_time": "2022-04-11T14:59:40.925Z"
   },
   {
    "duration": 4,
    "start_time": "2022-04-11T14:59:40.948Z"
   },
   {
    "duration": 12,
    "start_time": "2022-04-11T14:59:40.954Z"
   },
   {
    "duration": 44,
    "start_time": "2022-04-11T14:59:40.968Z"
   },
   {
    "duration": 3,
    "start_time": "2022-04-11T14:59:41.014Z"
   },
   {
    "duration": 6,
    "start_time": "2022-04-11T14:59:41.019Z"
   },
   {
    "duration": 30,
    "start_time": "2022-04-11T14:59:41.027Z"
   },
   {
    "duration": 4,
    "start_time": "2022-04-11T14:59:41.058Z"
   },
   {
    "duration": 50,
    "start_time": "2022-04-11T14:59:41.064Z"
   },
   {
    "duration": 18,
    "start_time": "2022-04-11T14:59:41.115Z"
   },
   {
    "duration": 19,
    "start_time": "2022-04-11T14:59:41.134Z"
   },
   {
    "duration": 62,
    "start_time": "2022-04-11T14:59:41.155Z"
   },
   {
    "duration": 9,
    "start_time": "2022-04-11T14:59:41.219Z"
   },
   {
    "duration": 6,
    "start_time": "2022-04-11T14:59:41.230Z"
   },
   {
    "duration": 15,
    "start_time": "2022-04-11T14:59:41.238Z"
   },
   {
    "duration": 8,
    "start_time": "2022-04-11T14:59:41.255Z"
   },
   {
    "duration": 13,
    "start_time": "2022-04-11T14:59:41.265Z"
   },
   {
    "duration": 30,
    "start_time": "2022-04-11T14:59:41.280Z"
   },
   {
    "duration": 7,
    "start_time": "2022-04-11T14:59:41.312Z"
   },
   {
    "duration": 40,
    "start_time": "2022-04-11T14:59:41.321Z"
   },
   {
    "duration": 5,
    "start_time": "2022-04-11T14:59:41.362Z"
   },
   {
    "duration": 7,
    "start_time": "2022-04-11T14:59:41.368Z"
   },
   {
    "duration": 6,
    "start_time": "2022-04-11T14:59:41.410Z"
   },
   {
    "duration": 7,
    "start_time": "2022-04-11T14:59:41.422Z"
   },
   {
    "duration": 190,
    "start_time": "2022-04-11T14:59:41.431Z"
   },
   {
    "duration": 49,
    "start_time": "2022-04-11T14:59:41.623Z"
   },
   {
    "duration": 176,
    "start_time": "2022-04-11T14:59:41.673Z"
   },
   {
    "duration": 171,
    "start_time": "2022-04-11T14:59:41.851Z"
   },
   {
    "duration": 144,
    "start_time": "2022-04-11T14:59:42.024Z"
   },
   {
    "duration": 7,
    "start_time": "2022-04-11T14:59:42.170Z"
   },
   {
    "duration": 157,
    "start_time": "2022-04-11T14:59:42.178Z"
   },
   {
    "duration": 150,
    "start_time": "2022-04-11T14:59:42.337Z"
   },
   {
    "duration": 140,
    "start_time": "2022-04-11T14:59:42.489Z"
   },
   {
    "duration": 5,
    "start_time": "2022-04-11T14:59:42.631Z"
   },
   {
    "duration": 9,
    "start_time": "2022-04-11T14:59:42.638Z"
   },
   {
    "duration": 4,
    "start_time": "2022-04-11T14:59:42.649Z"
   },
   {
    "duration": 5,
    "start_time": "2022-04-11T14:59:42.655Z"
   },
   {
    "duration": 99,
    "start_time": "2022-04-11T15:01:36.328Z"
   },
   {
    "duration": 4,
    "start_time": "2022-04-11T15:05:38.034Z"
   },
   {
    "duration": 475,
    "start_time": "2022-04-11T15:08:56.906Z"
   },
   {
    "duration": 208,
    "start_time": "2022-04-11T15:08:57.383Z"
   },
   {
    "duration": 480,
    "start_time": "2022-04-11T15:08:57.593Z"
   },
   {
    "duration": 3,
    "start_time": "2022-04-11T15:08:58.075Z"
   },
   {
    "duration": 7,
    "start_time": "2022-04-11T15:08:58.079Z"
   },
   {
    "duration": 775,
    "start_time": "2022-04-11T15:08:58.088Z"
   },
   {
    "duration": 173,
    "start_time": "2022-04-11T15:08:58.865Z"
   },
   {
    "duration": 15,
    "start_time": "2022-04-11T15:08:59.040Z"
   },
   {
    "duration": 6,
    "start_time": "2022-04-11T15:08:59.057Z"
   },
   {
    "duration": 100,
    "start_time": "2022-04-11T15:08:59.066Z"
   },
   {
    "duration": 4,
    "start_time": "2022-04-11T15:08:59.168Z"
   },
   {
    "duration": 52,
    "start_time": "2022-04-11T15:08:59.174Z"
   },
   {
    "duration": 10,
    "start_time": "2022-04-11T15:08:59.228Z"
   },
   {
    "duration": 4,
    "start_time": "2022-04-11T15:08:59.240Z"
   },
   {
    "duration": 7,
    "start_time": "2022-04-11T15:08:59.246Z"
   },
   {
    "duration": 5,
    "start_time": "2022-04-11T15:08:59.254Z"
   },
   {
    "duration": 11,
    "start_time": "2022-04-11T15:08:59.260Z"
   },
   {
    "duration": 62,
    "start_time": "2022-04-11T15:08:59.273Z"
   },
   {
    "duration": 3,
    "start_time": "2022-04-11T15:08:59.337Z"
   },
   {
    "duration": 15,
    "start_time": "2022-04-11T15:08:59.341Z"
   },
   {
    "duration": 21,
    "start_time": "2022-04-11T15:08:59.358Z"
   },
   {
    "duration": 3,
    "start_time": "2022-04-11T15:08:59.380Z"
   },
   {
    "duration": 32,
    "start_time": "2022-04-11T15:08:59.385Z"
   },
   {
    "duration": 29,
    "start_time": "2022-04-11T15:08:59.422Z"
   },
   {
    "duration": 5,
    "start_time": "2022-04-11T15:08:59.453Z"
   },
   {
    "duration": 23,
    "start_time": "2022-04-11T15:08:59.460Z"
   },
   {
    "duration": 47,
    "start_time": "2022-04-11T15:08:59.485Z"
   },
   {
    "duration": 19,
    "start_time": "2022-04-11T15:08:59.536Z"
   },
   {
    "duration": 58,
    "start_time": "2022-04-11T15:08:59.556Z"
   },
   {
    "duration": 13,
    "start_time": "2022-04-11T15:08:59.615Z"
   },
   {
    "duration": 6,
    "start_time": "2022-04-11T15:08:59.630Z"
   },
   {
    "duration": 7,
    "start_time": "2022-04-11T15:08:59.637Z"
   },
   {
    "duration": 6,
    "start_time": "2022-04-11T15:08:59.645Z"
   },
   {
    "duration": 6,
    "start_time": "2022-04-11T15:08:59.653Z"
   },
   {
    "duration": 15,
    "start_time": "2022-04-11T15:08:59.660Z"
   },
   {
    "duration": 6,
    "start_time": "2022-04-11T15:08:59.677Z"
   },
   {
    "duration": 50,
    "start_time": "2022-04-11T15:08:59.714Z"
   },
   {
    "duration": 5,
    "start_time": "2022-04-11T15:08:59.765Z"
   },
   {
    "duration": 6,
    "start_time": "2022-04-11T15:08:59.772Z"
   },
   {
    "duration": 6,
    "start_time": "2022-04-11T15:08:59.779Z"
   },
   {
    "duration": 33,
    "start_time": "2022-04-11T15:08:59.787Z"
   },
   {
    "duration": 15,
    "start_time": "2022-04-11T15:08:59.822Z"
   },
   {
    "duration": 200,
    "start_time": "2022-04-11T15:08:59.839Z"
   },
   {
    "duration": 70,
    "start_time": "2022-04-11T15:09:00.041Z"
   },
   {
    "duration": 173,
    "start_time": "2022-04-11T15:09:00.113Z"
   },
   {
    "duration": 183,
    "start_time": "2022-04-11T15:09:00.289Z"
   },
   {
    "duration": 167,
    "start_time": "2022-04-11T15:09:00.474Z"
   },
   {
    "duration": 7,
    "start_time": "2022-04-11T15:09:00.642Z"
   },
   {
    "duration": 170,
    "start_time": "2022-04-11T15:09:00.651Z"
   },
   {
    "duration": 157,
    "start_time": "2022-04-11T15:09:00.824Z"
   },
   {
    "duration": 172,
    "start_time": "2022-04-11T15:09:00.982Z"
   },
   {
    "duration": 6,
    "start_time": "2022-04-11T15:09:01.156Z"
   },
   {
    "duration": 13,
    "start_time": "2022-04-11T15:09:01.164Z"
   },
   {
    "duration": 8,
    "start_time": "2022-04-11T15:09:01.179Z"
   },
   {
    "duration": 6,
    "start_time": "2022-04-11T15:09:01.211Z"
   },
   {
    "duration": 489,
    "start_time": "2022-04-11T15:15:23.228Z"
   },
   {
    "duration": 217,
    "start_time": "2022-04-11T15:15:23.719Z"
   },
   {
    "duration": 511,
    "start_time": "2022-04-11T15:15:23.938Z"
   },
   {
    "duration": 2,
    "start_time": "2022-04-11T15:15:24.452Z"
   },
   {
    "duration": 28,
    "start_time": "2022-04-11T15:15:24.456Z"
   },
   {
    "duration": 792,
    "start_time": "2022-04-11T15:15:24.486Z"
   },
   {
    "duration": 169,
    "start_time": "2022-04-11T15:15:25.280Z"
   },
   {
    "duration": 15,
    "start_time": "2022-04-11T15:15:25.451Z"
   },
   {
    "duration": 6,
    "start_time": "2022-04-11T15:15:25.467Z"
   },
   {
    "duration": 90,
    "start_time": "2022-04-11T15:15:25.476Z"
   },
   {
    "duration": 5,
    "start_time": "2022-04-11T15:15:25.568Z"
   },
   {
    "duration": 55,
    "start_time": "2022-04-11T15:15:25.575Z"
   },
   {
    "duration": 13,
    "start_time": "2022-04-11T15:15:25.631Z"
   },
   {
    "duration": 4,
    "start_time": "2022-04-11T15:15:25.646Z"
   },
   {
    "duration": 11,
    "start_time": "2022-04-11T15:15:25.652Z"
   },
   {
    "duration": 5,
    "start_time": "2022-04-11T15:15:25.665Z"
   },
   {
    "duration": 38,
    "start_time": "2022-04-11T15:15:25.672Z"
   },
   {
    "duration": 22,
    "start_time": "2022-04-11T15:15:25.712Z"
   },
   {
    "duration": 4,
    "start_time": "2022-04-11T15:15:25.735Z"
   },
   {
    "duration": 12,
    "start_time": "2022-04-11T15:15:25.741Z"
   },
   {
    "duration": 19,
    "start_time": "2022-04-11T15:15:25.754Z"
   },
   {
    "duration": 3,
    "start_time": "2022-04-11T15:15:25.775Z"
   },
   {
    "duration": 5,
    "start_time": "2022-04-11T15:15:25.808Z"
   },
   {
    "duration": 28,
    "start_time": "2022-04-11T15:15:25.815Z"
   },
   {
    "duration": 4,
    "start_time": "2022-04-11T15:15:25.845Z"
   },
   {
    "duration": 24,
    "start_time": "2022-04-11T15:15:25.851Z"
   },
   {
    "duration": 19,
    "start_time": "2022-04-11T15:15:25.908Z"
   },
   {
    "duration": 25,
    "start_time": "2022-04-11T15:15:25.931Z"
   },
   {
    "duration": 64,
    "start_time": "2022-04-11T15:15:25.958Z"
   },
   {
    "duration": 11,
    "start_time": "2022-04-11T15:15:26.024Z"
   },
   {
    "duration": 7,
    "start_time": "2022-04-11T15:15:26.037Z"
   },
   {
    "duration": 8,
    "start_time": "2022-04-11T15:15:26.046Z"
   },
   {
    "duration": 11,
    "start_time": "2022-04-11T15:15:26.056Z"
   },
   {
    "duration": 8,
    "start_time": "2022-04-11T15:15:26.069Z"
   },
   {
    "duration": 41,
    "start_time": "2022-04-11T15:15:26.079Z"
   },
   {
    "duration": 7,
    "start_time": "2022-04-11T15:15:26.122Z"
   },
   {
    "duration": 55,
    "start_time": "2022-04-11T15:15:26.131Z"
   },
   {
    "duration": 5,
    "start_time": "2022-04-11T15:15:26.208Z"
   },
   {
    "duration": 6,
    "start_time": "2022-04-11T15:15:26.216Z"
   },
   {
    "duration": 6,
    "start_time": "2022-04-11T15:15:26.224Z"
   },
   {
    "duration": 7,
    "start_time": "2022-04-11T15:15:26.232Z"
   },
   {
    "duration": 6,
    "start_time": "2022-04-11T15:15:26.240Z"
   },
   {
    "duration": 245,
    "start_time": "2022-04-11T15:15:26.248Z"
   },
   {
    "duration": 62,
    "start_time": "2022-04-11T15:15:26.495Z"
   },
   {
    "duration": 189,
    "start_time": "2022-04-11T15:15:26.560Z"
   },
   {
    "duration": 191,
    "start_time": "2022-04-11T15:15:26.752Z"
   },
   {
    "duration": 152,
    "start_time": "2022-04-11T15:15:26.944Z"
   },
   {
    "duration": 15,
    "start_time": "2022-04-11T15:15:27.098Z"
   },
   {
    "duration": 161,
    "start_time": "2022-04-11T15:15:27.115Z"
   },
   {
    "duration": 155,
    "start_time": "2022-04-11T15:15:27.278Z"
   },
   {
    "duration": 158,
    "start_time": "2022-04-11T15:15:27.434Z"
   },
   {
    "duration": 16,
    "start_time": "2022-04-11T15:15:27.594Z"
   },
   {
    "duration": 19,
    "start_time": "2022-04-11T15:15:27.613Z"
   },
   {
    "duration": 9,
    "start_time": "2022-04-11T15:15:27.634Z"
   },
   {
    "duration": 13,
    "start_time": "2022-04-11T15:15:27.645Z"
   },
   {
    "duration": 554,
    "start_time": "2022-04-11T19:26:34.850Z"
   },
   {
    "duration": 209,
    "start_time": "2022-04-11T19:26:35.406Z"
   },
   {
    "duration": 446,
    "start_time": "2022-04-11T19:26:35.617Z"
   },
   {
    "duration": 3,
    "start_time": "2022-04-11T19:26:36.065Z"
   },
   {
    "duration": 7,
    "start_time": "2022-04-11T19:26:36.070Z"
   },
   {
    "duration": 757,
    "start_time": "2022-04-11T19:26:36.079Z"
   },
   {
    "duration": 172,
    "start_time": "2022-04-11T19:26:36.838Z"
   },
   {
    "duration": 15,
    "start_time": "2022-04-11T19:26:37.012Z"
   },
   {
    "duration": 6,
    "start_time": "2022-04-11T19:26:37.028Z"
   },
   {
    "duration": 99,
    "start_time": "2022-04-11T19:26:37.037Z"
   },
   {
    "duration": 4,
    "start_time": "2022-04-11T19:26:37.138Z"
   },
   {
    "duration": 28,
    "start_time": "2022-04-11T19:26:37.144Z"
   },
   {
    "duration": 10,
    "start_time": "2022-04-11T19:26:37.174Z"
   },
   {
    "duration": 25,
    "start_time": "2022-04-11T19:26:37.185Z"
   },
   {
    "duration": 5,
    "start_time": "2022-04-11T19:26:37.212Z"
   },
   {
    "duration": 4,
    "start_time": "2022-04-11T19:26:37.219Z"
   },
   {
    "duration": 9,
    "start_time": "2022-04-11T19:26:37.225Z"
   },
   {
    "duration": 21,
    "start_time": "2022-04-11T19:26:37.235Z"
   },
   {
    "duration": 4,
    "start_time": "2022-04-11T19:26:37.257Z"
   },
   {
    "duration": 52,
    "start_time": "2022-04-11T19:26:37.263Z"
   },
   {
    "duration": 20,
    "start_time": "2022-04-11T19:26:37.317Z"
   },
   {
    "duration": 3,
    "start_time": "2022-04-11T19:26:37.339Z"
   },
   {
    "duration": 6,
    "start_time": "2022-04-11T19:26:37.343Z"
   },
   {
    "duration": 30,
    "start_time": "2022-04-11T19:26:37.350Z"
   },
   {
    "duration": 29,
    "start_time": "2022-04-11T19:26:37.381Z"
   },
   {
    "duration": 23,
    "start_time": "2022-04-11T19:26:37.412Z"
   },
   {
    "duration": 18,
    "start_time": "2022-04-11T19:26:37.437Z"
   },
   {
    "duration": 20,
    "start_time": "2022-04-11T19:26:37.459Z"
   },
   {
    "duration": 64,
    "start_time": "2022-04-11T19:26:37.481Z"
   },
   {
    "duration": 11,
    "start_time": "2022-04-11T19:26:37.547Z"
   },
   {
    "duration": 6,
    "start_time": "2022-04-11T19:26:37.560Z"
   },
   {
    "duration": 41,
    "start_time": "2022-04-11T19:26:37.568Z"
   },
   {
    "duration": 5,
    "start_time": "2022-04-11T19:26:37.611Z"
   },
   {
    "duration": 5,
    "start_time": "2022-04-11T19:26:37.618Z"
   },
   {
    "duration": 12,
    "start_time": "2022-04-11T19:26:37.625Z"
   },
   {
    "duration": 6,
    "start_time": "2022-04-11T19:26:37.639Z"
   },
   {
    "duration": 65,
    "start_time": "2022-04-11T19:26:37.646Z"
   },
   {
    "duration": 4,
    "start_time": "2022-04-11T19:26:37.713Z"
   },
   {
    "duration": 6,
    "start_time": "2022-04-11T19:26:37.719Z"
   },
   {
    "duration": 5,
    "start_time": "2022-04-11T19:26:37.726Z"
   },
   {
    "duration": 6,
    "start_time": "2022-04-11T19:26:37.733Z"
   },
   {
    "duration": 6,
    "start_time": "2022-04-11T19:26:37.741Z"
   },
   {
    "duration": 229,
    "start_time": "2022-04-11T19:26:37.749Z"
   },
   {
    "duration": 64,
    "start_time": "2022-04-11T19:26:37.980Z"
   },
   {
    "duration": 159,
    "start_time": "2022-04-11T19:26:38.045Z"
   },
   {
    "duration": 168,
    "start_time": "2022-04-11T19:26:38.209Z"
   },
   {
    "duration": 141,
    "start_time": "2022-04-11T19:26:38.379Z"
   },
   {
    "duration": 7,
    "start_time": "2022-04-11T19:26:38.522Z"
   },
   {
    "duration": 156,
    "start_time": "2022-04-11T19:26:38.531Z"
   },
   {
    "duration": 144,
    "start_time": "2022-04-11T19:26:38.689Z"
   },
   {
    "duration": 148,
    "start_time": "2022-04-11T19:26:38.834Z"
   },
   {
    "duration": 5,
    "start_time": "2022-04-11T19:26:38.983Z"
   },
   {
    "duration": 19,
    "start_time": "2022-04-11T19:26:38.990Z"
   },
   {
    "duration": 9,
    "start_time": "2022-04-11T19:26:39.010Z"
   },
   {
    "duration": 6,
    "start_time": "2022-04-11T19:26:39.021Z"
   }
  ],
  "kernelspec": {
   "display_name": "Python 3 (ipykernel)",
   "language": "python",
   "name": "python3"
  },
  "language_info": {
   "codemirror_mode": {
    "name": "ipython",
    "version": 3
   },
   "file_extension": ".py",
   "mimetype": "text/x-python",
   "name": "python",
   "nbconvert_exporter": "python",
   "pygments_lexer": "ipython3",
   "version": "3.9.12"
  },
  "toc": {
   "base_numbering": 1,
   "nav_menu": {},
   "number_sections": true,
   "sideBar": true,
   "skip_h1_title": true,
   "title_cell": "Table of Contents",
   "title_sidebar": "Contents",
   "toc_cell": false,
   "toc_position": {},
   "toc_section_display": true,
   "toc_window_display": false
  }
 },
 "nbformat": 4,
 "nbformat_minor": 4
}
